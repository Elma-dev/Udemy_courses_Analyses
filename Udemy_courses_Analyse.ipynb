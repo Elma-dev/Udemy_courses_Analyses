{
  "nbformat": 4,
  "nbformat_minor": 0,
  "metadata": {
    "colab": {
      "provenance": [],
      "authorship_tag": "ABX9TyOCtBKhXNNDJBeYnJRVq7wa",
      "include_colab_link": true
    },
    "kernelspec": {
      "name": "python3",
      "display_name": "Python 3"
    },
    "language_info": {
      "name": "python"
    }
  },
  "cells": [
    {
      "cell_type": "markdown",
      "metadata": {
        "id": "view-in-github",
        "colab_type": "text"
      },
      "source": [
        "<a href=\"https://colab.research.google.com/github/Elma-dev/Udemy_courses_Analyses/blob/main/Udemy_courses_Analyse.ipynb\" target=\"_parent\"><img src=\"https://colab.research.google.com/assets/colab-badge.svg\" alt=\"Open In Colab\"/></a>"
      ]
    },
    {
      "cell_type": "code",
      "execution_count": null,
      "metadata": {
        "id": "pXd_7T_qRdl3",
        "colab": {
          "base_uri": "https://localhost:8080/",
          "height": 52
        },
        "outputId": "dbb13be2-33b4-40e0-d6d3-f604ea03049f"
      },
      "outputs": [
        {
          "output_type": "execute_result",
          "data": {
            "text/plain": [
              "<Figure size 1300x500 with 0 Axes>"
            ]
          },
          "metadata": {},
          "execution_count": 30
        },
        {
          "output_type": "display_data",
          "data": {
            "text/plain": [
              "<Figure size 1300x500 with 0 Axes>"
            ]
          },
          "metadata": {}
        }
      ],
      "source": [
        "import numpy as np\n",
        "import matplotlib.pyplot as plt\n",
        "import pandas as pd\n",
        "import seaborn as sns\n",
        "import plotly.express as px\n",
        "plt.figure(figsize=(13,5))"
      ]
    },
    {
      "cell_type": "markdown",
      "source": [
        "#**Load Data**"
      ],
      "metadata": {
        "id": "i2q57rXhSVYm"
      }
    },
    {
      "cell_type": "code",
      "source": [
        "udemy_data=pd.read_csv(\"udemy_courses-raw.csv\")"
      ],
      "metadata": {
        "id": "wnbnKgsKSR3o"
      },
      "execution_count": null,
      "outputs": []
    },
    {
      "cell_type": "code",
      "source": [
        "udemy_data.sample(5)"
      ],
      "metadata": {
        "colab": {
          "base_uri": "https://localhost:8080/",
          "height": 496
        },
        "id": "GwqiIZJUSdW1",
        "outputId": "c806e10c-56ee-40e7-a7b5-3c1641fde8bf"
      },
      "execution_count": null,
      "outputs": [
        {
          "output_type": "execute_result",
          "data": {
            "text/plain": [
              "      course_id                                       course_title  \\\n",
              "1958    1013762  Instant Harmonica - play Leonard Cohen's Halle...   \n",
              "513      513046  Learn The ABC's Of Investing And Understanding...   \n",
              "2971      72262                                      1 hour jQuery   \n",
              "790      355622  Trade Forex 13 Patterns - Golden Ratios Secret...   \n",
              "1011    1153854  Working Capital assessment for bankers, credit...   \n",
              "\n",
              "                                                    url  is_paid  price  \\\n",
              "1958  https://www.udemy.com/instant-harmonica-play-l...     True     40   \n",
              "513          https://www.udemy.com/investing-101-guide/     True     20   \n",
              "2971               https://www.udemy.com/1-hour-jquery/     True    100   \n",
              "790   https://www.udemy.com/forex-13-patterns-trade-...     True    200   \n",
              "1011  https://www.udemy.com/working-capital-assessme...     True     20   \n",
              "\n",
              "      num_subscribers  num_reviews  num_lectures           level  \\\n",
              "1958              100           15            14      All Levels   \n",
              "513                 3            0             8      All Levels   \n",
              "2971             5456          133            25  Beginner Level   \n",
              "790               554           63            44      All Levels   \n",
              "1011                4            0            29  Beginner Level   \n",
              "\n",
              "      content_duration   published_timestamp              subject  \n",
              "1958               1.5  2016-11-20T22:46:31Z  Musical Instruments  \n",
              "513                1.5  2015-06-01T22:47:06Z     Business Finance  \n",
              "2971               1.0  2013-08-03T14:20:52Z      Web Development  \n",
              "790                4.0  2015-01-10T13:49:22Z     Business Finance  \n",
              "1011               7.0  2017-04-06T23:30:07Z     Business Finance  "
            ],
            "text/html": [
              "\n",
              "  <div id=\"df-191799a4-8f65-4c0f-a6ef-b8925d8eb23d\">\n",
              "    <div class=\"colab-df-container\">\n",
              "      <div>\n",
              "<style scoped>\n",
              "    .dataframe tbody tr th:only-of-type {\n",
              "        vertical-align: middle;\n",
              "    }\n",
              "\n",
              "    .dataframe tbody tr th {\n",
              "        vertical-align: top;\n",
              "    }\n",
              "\n",
              "    .dataframe thead th {\n",
              "        text-align: right;\n",
              "    }\n",
              "</style>\n",
              "<table border=\"1\" class=\"dataframe\">\n",
              "  <thead>\n",
              "    <tr style=\"text-align: right;\">\n",
              "      <th></th>\n",
              "      <th>course_id</th>\n",
              "      <th>course_title</th>\n",
              "      <th>url</th>\n",
              "      <th>is_paid</th>\n",
              "      <th>price</th>\n",
              "      <th>num_subscribers</th>\n",
              "      <th>num_reviews</th>\n",
              "      <th>num_lectures</th>\n",
              "      <th>level</th>\n",
              "      <th>content_duration</th>\n",
              "      <th>published_timestamp</th>\n",
              "      <th>subject</th>\n",
              "    </tr>\n",
              "  </thead>\n",
              "  <tbody>\n",
              "    <tr>\n",
              "      <th>1958</th>\n",
              "      <td>1013762</td>\n",
              "      <td>Instant Harmonica - play Leonard Cohen's Halle...</td>\n",
              "      <td>https://www.udemy.com/instant-harmonica-play-l...</td>\n",
              "      <td>True</td>\n",
              "      <td>40</td>\n",
              "      <td>100</td>\n",
              "      <td>15</td>\n",
              "      <td>14</td>\n",
              "      <td>All Levels</td>\n",
              "      <td>1.5</td>\n",
              "      <td>2016-11-20T22:46:31Z</td>\n",
              "      <td>Musical Instruments</td>\n",
              "    </tr>\n",
              "    <tr>\n",
              "      <th>513</th>\n",
              "      <td>513046</td>\n",
              "      <td>Learn The ABC's Of Investing And Understanding...</td>\n",
              "      <td>https://www.udemy.com/investing-101-guide/</td>\n",
              "      <td>True</td>\n",
              "      <td>20</td>\n",
              "      <td>3</td>\n",
              "      <td>0</td>\n",
              "      <td>8</td>\n",
              "      <td>All Levels</td>\n",
              "      <td>1.5</td>\n",
              "      <td>2015-06-01T22:47:06Z</td>\n",
              "      <td>Business Finance</td>\n",
              "    </tr>\n",
              "    <tr>\n",
              "      <th>2971</th>\n",
              "      <td>72262</td>\n",
              "      <td>1 hour jQuery</td>\n",
              "      <td>https://www.udemy.com/1-hour-jquery/</td>\n",
              "      <td>True</td>\n",
              "      <td>100</td>\n",
              "      <td>5456</td>\n",
              "      <td>133</td>\n",
              "      <td>25</td>\n",
              "      <td>Beginner Level</td>\n",
              "      <td>1.0</td>\n",
              "      <td>2013-08-03T14:20:52Z</td>\n",
              "      <td>Web Development</td>\n",
              "    </tr>\n",
              "    <tr>\n",
              "      <th>790</th>\n",
              "      <td>355622</td>\n",
              "      <td>Trade Forex 13 Patterns - Golden Ratios Secret...</td>\n",
              "      <td>https://www.udemy.com/forex-13-patterns-trade-...</td>\n",
              "      <td>True</td>\n",
              "      <td>200</td>\n",
              "      <td>554</td>\n",
              "      <td>63</td>\n",
              "      <td>44</td>\n",
              "      <td>All Levels</td>\n",
              "      <td>4.0</td>\n",
              "      <td>2015-01-10T13:49:22Z</td>\n",
              "      <td>Business Finance</td>\n",
              "    </tr>\n",
              "    <tr>\n",
              "      <th>1011</th>\n",
              "      <td>1153854</td>\n",
              "      <td>Working Capital assessment for bankers, credit...</td>\n",
              "      <td>https://www.udemy.com/working-capital-assessme...</td>\n",
              "      <td>True</td>\n",
              "      <td>20</td>\n",
              "      <td>4</td>\n",
              "      <td>0</td>\n",
              "      <td>29</td>\n",
              "      <td>Beginner Level</td>\n",
              "      <td>7.0</td>\n",
              "      <td>2017-04-06T23:30:07Z</td>\n",
              "      <td>Business Finance</td>\n",
              "    </tr>\n",
              "  </tbody>\n",
              "</table>\n",
              "</div>\n",
              "      <button class=\"colab-df-convert\" onclick=\"convertToInteractive('df-191799a4-8f65-4c0f-a6ef-b8925d8eb23d')\"\n",
              "              title=\"Convert this dataframe to an interactive table.\"\n",
              "              style=\"display:none;\">\n",
              "        \n",
              "  <svg xmlns=\"http://www.w3.org/2000/svg\" height=\"24px\"viewBox=\"0 0 24 24\"\n",
              "       width=\"24px\">\n",
              "    <path d=\"M0 0h24v24H0V0z\" fill=\"none\"/>\n",
              "    <path d=\"M18.56 5.44l.94 2.06.94-2.06 2.06-.94-2.06-.94-.94-2.06-.94 2.06-2.06.94zm-11 1L8.5 8.5l.94-2.06 2.06-.94-2.06-.94L8.5 2.5l-.94 2.06-2.06.94zm10 10l.94 2.06.94-2.06 2.06-.94-2.06-.94-.94-2.06-.94 2.06-2.06.94z\"/><path d=\"M17.41 7.96l-1.37-1.37c-.4-.4-.92-.59-1.43-.59-.52 0-1.04.2-1.43.59L10.3 9.45l-7.72 7.72c-.78.78-.78 2.05 0 2.83L4 21.41c.39.39.9.59 1.41.59.51 0 1.02-.2 1.41-.59l7.78-7.78 2.81-2.81c.8-.78.8-2.07 0-2.86zM5.41 20L4 18.59l7.72-7.72 1.47 1.35L5.41 20z\"/>\n",
              "  </svg>\n",
              "      </button>\n",
              "      \n",
              "  <style>\n",
              "    .colab-df-container {\n",
              "      display:flex;\n",
              "      flex-wrap:wrap;\n",
              "      gap: 12px;\n",
              "    }\n",
              "\n",
              "    .colab-df-convert {\n",
              "      background-color: #E8F0FE;\n",
              "      border: none;\n",
              "      border-radius: 50%;\n",
              "      cursor: pointer;\n",
              "      display: none;\n",
              "      fill: #1967D2;\n",
              "      height: 32px;\n",
              "      padding: 0 0 0 0;\n",
              "      width: 32px;\n",
              "    }\n",
              "\n",
              "    .colab-df-convert:hover {\n",
              "      background-color: #E2EBFA;\n",
              "      box-shadow: 0px 1px 2px rgba(60, 64, 67, 0.3), 0px 1px 3px 1px rgba(60, 64, 67, 0.15);\n",
              "      fill: #174EA6;\n",
              "    }\n",
              "\n",
              "    [theme=dark] .colab-df-convert {\n",
              "      background-color: #3B4455;\n",
              "      fill: #D2E3FC;\n",
              "    }\n",
              "\n",
              "    [theme=dark] .colab-df-convert:hover {\n",
              "      background-color: #434B5C;\n",
              "      box-shadow: 0px 1px 3px 1px rgba(0, 0, 0, 0.15);\n",
              "      filter: drop-shadow(0px 1px 2px rgba(0, 0, 0, 0.3));\n",
              "      fill: #FFFFFF;\n",
              "    }\n",
              "  </style>\n",
              "\n",
              "      <script>\n",
              "        const buttonEl =\n",
              "          document.querySelector('#df-191799a4-8f65-4c0f-a6ef-b8925d8eb23d button.colab-df-convert');\n",
              "        buttonEl.style.display =\n",
              "          google.colab.kernel.accessAllowed ? 'block' : 'none';\n",
              "\n",
              "        async function convertToInteractive(key) {\n",
              "          const element = document.querySelector('#df-191799a4-8f65-4c0f-a6ef-b8925d8eb23d');\n",
              "          const dataTable =\n",
              "            await google.colab.kernel.invokeFunction('convertToInteractive',\n",
              "                                                     [key], {});\n",
              "          if (!dataTable) return;\n",
              "\n",
              "          const docLinkHtml = 'Like what you see? Visit the ' +\n",
              "            '<a target=\"_blank\" href=https://colab.research.google.com/notebooks/data_table.ipynb>data table notebook</a>'\n",
              "            + ' to learn more about interactive tables.';\n",
              "          element.innerHTML = '';\n",
              "          dataTable['output_type'] = 'display_data';\n",
              "          await google.colab.output.renderOutput(dataTable, element);\n",
              "          const docLink = document.createElement('div');\n",
              "          docLink.innerHTML = docLinkHtml;\n",
              "          element.appendChild(docLink);\n",
              "        }\n",
              "      </script>\n",
              "    </div>\n",
              "  </div>\n",
              "  "
            ]
          },
          "metadata": {},
          "execution_count": 3
        }
      ]
    },
    {
      "cell_type": "code",
      "source": [
        "udemy_data=udemy_data.drop(['course_id','course_title','url'],axis=1)\n",
        "udemy_data"
      ],
      "metadata": {
        "colab": {
          "base_uri": "https://localhost:8080/",
          "height": 467
        },
        "id": "niwjnrlwSrab",
        "outputId": "59b8d77c-5a6a-4315-87cc-01d9797f497f"
      },
      "execution_count": null,
      "outputs": [
        {
          "output_type": "execute_result",
          "data": {
            "text/plain": [
              "      is_paid  price  num_subscribers  num_reviews  num_lectures  \\\n",
              "0        True    200             2147           23            51   \n",
              "1        True     75             2792          923           274   \n",
              "2        True     45             2174           74            51   \n",
              "3        True     95             2451           11            36   \n",
              "4        True    200             1276           45            26   \n",
              "...       ...    ...              ...          ...           ...   \n",
              "3673     True    100             1040           14            21   \n",
              "3674     True     25              306            3            42   \n",
              "3675     True     40              513          169            48   \n",
              "3676     True     50              300           31            38   \n",
              "3677     True     45              901           36            20   \n",
              "\n",
              "                   level  content_duration   published_timestamp  \\\n",
              "0             All Levels               1.5  2017-01-18T20:58:58Z   \n",
              "1             All Levels              39.0  2017-03-09T16:34:20Z   \n",
              "2     Intermediate Level               2.5  2016-12-19T19:26:30Z   \n",
              "3             All Levels               3.0  2017-05-30T20:07:24Z   \n",
              "4     Intermediate Level               2.0  2016-12-13T14:57:18Z   \n",
              "...                  ...               ...                   ...   \n",
              "3673          All Levels               2.0  2016-06-14T17:36:46Z   \n",
              "3674      Beginner Level               3.5  2017-03-10T22:24:30Z   \n",
              "3675          All Levels               3.5  2015-12-30T16:41:42Z   \n",
              "3676          All Levels               3.0  2016-08-11T19:06:15Z   \n",
              "3677      Beginner Level               2.0  2014-09-28T19:51:11Z   \n",
              "\n",
              "               subject  \n",
              "0     Business Finance  \n",
              "1     Business Finance  \n",
              "2     Business Finance  \n",
              "3     Business Finance  \n",
              "4     Business Finance  \n",
              "...                ...  \n",
              "3673   Web Development  \n",
              "3674   Web Development  \n",
              "3675   Web Development  \n",
              "3676   Web Development  \n",
              "3677   Web Development  \n",
              "\n",
              "[3678 rows x 9 columns]"
            ],
            "text/html": [
              "\n",
              "  <div id=\"df-83fb2979-fff3-4bd9-bebb-e6cc1a6770e8\">\n",
              "    <div class=\"colab-df-container\">\n",
              "      <div>\n",
              "<style scoped>\n",
              "    .dataframe tbody tr th:only-of-type {\n",
              "        vertical-align: middle;\n",
              "    }\n",
              "\n",
              "    .dataframe tbody tr th {\n",
              "        vertical-align: top;\n",
              "    }\n",
              "\n",
              "    .dataframe thead th {\n",
              "        text-align: right;\n",
              "    }\n",
              "</style>\n",
              "<table border=\"1\" class=\"dataframe\">\n",
              "  <thead>\n",
              "    <tr style=\"text-align: right;\">\n",
              "      <th></th>\n",
              "      <th>is_paid</th>\n",
              "      <th>price</th>\n",
              "      <th>num_subscribers</th>\n",
              "      <th>num_reviews</th>\n",
              "      <th>num_lectures</th>\n",
              "      <th>level</th>\n",
              "      <th>content_duration</th>\n",
              "      <th>published_timestamp</th>\n",
              "      <th>subject</th>\n",
              "    </tr>\n",
              "  </thead>\n",
              "  <tbody>\n",
              "    <tr>\n",
              "      <th>0</th>\n",
              "      <td>True</td>\n",
              "      <td>200</td>\n",
              "      <td>2147</td>\n",
              "      <td>23</td>\n",
              "      <td>51</td>\n",
              "      <td>All Levels</td>\n",
              "      <td>1.5</td>\n",
              "      <td>2017-01-18T20:58:58Z</td>\n",
              "      <td>Business Finance</td>\n",
              "    </tr>\n",
              "    <tr>\n",
              "      <th>1</th>\n",
              "      <td>True</td>\n",
              "      <td>75</td>\n",
              "      <td>2792</td>\n",
              "      <td>923</td>\n",
              "      <td>274</td>\n",
              "      <td>All Levels</td>\n",
              "      <td>39.0</td>\n",
              "      <td>2017-03-09T16:34:20Z</td>\n",
              "      <td>Business Finance</td>\n",
              "    </tr>\n",
              "    <tr>\n",
              "      <th>2</th>\n",
              "      <td>True</td>\n",
              "      <td>45</td>\n",
              "      <td>2174</td>\n",
              "      <td>74</td>\n",
              "      <td>51</td>\n",
              "      <td>Intermediate Level</td>\n",
              "      <td>2.5</td>\n",
              "      <td>2016-12-19T19:26:30Z</td>\n",
              "      <td>Business Finance</td>\n",
              "    </tr>\n",
              "    <tr>\n",
              "      <th>3</th>\n",
              "      <td>True</td>\n",
              "      <td>95</td>\n",
              "      <td>2451</td>\n",
              "      <td>11</td>\n",
              "      <td>36</td>\n",
              "      <td>All Levels</td>\n",
              "      <td>3.0</td>\n",
              "      <td>2017-05-30T20:07:24Z</td>\n",
              "      <td>Business Finance</td>\n",
              "    </tr>\n",
              "    <tr>\n",
              "      <th>4</th>\n",
              "      <td>True</td>\n",
              "      <td>200</td>\n",
              "      <td>1276</td>\n",
              "      <td>45</td>\n",
              "      <td>26</td>\n",
              "      <td>Intermediate Level</td>\n",
              "      <td>2.0</td>\n",
              "      <td>2016-12-13T14:57:18Z</td>\n",
              "      <td>Business Finance</td>\n",
              "    </tr>\n",
              "    <tr>\n",
              "      <th>...</th>\n",
              "      <td>...</td>\n",
              "      <td>...</td>\n",
              "      <td>...</td>\n",
              "      <td>...</td>\n",
              "      <td>...</td>\n",
              "      <td>...</td>\n",
              "      <td>...</td>\n",
              "      <td>...</td>\n",
              "      <td>...</td>\n",
              "    </tr>\n",
              "    <tr>\n",
              "      <th>3673</th>\n",
              "      <td>True</td>\n",
              "      <td>100</td>\n",
              "      <td>1040</td>\n",
              "      <td>14</td>\n",
              "      <td>21</td>\n",
              "      <td>All Levels</td>\n",
              "      <td>2.0</td>\n",
              "      <td>2016-06-14T17:36:46Z</td>\n",
              "      <td>Web Development</td>\n",
              "    </tr>\n",
              "    <tr>\n",
              "      <th>3674</th>\n",
              "      <td>True</td>\n",
              "      <td>25</td>\n",
              "      <td>306</td>\n",
              "      <td>3</td>\n",
              "      <td>42</td>\n",
              "      <td>Beginner Level</td>\n",
              "      <td>3.5</td>\n",
              "      <td>2017-03-10T22:24:30Z</td>\n",
              "      <td>Web Development</td>\n",
              "    </tr>\n",
              "    <tr>\n",
              "      <th>3675</th>\n",
              "      <td>True</td>\n",
              "      <td>40</td>\n",
              "      <td>513</td>\n",
              "      <td>169</td>\n",
              "      <td>48</td>\n",
              "      <td>All Levels</td>\n",
              "      <td>3.5</td>\n",
              "      <td>2015-12-30T16:41:42Z</td>\n",
              "      <td>Web Development</td>\n",
              "    </tr>\n",
              "    <tr>\n",
              "      <th>3676</th>\n",
              "      <td>True</td>\n",
              "      <td>50</td>\n",
              "      <td>300</td>\n",
              "      <td>31</td>\n",
              "      <td>38</td>\n",
              "      <td>All Levels</td>\n",
              "      <td>3.0</td>\n",
              "      <td>2016-08-11T19:06:15Z</td>\n",
              "      <td>Web Development</td>\n",
              "    </tr>\n",
              "    <tr>\n",
              "      <th>3677</th>\n",
              "      <td>True</td>\n",
              "      <td>45</td>\n",
              "      <td>901</td>\n",
              "      <td>36</td>\n",
              "      <td>20</td>\n",
              "      <td>Beginner Level</td>\n",
              "      <td>2.0</td>\n",
              "      <td>2014-09-28T19:51:11Z</td>\n",
              "      <td>Web Development</td>\n",
              "    </tr>\n",
              "  </tbody>\n",
              "</table>\n",
              "<p>3678 rows × 9 columns</p>\n",
              "</div>\n",
              "      <button class=\"colab-df-convert\" onclick=\"convertToInteractive('df-83fb2979-fff3-4bd9-bebb-e6cc1a6770e8')\"\n",
              "              title=\"Convert this dataframe to an interactive table.\"\n",
              "              style=\"display:none;\">\n",
              "        \n",
              "  <svg xmlns=\"http://www.w3.org/2000/svg\" height=\"24px\"viewBox=\"0 0 24 24\"\n",
              "       width=\"24px\">\n",
              "    <path d=\"M0 0h24v24H0V0z\" fill=\"none\"/>\n",
              "    <path d=\"M18.56 5.44l.94 2.06.94-2.06 2.06-.94-2.06-.94-.94-2.06-.94 2.06-2.06.94zm-11 1L8.5 8.5l.94-2.06 2.06-.94-2.06-.94L8.5 2.5l-.94 2.06-2.06.94zm10 10l.94 2.06.94-2.06 2.06-.94-2.06-.94-.94-2.06-.94 2.06-2.06.94z\"/><path d=\"M17.41 7.96l-1.37-1.37c-.4-.4-.92-.59-1.43-.59-.52 0-1.04.2-1.43.59L10.3 9.45l-7.72 7.72c-.78.78-.78 2.05 0 2.83L4 21.41c.39.39.9.59 1.41.59.51 0 1.02-.2 1.41-.59l7.78-7.78 2.81-2.81c.8-.78.8-2.07 0-2.86zM5.41 20L4 18.59l7.72-7.72 1.47 1.35L5.41 20z\"/>\n",
              "  </svg>\n",
              "      </button>\n",
              "      \n",
              "  <style>\n",
              "    .colab-df-container {\n",
              "      display:flex;\n",
              "      flex-wrap:wrap;\n",
              "      gap: 12px;\n",
              "    }\n",
              "\n",
              "    .colab-df-convert {\n",
              "      background-color: #E8F0FE;\n",
              "      border: none;\n",
              "      border-radius: 50%;\n",
              "      cursor: pointer;\n",
              "      display: none;\n",
              "      fill: #1967D2;\n",
              "      height: 32px;\n",
              "      padding: 0 0 0 0;\n",
              "      width: 32px;\n",
              "    }\n",
              "\n",
              "    .colab-df-convert:hover {\n",
              "      background-color: #E2EBFA;\n",
              "      box-shadow: 0px 1px 2px rgba(60, 64, 67, 0.3), 0px 1px 3px 1px rgba(60, 64, 67, 0.15);\n",
              "      fill: #174EA6;\n",
              "    }\n",
              "\n",
              "    [theme=dark] .colab-df-convert {\n",
              "      background-color: #3B4455;\n",
              "      fill: #D2E3FC;\n",
              "    }\n",
              "\n",
              "    [theme=dark] .colab-df-convert:hover {\n",
              "      background-color: #434B5C;\n",
              "      box-shadow: 0px 1px 3px 1px rgba(0, 0, 0, 0.15);\n",
              "      filter: drop-shadow(0px 1px 2px rgba(0, 0, 0, 0.3));\n",
              "      fill: #FFFFFF;\n",
              "    }\n",
              "  </style>\n",
              "\n",
              "      <script>\n",
              "        const buttonEl =\n",
              "          document.querySelector('#df-83fb2979-fff3-4bd9-bebb-e6cc1a6770e8 button.colab-df-convert');\n",
              "        buttonEl.style.display =\n",
              "          google.colab.kernel.accessAllowed ? 'block' : 'none';\n",
              "\n",
              "        async function convertToInteractive(key) {\n",
              "          const element = document.querySelector('#df-83fb2979-fff3-4bd9-bebb-e6cc1a6770e8');\n",
              "          const dataTable =\n",
              "            await google.colab.kernel.invokeFunction('convertToInteractive',\n",
              "                                                     [key], {});\n",
              "          if (!dataTable) return;\n",
              "\n",
              "          const docLinkHtml = 'Like what you see? Visit the ' +\n",
              "            '<a target=\"_blank\" href=https://colab.research.google.com/notebooks/data_table.ipynb>data table notebook</a>'\n",
              "            + ' to learn more about interactive tables.';\n",
              "          element.innerHTML = '';\n",
              "          dataTable['output_type'] = 'display_data';\n",
              "          await google.colab.output.renderOutput(dataTable, element);\n",
              "          const docLink = document.createElement('div');\n",
              "          docLink.innerHTML = docLinkHtml;\n",
              "          element.appendChild(docLink);\n",
              "        }\n",
              "      </script>\n",
              "    </div>\n",
              "  </div>\n",
              "  "
            ]
          },
          "metadata": {},
          "execution_count": 4
        }
      ]
    },
    {
      "cell_type": "code",
      "source": [
        "udemy_data.info()"
      ],
      "metadata": {
        "colab": {
          "base_uri": "https://localhost:8080/"
        },
        "id": "nmpete5BTLDR",
        "outputId": "6f399da2-5663-4480-fa51-2a7ace2006d7"
      },
      "execution_count": null,
      "outputs": [
        {
          "output_type": "stream",
          "name": "stdout",
          "text": [
            "<class 'pandas.core.frame.DataFrame'>\n",
            "RangeIndex: 3678 entries, 0 to 3677\n",
            "Data columns (total 9 columns):\n",
            " #   Column               Non-Null Count  Dtype  \n",
            "---  ------               --------------  -----  \n",
            " 0   is_paid              3678 non-null   bool   \n",
            " 1   price                3678 non-null   int64  \n",
            " 2   num_subscribers      3678 non-null   int64  \n",
            " 3   num_reviews          3678 non-null   int64  \n",
            " 4   num_lectures         3678 non-null   int64  \n",
            " 5   level                3678 non-null   object \n",
            " 6   content_duration     3678 non-null   float64\n",
            " 7   published_timestamp  3678 non-null   object \n",
            " 8   subject              3678 non-null   object \n",
            "dtypes: bool(1), float64(1), int64(4), object(3)\n",
            "memory usage: 233.6+ KB\n"
          ]
        }
      ]
    },
    {
      "cell_type": "markdown",
      "source": [
        "#**Analyse**"
      ],
      "metadata": {
        "id": "m_ntqzSVUTRv"
      }
    },
    {
      "cell_type": "markdown",
      "source": [
        "## <center>**Is_Paide**</center>"
      ],
      "metadata": {
        "id": "fha6xAUjeGnY"
      }
    },
    {
      "cell_type": "code",
      "source": [
        "#is_paid feature\n",
        "px.pie(data_frame=udemy_data.groupby('is_paid').count().reset_index(),names='is_paid',values='price',title='Paid Vs notPaid')"
      ],
      "metadata": {
        "colab": {
          "base_uri": "https://localhost:8080/",
          "height": 542
        },
        "id": "FmlHWedZazwB",
        "outputId": "eb52f645-27d1-4535-89be-f1ef88b73edf"
      },
      "execution_count": null,
      "outputs": [
        {
          "output_type": "display_data",
          "data": {
            "text/html": [
              "<html>\n",
              "<head><meta charset=\"utf-8\" /></head>\n",
              "<body>\n",
              "    <div>            <script src=\"https://cdnjs.cloudflare.com/ajax/libs/mathjax/2.7.5/MathJax.js?config=TeX-AMS-MML_SVG\"></script><script type=\"text/javascript\">if (window.MathJax && window.MathJax.Hub && window.MathJax.Hub.Config) {window.MathJax.Hub.Config({SVG: {font: \"STIX-Web\"}});}</script>                <script type=\"text/javascript\">window.PlotlyConfig = {MathJaxConfig: 'local'};</script>\n",
              "        <script src=\"https://cdn.plot.ly/plotly-2.18.2.min.js\"></script>                <div id=\"d5910a57-55a2-4896-8eb0-2fbe3601fb48\" class=\"plotly-graph-div\" style=\"height:525px; width:100%;\"></div>            <script type=\"text/javascript\">                                    window.PLOTLYENV=window.PLOTLYENV || {};                                    if (document.getElementById(\"d5910a57-55a2-4896-8eb0-2fbe3601fb48\")) {                    Plotly.newPlot(                        \"d5910a57-55a2-4896-8eb0-2fbe3601fb48\",                        [{\"domain\":{\"x\":[0.0,1.0],\"y\":[0.0,1.0]},\"hovertemplate\":\"is_paid=%{label}<br>price=%{value}<extra></extra>\",\"labels\":[false,true],\"legendgroup\":\"\",\"name\":\"\",\"showlegend\":true,\"values\":[310,3368],\"type\":\"pie\"}],                        {\"template\":{\"data\":{\"histogram2dcontour\":[{\"type\":\"histogram2dcontour\",\"colorbar\":{\"outlinewidth\":0,\"ticks\":\"\"},\"colorscale\":[[0.0,\"#0d0887\"],[0.1111111111111111,\"#46039f\"],[0.2222222222222222,\"#7201a8\"],[0.3333333333333333,\"#9c179e\"],[0.4444444444444444,\"#bd3786\"],[0.5555555555555556,\"#d8576b\"],[0.6666666666666666,\"#ed7953\"],[0.7777777777777778,\"#fb9f3a\"],[0.8888888888888888,\"#fdca26\"],[1.0,\"#f0f921\"]]}],\"choropleth\":[{\"type\":\"choropleth\",\"colorbar\":{\"outlinewidth\":0,\"ticks\":\"\"}}],\"histogram2d\":[{\"type\":\"histogram2d\",\"colorbar\":{\"outlinewidth\":0,\"ticks\":\"\"},\"colorscale\":[[0.0,\"#0d0887\"],[0.1111111111111111,\"#46039f\"],[0.2222222222222222,\"#7201a8\"],[0.3333333333333333,\"#9c179e\"],[0.4444444444444444,\"#bd3786\"],[0.5555555555555556,\"#d8576b\"],[0.6666666666666666,\"#ed7953\"],[0.7777777777777778,\"#fb9f3a\"],[0.8888888888888888,\"#fdca26\"],[1.0,\"#f0f921\"]]}],\"heatmap\":[{\"type\":\"heatmap\",\"colorbar\":{\"outlinewidth\":0,\"ticks\":\"\"},\"colorscale\":[[0.0,\"#0d0887\"],[0.1111111111111111,\"#46039f\"],[0.2222222222222222,\"#7201a8\"],[0.3333333333333333,\"#9c179e\"],[0.4444444444444444,\"#bd3786\"],[0.5555555555555556,\"#d8576b\"],[0.6666666666666666,\"#ed7953\"],[0.7777777777777778,\"#fb9f3a\"],[0.8888888888888888,\"#fdca26\"],[1.0,\"#f0f921\"]]}],\"heatmapgl\":[{\"type\":\"heatmapgl\",\"colorbar\":{\"outlinewidth\":0,\"ticks\":\"\"},\"colorscale\":[[0.0,\"#0d0887\"],[0.1111111111111111,\"#46039f\"],[0.2222222222222222,\"#7201a8\"],[0.3333333333333333,\"#9c179e\"],[0.4444444444444444,\"#bd3786\"],[0.5555555555555556,\"#d8576b\"],[0.6666666666666666,\"#ed7953\"],[0.7777777777777778,\"#fb9f3a\"],[0.8888888888888888,\"#fdca26\"],[1.0,\"#f0f921\"]]}],\"contourcarpet\":[{\"type\":\"contourcarpet\",\"colorbar\":{\"outlinewidth\":0,\"ticks\":\"\"}}],\"contour\":[{\"type\":\"contour\",\"colorbar\":{\"outlinewidth\":0,\"ticks\":\"\"},\"colorscale\":[[0.0,\"#0d0887\"],[0.1111111111111111,\"#46039f\"],[0.2222222222222222,\"#7201a8\"],[0.3333333333333333,\"#9c179e\"],[0.4444444444444444,\"#bd3786\"],[0.5555555555555556,\"#d8576b\"],[0.6666666666666666,\"#ed7953\"],[0.7777777777777778,\"#fb9f3a\"],[0.8888888888888888,\"#fdca26\"],[1.0,\"#f0f921\"]]}],\"surface\":[{\"type\":\"surface\",\"colorbar\":{\"outlinewidth\":0,\"ticks\":\"\"},\"colorscale\":[[0.0,\"#0d0887\"],[0.1111111111111111,\"#46039f\"],[0.2222222222222222,\"#7201a8\"],[0.3333333333333333,\"#9c179e\"],[0.4444444444444444,\"#bd3786\"],[0.5555555555555556,\"#d8576b\"],[0.6666666666666666,\"#ed7953\"],[0.7777777777777778,\"#fb9f3a\"],[0.8888888888888888,\"#fdca26\"],[1.0,\"#f0f921\"]]}],\"mesh3d\":[{\"type\":\"mesh3d\",\"colorbar\":{\"outlinewidth\":0,\"ticks\":\"\"}}],\"scatter\":[{\"fillpattern\":{\"fillmode\":\"overlay\",\"size\":10,\"solidity\":0.2},\"type\":\"scatter\"}],\"parcoords\":[{\"type\":\"parcoords\",\"line\":{\"colorbar\":{\"outlinewidth\":0,\"ticks\":\"\"}}}],\"scatterpolargl\":[{\"type\":\"scatterpolargl\",\"marker\":{\"colorbar\":{\"outlinewidth\":0,\"ticks\":\"\"}}}],\"bar\":[{\"error_x\":{\"color\":\"#2a3f5f\"},\"error_y\":{\"color\":\"#2a3f5f\"},\"marker\":{\"line\":{\"color\":\"#E5ECF6\",\"width\":0.5},\"pattern\":{\"fillmode\":\"overlay\",\"size\":10,\"solidity\":0.2}},\"type\":\"bar\"}],\"scattergeo\":[{\"type\":\"scattergeo\",\"marker\":{\"colorbar\":{\"outlinewidth\":0,\"ticks\":\"\"}}}],\"scatterpolar\":[{\"type\":\"scatterpolar\",\"marker\":{\"colorbar\":{\"outlinewidth\":0,\"ticks\":\"\"}}}],\"histogram\":[{\"marker\":{\"pattern\":{\"fillmode\":\"overlay\",\"size\":10,\"solidity\":0.2}},\"type\":\"histogram\"}],\"scattergl\":[{\"type\":\"scattergl\",\"marker\":{\"colorbar\":{\"outlinewidth\":0,\"ticks\":\"\"}}}],\"scatter3d\":[{\"type\":\"scatter3d\",\"line\":{\"colorbar\":{\"outlinewidth\":0,\"ticks\":\"\"}},\"marker\":{\"colorbar\":{\"outlinewidth\":0,\"ticks\":\"\"}}}],\"scattermapbox\":[{\"type\":\"scattermapbox\",\"marker\":{\"colorbar\":{\"outlinewidth\":0,\"ticks\":\"\"}}}],\"scatterternary\":[{\"type\":\"scatterternary\",\"marker\":{\"colorbar\":{\"outlinewidth\":0,\"ticks\":\"\"}}}],\"scattercarpet\":[{\"type\":\"scattercarpet\",\"marker\":{\"colorbar\":{\"outlinewidth\":0,\"ticks\":\"\"}}}],\"carpet\":[{\"aaxis\":{\"endlinecolor\":\"#2a3f5f\",\"gridcolor\":\"white\",\"linecolor\":\"white\",\"minorgridcolor\":\"white\",\"startlinecolor\":\"#2a3f5f\"},\"baxis\":{\"endlinecolor\":\"#2a3f5f\",\"gridcolor\":\"white\",\"linecolor\":\"white\",\"minorgridcolor\":\"white\",\"startlinecolor\":\"#2a3f5f\"},\"type\":\"carpet\"}],\"table\":[{\"cells\":{\"fill\":{\"color\":\"#EBF0F8\"},\"line\":{\"color\":\"white\"}},\"header\":{\"fill\":{\"color\":\"#C8D4E3\"},\"line\":{\"color\":\"white\"}},\"type\":\"table\"}],\"barpolar\":[{\"marker\":{\"line\":{\"color\":\"#E5ECF6\",\"width\":0.5},\"pattern\":{\"fillmode\":\"overlay\",\"size\":10,\"solidity\":0.2}},\"type\":\"barpolar\"}],\"pie\":[{\"automargin\":true,\"type\":\"pie\"}]},\"layout\":{\"autotypenumbers\":\"strict\",\"colorway\":[\"#636efa\",\"#EF553B\",\"#00cc96\",\"#ab63fa\",\"#FFA15A\",\"#19d3f3\",\"#FF6692\",\"#B6E880\",\"#FF97FF\",\"#FECB52\"],\"font\":{\"color\":\"#2a3f5f\"},\"hovermode\":\"closest\",\"hoverlabel\":{\"align\":\"left\"},\"paper_bgcolor\":\"white\",\"plot_bgcolor\":\"#E5ECF6\",\"polar\":{\"bgcolor\":\"#E5ECF6\",\"angularaxis\":{\"gridcolor\":\"white\",\"linecolor\":\"white\",\"ticks\":\"\"},\"radialaxis\":{\"gridcolor\":\"white\",\"linecolor\":\"white\",\"ticks\":\"\"}},\"ternary\":{\"bgcolor\":\"#E5ECF6\",\"aaxis\":{\"gridcolor\":\"white\",\"linecolor\":\"white\",\"ticks\":\"\"},\"baxis\":{\"gridcolor\":\"white\",\"linecolor\":\"white\",\"ticks\":\"\"},\"caxis\":{\"gridcolor\":\"white\",\"linecolor\":\"white\",\"ticks\":\"\"}},\"coloraxis\":{\"colorbar\":{\"outlinewidth\":0,\"ticks\":\"\"}},\"colorscale\":{\"sequential\":[[0.0,\"#0d0887\"],[0.1111111111111111,\"#46039f\"],[0.2222222222222222,\"#7201a8\"],[0.3333333333333333,\"#9c179e\"],[0.4444444444444444,\"#bd3786\"],[0.5555555555555556,\"#d8576b\"],[0.6666666666666666,\"#ed7953\"],[0.7777777777777778,\"#fb9f3a\"],[0.8888888888888888,\"#fdca26\"],[1.0,\"#f0f921\"]],\"sequentialminus\":[[0.0,\"#0d0887\"],[0.1111111111111111,\"#46039f\"],[0.2222222222222222,\"#7201a8\"],[0.3333333333333333,\"#9c179e\"],[0.4444444444444444,\"#bd3786\"],[0.5555555555555556,\"#d8576b\"],[0.6666666666666666,\"#ed7953\"],[0.7777777777777778,\"#fb9f3a\"],[0.8888888888888888,\"#fdca26\"],[1.0,\"#f0f921\"]],\"diverging\":[[0,\"#8e0152\"],[0.1,\"#c51b7d\"],[0.2,\"#de77ae\"],[0.3,\"#f1b6da\"],[0.4,\"#fde0ef\"],[0.5,\"#f7f7f7\"],[0.6,\"#e6f5d0\"],[0.7,\"#b8e186\"],[0.8,\"#7fbc41\"],[0.9,\"#4d9221\"],[1,\"#276419\"]]},\"xaxis\":{\"gridcolor\":\"white\",\"linecolor\":\"white\",\"ticks\":\"\",\"title\":{\"standoff\":15},\"zerolinecolor\":\"white\",\"automargin\":true,\"zerolinewidth\":2},\"yaxis\":{\"gridcolor\":\"white\",\"linecolor\":\"white\",\"ticks\":\"\",\"title\":{\"standoff\":15},\"zerolinecolor\":\"white\",\"automargin\":true,\"zerolinewidth\":2},\"scene\":{\"xaxis\":{\"backgroundcolor\":\"#E5ECF6\",\"gridcolor\":\"white\",\"linecolor\":\"white\",\"showbackground\":true,\"ticks\":\"\",\"zerolinecolor\":\"white\",\"gridwidth\":2},\"yaxis\":{\"backgroundcolor\":\"#E5ECF6\",\"gridcolor\":\"white\",\"linecolor\":\"white\",\"showbackground\":true,\"ticks\":\"\",\"zerolinecolor\":\"white\",\"gridwidth\":2},\"zaxis\":{\"backgroundcolor\":\"#E5ECF6\",\"gridcolor\":\"white\",\"linecolor\":\"white\",\"showbackground\":true,\"ticks\":\"\",\"zerolinecolor\":\"white\",\"gridwidth\":2}},\"shapedefaults\":{\"line\":{\"color\":\"#2a3f5f\"}},\"annotationdefaults\":{\"arrowcolor\":\"#2a3f5f\",\"arrowhead\":0,\"arrowwidth\":1},\"geo\":{\"bgcolor\":\"white\",\"landcolor\":\"#E5ECF6\",\"subunitcolor\":\"white\",\"showland\":true,\"showlakes\":true,\"lakecolor\":\"white\"},\"title\":{\"x\":0.05},\"mapbox\":{\"style\":\"light\"}}},\"legend\":{\"tracegroupgap\":0},\"title\":{\"text\":\"Paid Vs notPaid\"}},                        {\"responsive\": true}                    ).then(function(){\n",
              "                            \n",
              "var gd = document.getElementById('d5910a57-55a2-4896-8eb0-2fbe3601fb48');\n",
              "var x = new MutationObserver(function (mutations, observer) {{\n",
              "        var display = window.getComputedStyle(gd).display;\n",
              "        if (!display || display === 'none') {{\n",
              "            console.log([gd, 'removed!']);\n",
              "            Plotly.purge(gd);\n",
              "            observer.disconnect();\n",
              "        }}\n",
              "}});\n",
              "\n",
              "// Listen for the removal of the full notebook cells\n",
              "var notebookContainer = gd.closest('#notebook-container');\n",
              "if (notebookContainer) {{\n",
              "    x.observe(notebookContainer, {childList: true});\n",
              "}}\n",
              "\n",
              "// Listen for the clearing of the current output cell\n",
              "var outputEl = gd.closest('.output');\n",
              "if (outputEl) {{\n",
              "    x.observe(outputEl, {childList: true});\n",
              "}}\n",
              "\n",
              "                        })                };                            </script>        </div>\n",
              "</body>\n",
              "</html>"
            ]
          },
          "metadata": {}
        }
      ]
    },
    {
      "cell_type": "markdown",
      "source": [
        "## <center>**Subject**</center>"
      ],
      "metadata": {
        "id": "V6HeOdIFeMlA"
      }
    },
    {
      "cell_type": "code",
      "source": [
        "px.bar(data_frame=udemy_data,x='subject')"
      ],
      "metadata": {
        "colab": {
          "base_uri": "https://localhost:8080/",
          "height": 542
        },
        "id": "kcfyrZ7knOMV",
        "outputId": "4ff0eae2-ca28-44f3-fb2b-cd6adb5bd2e1"
      },
      "execution_count": null,
      "outputs": [
        {
          "output_type": "display_data",
          "data": {
            "text/html": [
              "<html>\n",
              "<head><meta charset=\"utf-8\" /></head>\n",
              "<body>\n",
              "    <div>            <script src=\"https://cdnjs.cloudflare.com/ajax/libs/mathjax/2.7.5/MathJax.js?config=TeX-AMS-MML_SVG\"></script><script type=\"text/javascript\">if (window.MathJax && window.MathJax.Hub && window.MathJax.Hub.Config) {window.MathJax.Hub.Config({SVG: {font: \"STIX-Web\"}});}</script>                <script type=\"text/javascript\">window.PlotlyConfig = {MathJaxConfig: 'local'};</script>\n",
              "        <script src=\"https://cdn.plot.ly/plotly-2.18.2.min.js\"></script>                <div id=\"3badd54d-e1e4-4a47-b9f5-92f333b2539d\" class=\"plotly-graph-div\" style=\"height:525px; width:100%;\"></div>            <script type=\"text/javascript\">                                    window.PLOTLYENV=window.PLOTLYENV || {};                                    if (document.getElementById(\"3badd54d-e1e4-4a47-b9f5-92f333b2539d\")) {                    Plotly.newPlot(                        \"3badd54d-e1e4-4a47-b9f5-92f333b2539d\",                        [{\"alignmentgroup\":\"True\",\"hovertemplate\":\"subject=%{x}<br>count=%{y}<extra></extra>\",\"legendgroup\":\"\",\"marker\":{\"color\":\"#636efa\",\"pattern\":{\"shape\":\"\"}},\"name\":\"\",\"offsetgroup\":\"\",\"orientation\":\"v\",\"showlegend\":false,\"textposition\":\"auto\",\"x\":[\"Business Finance\",\"Business Finance\",\"Business Finance\",\"Business Finance\",\"Business Finance\",\"Business Finance\",\"Business Finance\",\"Business Finance\",\"Business Finance\",\"Business Finance\",\"Business Finance\",\"Business Finance\",\"Business Finance\",\"Business Finance\",\"Business Finance\",\"Business Finance\",\"Business Finance\",\"Business Finance\",\"Business Finance\",\"Business Finance\",\"Business Finance\",\"Business Finance\",\"Business Finance\",\"Business Finance\",\"Business Finance\",\"Business Finance\",\"Business Finance\",\"Business Finance\",\"Business Finance\",\"Business Finance\",\"Business Finance\",\"Business Finance\",\"Business Finance\",\"Business Finance\",\"Business Finance\",\"Business Finance\",\"Business Finance\",\"Business Finance\",\"Business Finance\",\"Business Finance\",\"Business Finance\",\"Business Finance\",\"Business Finance\",\"Business Finance\",\"Business Finance\",\"Business Finance\",\"Business Finance\",\"Business Finance\",\"Business Finance\",\"Business Finance\",\"Business Finance\",\"Business Finance\",\"Business Finance\",\"Business Finance\",\"Business Finance\",\"Business Finance\",\"Business Finance\",\"Business Finance\",\"Business Finance\",\"Business Finance\",\"Business Finance\",\"Business Finance\",\"Business Finance\",\"Business Finance\",\"Business Finance\",\"Business Finance\",\"Business Finance\",\"Business Finance\",\"Business Finance\",\"Business Finance\",\"Business Finance\",\"Business Finance\",\"Business Finance\",\"Business Finance\",\"Business Finance\",\"Business Finance\",\"Business Finance\",\"Business Finance\",\"Business Finance\",\"Business Finance\",\"Business Finance\",\"Business Finance\",\"Business Finance\",\"Business Finance\",\"Business Finance\",\"Business Finance\",\"Business Finance\",\"Business Finance\",\"Business Finance\",\"Business Finance\",\"Business Finance\",\"Business Finance\",\"Business Finance\",\"Business Finance\",\"Business Finance\",\"Business Finance\",\"Business Finance\",\"Business Finance\",\"Business Finance\",\"Business Finance\",\"Business Finance\",\"Business Finance\",\"Business Finance\",\"Business Finance\",\"Business Finance\",\"Business Finance\",\"Business Finance\",\"Business Finance\",\"Business Finance\",\"Business Finance\",\"Business Finance\",\"Business Finance\",\"Business Finance\",\"Business Finance\",\"Business Finance\",\"Business Finance\",\"Business Finance\",\"Business Finance\",\"Business Finance\",\"Business Finance\",\"Business Finance\",\"Business Finance\",\"Business Finance\",\"Business Finance\",\"Business Finance\",\"Business Finance\",\"Business Finance\",\"Business Finance\",\"Business Finance\",\"Business Finance\",\"Business Finance\",\"Business Finance\",\"Business Finance\",\"Business Finance\",\"Business Finance\",\"Business Finance\",\"Business Finance\",\"Business Finance\",\"Business Finance\",\"Business Finance\",\"Business Finance\",\"Business Finance\",\"Business Finance\",\"Business Finance\",\"Business Finance\",\"Business Finance\",\"Business Finance\",\"Business Finance\",\"Business Finance\",\"Business Finance\",\"Business Finance\",\"Business Finance\",\"Business Finance\",\"Business Finance\",\"Business Finance\",\"Business Finance\",\"Business Finance\",\"Business Finance\",\"Business Finance\",\"Business Finance\",\"Business Finance\",\"Business Finance\",\"Business Finance\",\"Business Finance\",\"Business Finance\",\"Business Finance\",\"Business Finance\",\"Business Finance\",\"Business Finance\",\"Business Finance\",\"Business Finance\",\"Business Finance\",\"Business Finance\",\"Business Finance\",\"Business Finance\",\"Business Finance\",\"Business Finance\",\"Business Finance\",\"Business Finance\",\"Business Finance\",\"Business Finance\",\"Business Finance\",\"Business Finance\",\"Business Finance\",\"Business Finance\",\"Business Finance\",\"Business Finance\",\"Business Finance\",\"Business Finance\",\"Business Finance\",\"Business Finance\",\"Business Finance\",\"Business Finance\",\"Business Finance\",\"Business Finance\",\"Business Finance\",\"Business Finance\",\"Business Finance\",\"Business Finance\",\"Business Finance\",\"Business Finance\",\"Business Finance\",\"Business Finance\",\"Business Finance\",\"Business Finance\",\"Business Finance\",\"Business Finance\",\"Business Finance\",\"Business Finance\",\"Business Finance\",\"Business Finance\",\"Business Finance\",\"Business Finance\",\"Business Finance\",\"Business Finance\",\"Business Finance\",\"Business Finance\",\"Business Finance\",\"Business Finance\",\"Business Finance\",\"Business Finance\",\"Business Finance\",\"Business Finance\",\"Business Finance\",\"Business Finance\",\"Business Finance\",\"Business Finance\",\"Business Finance\",\"Business Finance\",\"Business Finance\",\"Business Finance\",\"Business Finance\",\"Business Finance\",\"Business Finance\",\"Business Finance\",\"Business Finance\",\"Business Finance\",\"Business Finance\",\"Business Finance\",\"Business Finance\",\"Business Finance\",\"Business Finance\",\"Business Finance\",\"Business Finance\",\"Business Finance\",\"Business Finance\",\"Business Finance\",\"Business Finance\",\"Business Finance\",\"Business Finance\",\"Business Finance\",\"Business Finance\",\"Business Finance\",\"Business Finance\",\"Business Finance\",\"Business Finance\",\"Business Finance\",\"Business Finance\",\"Business Finance\",\"Business Finance\",\"Business Finance\",\"Business Finance\",\"Business Finance\",\"Business Finance\",\"Business Finance\",\"Business Finance\",\"Business Finance\",\"Business Finance\",\"Business Finance\",\"Business Finance\",\"Business Finance\",\"Business Finance\",\"Business Finance\",\"Business Finance\",\"Business Finance\",\"Business Finance\",\"Business Finance\",\"Business Finance\",\"Business Finance\",\"Business Finance\",\"Business Finance\",\"Business Finance\",\"Business Finance\",\"Business Finance\",\"Business Finance\",\"Business Finance\",\"Business Finance\",\"Business Finance\",\"Business Finance\",\"Business Finance\",\"Business Finance\",\"Business Finance\",\"Business Finance\",\"Business Finance\",\"Business Finance\",\"Business Finance\",\"Business Finance\",\"Business Finance\",\"Business Finance\",\"Business Finance\",\"Business Finance\",\"Business Finance\",\"Business Finance\",\"Business Finance\",\"Business Finance\",\"Business Finance\",\"Business Finance\",\"Business Finance\",\"Business Finance\",\"Business Finance\",\"Business Finance\",\"Business Finance\",\"Business Finance\",\"Business Finance\",\"Business Finance\",\"Business Finance\",\"Business Finance\",\"Business Finance\",\"Business Finance\",\"Business Finance\",\"Business Finance\",\"Business Finance\",\"Business Finance\",\"Business Finance\",\"Business Finance\",\"Business Finance\",\"Business Finance\",\"Business Finance\",\"Business Finance\",\"Business Finance\",\"Business Finance\",\"Business Finance\",\"Business Finance\",\"Business Finance\",\"Business Finance\",\"Business Finance\",\"Business Finance\",\"Business Finance\",\"Business Finance\",\"Business Finance\",\"Business Finance\",\"Business Finance\",\"Business Finance\",\"Business Finance\",\"Business Finance\",\"Business Finance\",\"Business Finance\",\"Business Finance\",\"Business Finance\",\"Business Finance\",\"Business Finance\",\"Business Finance\",\"Business Finance\",\"Business Finance\",\"Business Finance\",\"Business Finance\",\"Business Finance\",\"Business Finance\",\"Business Finance\",\"Business Finance\",\"Business Finance\",\"Business Finance\",\"Business Finance\",\"Business Finance\",\"Business Finance\",\"Business Finance\",\"Business Finance\",\"Business Finance\",\"Business Finance\",\"Business Finance\",\"Business Finance\",\"Business Finance\",\"Business Finance\",\"Business Finance\",\"Business Finance\",\"Business Finance\",\"Business Finance\",\"Business Finance\",\"Business Finance\",\"Business Finance\",\"Business Finance\",\"Business Finance\",\"Business Finance\",\"Business Finance\",\"Business Finance\",\"Business Finance\",\"Business Finance\",\"Business Finance\",\"Business Finance\",\"Business Finance\",\"Business Finance\",\"Business Finance\",\"Business Finance\",\"Business Finance\",\"Business Finance\",\"Business Finance\",\"Business Finance\",\"Business Finance\",\"Business Finance\",\"Business Finance\",\"Business Finance\",\"Business Finance\",\"Business Finance\",\"Business Finance\",\"Business Finance\",\"Business Finance\",\"Business Finance\",\"Business Finance\",\"Business Finance\",\"Business Finance\",\"Business Finance\",\"Business Finance\",\"Business Finance\",\"Business Finance\",\"Business Finance\",\"Business Finance\",\"Business Finance\",\"Business Finance\",\"Business Finance\",\"Business Finance\",\"Business Finance\",\"Business Finance\",\"Business Finance\",\"Business Finance\",\"Business Finance\",\"Business Finance\",\"Business Finance\",\"Business Finance\",\"Business Finance\",\"Business Finance\",\"Business Finance\",\"Business Finance\",\"Business Finance\",\"Business Finance\",\"Business Finance\",\"Business Finance\",\"Business Finance\",\"Business Finance\",\"Business Finance\",\"Business Finance\",\"Business Finance\",\"Business Finance\",\"Business Finance\",\"Business Finance\",\"Business Finance\",\"Business Finance\",\"Business Finance\",\"Business Finance\",\"Business Finance\",\"Business Finance\",\"Business Finance\",\"Business Finance\",\"Business Finance\",\"Business Finance\",\"Business Finance\",\"Business Finance\",\"Business Finance\",\"Business Finance\",\"Business Finance\",\"Business Finance\",\"Business Finance\",\"Business Finance\",\"Business Finance\",\"Business Finance\",\"Business Finance\",\"Business Finance\",\"Business Finance\",\"Business Finance\",\"Business Finance\",\"Business Finance\",\"Business Finance\",\"Business Finance\",\"Business Finance\",\"Business Finance\",\"Business Finance\",\"Business Finance\",\"Business Finance\",\"Business Finance\",\"Business Finance\",\"Business Finance\",\"Business Finance\",\"Business Finance\",\"Business Finance\",\"Business Finance\",\"Business Finance\",\"Business Finance\",\"Business Finance\",\"Business Finance\",\"Business Finance\",\"Business Finance\",\"Business Finance\",\"Business Finance\",\"Business Finance\",\"Business Finance\",\"Business Finance\",\"Business Finance\",\"Business Finance\",\"Business Finance\",\"Business Finance\",\"Business Finance\",\"Business Finance\",\"Business Finance\",\"Business Finance\",\"Business Finance\",\"Business Finance\",\"Business Finance\",\"Business Finance\",\"Business Finance\",\"Business Finance\",\"Business Finance\",\"Business Finance\",\"Business Finance\",\"Business Finance\",\"Business Finance\",\"Business Finance\",\"Business Finance\",\"Business Finance\",\"Business Finance\",\"Business Finance\",\"Business Finance\",\"Business Finance\",\"Business Finance\",\"Business Finance\",\"Business Finance\",\"Business Finance\",\"Business Finance\",\"Business Finance\",\"Business Finance\",\"Business Finance\",\"Business Finance\",\"Business Finance\",\"Business Finance\",\"Business Finance\",\"Business Finance\",\"Business Finance\",\"Business Finance\",\"Business Finance\",\"Business Finance\",\"Business Finance\",\"Business Finance\",\"Business Finance\",\"Business Finance\",\"Business Finance\",\"Business Finance\",\"Business Finance\",\"Business Finance\",\"Business Finance\",\"Business Finance\",\"Business Finance\",\"Business Finance\",\"Business Finance\",\"Business Finance\",\"Business Finance\",\"Business Finance\",\"Business Finance\",\"Business Finance\",\"Business Finance\",\"Business Finance\",\"Business Finance\",\"Business Finance\",\"Business Finance\",\"Business Finance\",\"Business Finance\",\"Business Finance\",\"Business Finance\",\"Business Finance\",\"Business Finance\",\"Business Finance\",\"Business Finance\",\"Business Finance\",\"Business Finance\",\"Business Finance\",\"Business Finance\",\"Business Finance\",\"Business Finance\",\"Business Finance\",\"Business Finance\",\"Business Finance\",\"Business Finance\",\"Business Finance\",\"Business Finance\",\"Business Finance\",\"Business Finance\",\"Business Finance\",\"Business Finance\",\"Business Finance\",\"Business Finance\",\"Business Finance\",\"Business Finance\",\"Business Finance\",\"Business Finance\",\"Business Finance\",\"Business Finance\",\"Business Finance\",\"Business Finance\",\"Business Finance\",\"Business Finance\",\"Business Finance\",\"Business Finance\",\"Business Finance\",\"Business Finance\",\"Business Finance\",\"Business Finance\",\"Business Finance\",\"Business Finance\",\"Business Finance\",\"Business Finance\",\"Business Finance\",\"Business Finance\",\"Business Finance\",\"Business Finance\",\"Business Finance\",\"Business Finance\",\"Business Finance\",\"Business Finance\",\"Business Finance\",\"Business Finance\",\"Business Finance\",\"Business Finance\",\"Business Finance\",\"Business Finance\",\"Business Finance\",\"Business Finance\",\"Business Finance\",\"Business Finance\",\"Business Finance\",\"Business Finance\",\"Business Finance\",\"Business Finance\",\"Business Finance\",\"Business Finance\",\"Business Finance\",\"Business Finance\",\"Business Finance\",\"Business Finance\",\"Business Finance\",\"Business Finance\",\"Business Finance\",\"Business Finance\",\"Business Finance\",\"Business Finance\",\"Business Finance\",\"Business Finance\",\"Business Finance\",\"Business Finance\",\"Business Finance\",\"Business Finance\",\"Business Finance\",\"Business Finance\",\"Business Finance\",\"Business Finance\",\"Business Finance\",\"Business Finance\",\"Business Finance\",\"Business Finance\",\"Business Finance\",\"Business Finance\",\"Business Finance\",\"Business Finance\",\"Business Finance\",\"Business Finance\",\"Business Finance\",\"Business Finance\",\"Business Finance\",\"Business Finance\",\"Business Finance\",\"Business Finance\",\"Business Finance\",\"Business Finance\",\"Business Finance\",\"Business Finance\",\"Business Finance\",\"Business Finance\",\"Business Finance\",\"Business Finance\",\"Business Finance\",\"Business Finance\",\"Business Finance\",\"Business Finance\",\"Business Finance\",\"Business Finance\",\"Business Finance\",\"Business Finance\",\"Business Finance\",\"Business Finance\",\"Business Finance\",\"Business Finance\",\"Business Finance\",\"Business Finance\",\"Business Finance\",\"Business Finance\",\"Business Finance\",\"Business Finance\",\"Business Finance\",\"Business Finance\",\"Business Finance\",\"Business Finance\",\"Business Finance\",\"Business Finance\",\"Business Finance\",\"Business Finance\",\"Business Finance\",\"Business Finance\",\"Business Finance\",\"Business Finance\",\"Business Finance\",\"Business Finance\",\"Business Finance\",\"Business Finance\",\"Business Finance\",\"Business Finance\",\"Business Finance\",\"Business Finance\",\"Business Finance\",\"Business Finance\",\"Business Finance\",\"Business Finance\",\"Business Finance\",\"Business Finance\",\"Business Finance\",\"Business Finance\",\"Business Finance\",\"Business Finance\",\"Business Finance\",\"Business Finance\",\"Business Finance\",\"Business Finance\",\"Business Finance\",\"Business Finance\",\"Business Finance\",\"Business Finance\",\"Business Finance\",\"Business Finance\",\"Business Finance\",\"Business Finance\",\"Business Finance\",\"Business Finance\",\"Business Finance\",\"Business Finance\",\"Business Finance\",\"Business Finance\",\"Business Finance\",\"Business Finance\",\"Business Finance\",\"Business Finance\",\"Business Finance\",\"Business Finance\",\"Business Finance\",\"Business Finance\",\"Business Finance\",\"Business Finance\",\"Business Finance\",\"Business Finance\",\"Business Finance\",\"Business Finance\",\"Business Finance\",\"Business Finance\",\"Business Finance\",\"Business Finance\",\"Business Finance\",\"Business Finance\",\"Business Finance\",\"Business Finance\",\"Business Finance\",\"Business Finance\",\"Business Finance\",\"Business Finance\",\"Business Finance\",\"Business Finance\",\"Business Finance\",\"Business Finance\",\"Business Finance\",\"Business Finance\",\"Business Finance\",\"Business Finance\",\"Business Finance\",\"Business Finance\",\"Business Finance\",\"Business Finance\",\"Business Finance\",\"Business Finance\",\"Business Finance\",\"Business Finance\",\"Business Finance\",\"Business Finance\",\"Business Finance\",\"Business Finance\",\"Business Finance\",\"Business Finance\",\"Business Finance\",\"Business Finance\",\"Business Finance\",\"Business Finance\",\"Business Finance\",\"Business Finance\",\"Business Finance\",\"Business Finance\",\"Business Finance\",\"Business Finance\",\"Business Finance\",\"Business Finance\",\"Business Finance\",\"Business Finance\",\"Business Finance\",\"Business Finance\",\"Business Finance\",\"Business Finance\",\"Business Finance\",\"Business Finance\",\"Business Finance\",\"Business Finance\",\"Business Finance\",\"Business Finance\",\"Business Finance\",\"Business Finance\",\"Business Finance\",\"Business Finance\",\"Business Finance\",\"Business Finance\",\"Business Finance\",\"Business Finance\",\"Business Finance\",\"Business Finance\",\"Business Finance\",\"Business Finance\",\"Business Finance\",\"Business Finance\",\"Business Finance\",\"Business Finance\",\"Business Finance\",\"Business Finance\",\"Business Finance\",\"Business Finance\",\"Business Finance\",\"Business Finance\",\"Business Finance\",\"Business Finance\",\"Business Finance\",\"Business Finance\",\"Business Finance\",\"Business Finance\",\"Business Finance\",\"Business Finance\",\"Business Finance\",\"Business Finance\",\"Business Finance\",\"Business Finance\",\"Business Finance\",\"Business Finance\",\"Business Finance\",\"Business Finance\",\"Business Finance\",\"Business Finance\",\"Business Finance\",\"Business Finance\",\"Business Finance\",\"Business Finance\",\"Business Finance\",\"Business Finance\",\"Business Finance\",\"Business Finance\",\"Business Finance\",\"Business Finance\",\"Business Finance\",\"Business Finance\",\"Business Finance\",\"Business Finance\",\"Business Finance\",\"Business Finance\",\"Business Finance\",\"Business Finance\",\"Business Finance\",\"Business Finance\",\"Business Finance\",\"Business Finance\",\"Business Finance\",\"Business Finance\",\"Business Finance\",\"Business Finance\",\"Business Finance\",\"Business Finance\",\"Business Finance\",\"Business Finance\",\"Business Finance\",\"Business Finance\",\"Business Finance\",\"Business Finance\",\"Business Finance\",\"Business Finance\",\"Business Finance\",\"Business Finance\",\"Business Finance\",\"Business Finance\",\"Business Finance\",\"Business Finance\",\"Business Finance\",\"Business Finance\",\"Business Finance\",\"Business Finance\",\"Business Finance\",\"Business Finance\",\"Business Finance\",\"Business Finance\",\"Business Finance\",\"Business Finance\",\"Business Finance\",\"Business Finance\",\"Business Finance\",\"Business Finance\",\"Business Finance\",\"Business Finance\",\"Business Finance\",\"Business Finance\",\"Business Finance\",\"Business Finance\",\"Business Finance\",\"Business Finance\",\"Business Finance\",\"Business Finance\",\"Business Finance\",\"Business Finance\",\"Business Finance\",\"Business Finance\",\"Business Finance\",\"Business Finance\",\"Business Finance\",\"Business Finance\",\"Business Finance\",\"Business Finance\",\"Business Finance\",\"Business Finance\",\"Business Finance\",\"Business Finance\",\"Business Finance\",\"Business Finance\",\"Business Finance\",\"Business Finance\",\"Business Finance\",\"Business Finance\",\"Business Finance\",\"Business Finance\",\"Business Finance\",\"Business Finance\",\"Business Finance\",\"Business Finance\",\"Business Finance\",\"Business Finance\",\"Business Finance\",\"Business Finance\",\"Business Finance\",\"Business Finance\",\"Business Finance\",\"Business Finance\",\"Business Finance\",\"Business Finance\",\"Business Finance\",\"Business Finance\",\"Business Finance\",\"Business Finance\",\"Business Finance\",\"Business Finance\",\"Business Finance\",\"Business Finance\",\"Business Finance\",\"Business Finance\",\"Business Finance\",\"Business Finance\",\"Business Finance\",\"Business Finance\",\"Business Finance\",\"Business Finance\",\"Business Finance\",\"Business Finance\",\"Business Finance\",\"Business Finance\",\"Business Finance\",\"Business Finance\",\"Business Finance\",\"Business Finance\",\"Business Finance\",\"Business Finance\",\"Business Finance\",\"Business Finance\",\"Business Finance\",\"Business Finance\",\"Business Finance\",\"Business Finance\",\"Business Finance\",\"Business Finance\",\"Business Finance\",\"Business Finance\",\"Business Finance\",\"Business Finance\",\"Business Finance\",\"Business Finance\",\"Business Finance\",\"Business Finance\",\"Business Finance\",\"Business Finance\",\"Business Finance\",\"Business Finance\",\"Business Finance\",\"Business Finance\",\"Business Finance\",\"Business Finance\",\"Business Finance\",\"Business Finance\",\"Business Finance\",\"Business Finance\",\"Business Finance\",\"Business Finance\",\"Business Finance\",\"Business Finance\",\"Business Finance\",\"Business Finance\",\"Business Finance\",\"Business Finance\",\"Business Finance\",\"Business Finance\",\"Business Finance\",\"Business Finance\",\"Business Finance\",\"Business Finance\",\"Business Finance\",\"Business Finance\",\"Business Finance\",\"Business Finance\",\"Business Finance\",\"Business Finance\",\"Business Finance\",\"Business Finance\",\"Business Finance\",\"Business Finance\",\"Business Finance\",\"Business Finance\",\"Business Finance\",\"Business Finance\",\"Business Finance\",\"Business Finance\",\"Business Finance\",\"Business Finance\",\"Business Finance\",\"Business Finance\",\"Business Finance\",\"Business Finance\",\"Business Finance\",\"Business Finance\",\"Business Finance\",\"Business Finance\",\"Business Finance\",\"Business Finance\",\"Business Finance\",\"Business Finance\",\"Business Finance\",\"Business Finance\",\"Business Finance\",\"Business Finance\",\"Business Finance\",\"Business Finance\",\"Business Finance\",\"Business Finance\",\"Business Finance\",\"Business Finance\",\"Business Finance\",\"Business Finance\",\"Business Finance\",\"Business Finance\",\"Business Finance\",\"Business Finance\",\"Business Finance\",\"Business Finance\",\"Business Finance\",\"Business Finance\",\"Business Finance\",\"Business Finance\",\"Business Finance\",\"Business Finance\",\"Business Finance\",\"Business Finance\",\"Business Finance\",\"Business Finance\",\"Business Finance\",\"Business Finance\",\"Business Finance\",\"Business Finance\",\"Business Finance\",\"Business Finance\",\"Business Finance\",\"Business Finance\",\"Business Finance\",\"Business Finance\",\"Business Finance\",\"Business Finance\",\"Business Finance\",\"Business Finance\",\"Business Finance\",\"Business Finance\",\"Business Finance\",\"Business Finance\",\"Business Finance\",\"Business Finance\",\"Business Finance\",\"Business Finance\",\"Business Finance\",\"Business Finance\",\"Business Finance\",\"Business Finance\",\"Business Finance\",\"Business Finance\",\"Business Finance\",\"Business Finance\",\"Business Finance\",\"Business Finance\",\"Business Finance\",\"Business Finance\",\"Business Finance\",\"Business Finance\",\"Business Finance\",\"Business Finance\",\"Business Finance\",\"Business Finance\",\"Business Finance\",\"Business Finance\",\"Business Finance\",\"Business Finance\",\"Business Finance\",\"Business Finance\",\"Business Finance\",\"Business Finance\",\"Business Finance\",\"Business Finance\",\"Business Finance\",\"Business Finance\",\"Business Finance\",\"Business Finance\",\"Business Finance\",\"Business Finance\",\"Business Finance\",\"Business Finance\",\"Business Finance\",\"Business Finance\",\"Business Finance\",\"Business Finance\",\"Business Finance\",\"Business Finance\",\"Business Finance\",\"Business Finance\",\"Business Finance\",\"Business Finance\",\"Business Finance\",\"Business Finance\",\"Business Finance\",\"Business Finance\",\"Business Finance\",\"Business Finance\",\"Business Finance\",\"Business Finance\",\"Business Finance\",\"Business Finance\",\"Business Finance\",\"Business Finance\",\"Business Finance\",\"Business Finance\",\"Business Finance\",\"Business Finance\",\"Business Finance\",\"Business Finance\",\"Business Finance\",\"Business Finance\",\"Business Finance\",\"Business Finance\",\"Business Finance\",\"Business Finance\",\"Business Finance\",\"Business Finance\",\"Business Finance\",\"Business Finance\",\"Business Finance\",\"Business Finance\",\"Business Finance\",\"Business Finance\",\"Business Finance\",\"Business Finance\",\"Business Finance\",\"Business Finance\",\"Business Finance\",\"Business Finance\",\"Business Finance\",\"Business Finance\",\"Business Finance\",\"Business Finance\",\"Business Finance\",\"Business Finance\",\"Business Finance\",\"Business Finance\",\"Graphic Design\",\"Graphic Design\",\"Graphic Design\",\"Graphic Design\",\"Graphic Design\",\"Graphic Design\",\"Graphic Design\",\"Graphic Design\",\"Graphic Design\",\"Graphic Design\",\"Graphic Design\",\"Graphic Design\",\"Graphic Design\",\"Graphic Design\",\"Graphic Design\",\"Graphic Design\",\"Graphic Design\",\"Graphic Design\",\"Graphic Design\",\"Graphic Design\",\"Graphic Design\",\"Graphic Design\",\"Graphic Design\",\"Graphic Design\",\"Graphic Design\",\"Graphic Design\",\"Graphic Design\",\"Graphic Design\",\"Graphic Design\",\"Graphic Design\",\"Graphic Design\",\"Graphic Design\",\"Graphic Design\",\"Graphic Design\",\"Graphic Design\",\"Graphic Design\",\"Graphic Design\",\"Graphic Design\",\"Graphic Design\",\"Graphic Design\",\"Graphic Design\",\"Graphic Design\",\"Graphic Design\",\"Graphic Design\",\"Graphic Design\",\"Graphic Design\",\"Graphic Design\",\"Graphic Design\",\"Graphic Design\",\"Graphic Design\",\"Graphic Design\",\"Graphic Design\",\"Graphic Design\",\"Graphic Design\",\"Graphic Design\",\"Graphic Design\",\"Graphic Design\",\"Graphic Design\",\"Graphic Design\",\"Graphic Design\",\"Graphic Design\",\"Graphic Design\",\"Graphic Design\",\"Graphic Design\",\"Graphic Design\",\"Graphic Design\",\"Graphic Design\",\"Graphic Design\",\"Graphic Design\",\"Graphic Design\",\"Graphic Design\",\"Graphic Design\",\"Graphic Design\",\"Graphic Design\",\"Graphic Design\",\"Graphic Design\",\"Graphic Design\",\"Graphic Design\",\"Graphic Design\",\"Graphic Design\",\"Graphic Design\",\"Graphic Design\",\"Graphic Design\",\"Graphic Design\",\"Graphic Design\",\"Graphic Design\",\"Graphic Design\",\"Graphic Design\",\"Graphic Design\",\"Graphic Design\",\"Graphic Design\",\"Graphic Design\",\"Graphic Design\",\"Graphic Design\",\"Graphic Design\",\"Graphic Design\",\"Graphic Design\",\"Graphic Design\",\"Graphic Design\",\"Graphic Design\",\"Graphic Design\",\"Graphic Design\",\"Graphic Design\",\"Graphic Design\",\"Graphic Design\",\"Graphic Design\",\"Graphic Design\",\"Graphic Design\",\"Graphic Design\",\"Graphic Design\",\"Graphic Design\",\"Graphic Design\",\"Graphic Design\",\"Graphic Design\",\"Graphic Design\",\"Graphic Design\",\"Graphic Design\",\"Graphic Design\",\"Graphic Design\",\"Graphic Design\",\"Graphic Design\",\"Graphic Design\",\"Graphic Design\",\"Graphic Design\",\"Graphic Design\",\"Graphic Design\",\"Graphic Design\",\"Graphic Design\",\"Graphic Design\",\"Graphic Design\",\"Graphic Design\",\"Graphic Design\",\"Graphic Design\",\"Graphic Design\",\"Graphic Design\",\"Graphic Design\",\"Graphic Design\",\"Graphic Design\",\"Graphic Design\",\"Graphic Design\",\"Graphic Design\",\"Graphic Design\",\"Graphic Design\",\"Graphic Design\",\"Graphic Design\",\"Graphic Design\",\"Graphic Design\",\"Graphic Design\",\"Graphic Design\",\"Graphic Design\",\"Graphic Design\",\"Graphic Design\",\"Graphic Design\",\"Graphic Design\",\"Graphic Design\",\"Graphic Design\",\"Graphic Design\",\"Graphic Design\",\"Graphic Design\",\"Graphic Design\",\"Graphic Design\",\"Graphic Design\",\"Graphic Design\",\"Graphic Design\",\"Graphic Design\",\"Graphic Design\",\"Graphic Design\",\"Graphic Design\",\"Graphic Design\",\"Graphic Design\",\"Graphic Design\",\"Graphic Design\",\"Graphic Design\",\"Graphic Design\",\"Graphic Design\",\"Graphic Design\",\"Graphic Design\",\"Graphic Design\",\"Graphic Design\",\"Graphic Design\",\"Graphic Design\",\"Graphic Design\",\"Graphic Design\",\"Graphic Design\",\"Graphic Design\",\"Graphic Design\",\"Graphic Design\",\"Graphic Design\",\"Graphic Design\",\"Graphic Design\",\"Graphic Design\",\"Graphic Design\",\"Graphic Design\",\"Graphic Design\",\"Graphic Design\",\"Graphic Design\",\"Graphic Design\",\"Graphic Design\",\"Graphic Design\",\"Graphic Design\",\"Graphic Design\",\"Graphic Design\",\"Graphic Design\",\"Graphic Design\",\"Graphic Design\",\"Graphic Design\",\"Graphic Design\",\"Graphic Design\",\"Graphic Design\",\"Graphic Design\",\"Graphic Design\",\"Graphic Design\",\"Graphic Design\",\"Graphic Design\",\"Graphic Design\",\"Graphic Design\",\"Graphic Design\",\"Graphic Design\",\"Graphic Design\",\"Graphic Design\",\"Graphic Design\",\"Graphic Design\",\"Graphic Design\",\"Graphic Design\",\"Graphic Design\",\"Graphic Design\",\"Graphic Design\",\"Graphic Design\",\"Graphic Design\",\"Graphic Design\",\"Graphic Design\",\"Graphic Design\",\"Graphic Design\",\"Graphic Design\",\"Graphic Design\",\"Graphic Design\",\"Graphic Design\",\"Graphic Design\",\"Graphic Design\",\"Graphic Design\",\"Graphic Design\",\"Graphic Design\",\"Graphic Design\",\"Graphic Design\",\"Graphic Design\",\"Graphic Design\",\"Graphic Design\",\"Graphic Design\",\"Graphic Design\",\"Graphic Design\",\"Graphic Design\",\"Graphic Design\",\"Graphic Design\",\"Graphic Design\",\"Graphic Design\",\"Graphic Design\",\"Graphic Design\",\"Graphic Design\",\"Graphic Design\",\"Graphic Design\",\"Graphic Design\",\"Graphic Design\",\"Graphic Design\",\"Graphic Design\",\"Graphic Design\",\"Graphic Design\",\"Graphic Design\",\"Graphic Design\",\"Graphic Design\",\"Graphic Design\",\"Graphic Design\",\"Graphic Design\",\"Graphic Design\",\"Graphic Design\",\"Graphic Design\",\"Graphic Design\",\"Graphic Design\",\"Graphic Design\",\"Graphic Design\",\"Graphic Design\",\"Graphic Design\",\"Graphic Design\",\"Graphic Design\",\"Graphic Design\",\"Graphic Design\",\"Graphic Design\",\"Graphic Design\",\"Graphic Design\",\"Graphic Design\",\"Graphic Design\",\"Graphic Design\",\"Graphic Design\",\"Graphic Design\",\"Graphic Design\",\"Graphic Design\",\"Graphic Design\",\"Graphic Design\",\"Graphic Design\",\"Graphic Design\",\"Graphic Design\",\"Graphic Design\",\"Graphic Design\",\"Graphic Design\",\"Graphic Design\",\"Graphic Design\",\"Graphic Design\",\"Graphic Design\",\"Graphic Design\",\"Graphic Design\",\"Graphic Design\",\"Graphic Design\",\"Graphic Design\",\"Graphic Design\",\"Graphic Design\",\"Graphic Design\",\"Graphic Design\",\"Graphic Design\",\"Graphic Design\",\"Graphic Design\",\"Graphic Design\",\"Graphic Design\",\"Graphic Design\",\"Graphic Design\",\"Graphic Design\",\"Graphic Design\",\"Graphic Design\",\"Graphic Design\",\"Graphic Design\",\"Graphic Design\",\"Graphic Design\",\"Graphic Design\",\"Graphic Design\",\"Graphic Design\",\"Graphic Design\",\"Graphic Design\",\"Graphic Design\",\"Graphic Design\",\"Graphic Design\",\"Graphic Design\",\"Graphic Design\",\"Graphic Design\",\"Graphic Design\",\"Graphic Design\",\"Graphic Design\",\"Graphic Design\",\"Graphic Design\",\"Graphic Design\",\"Graphic Design\",\"Graphic Design\",\"Graphic Design\",\"Graphic Design\",\"Graphic Design\",\"Graphic Design\",\"Graphic Design\",\"Graphic Design\",\"Graphic Design\",\"Graphic Design\",\"Graphic Design\",\"Graphic Design\",\"Graphic Design\",\"Graphic Design\",\"Graphic Design\",\"Graphic Design\",\"Graphic Design\",\"Graphic Design\",\"Graphic Design\",\"Graphic Design\",\"Graphic Design\",\"Graphic Design\",\"Graphic Design\",\"Graphic Design\",\"Graphic Design\",\"Graphic Design\",\"Graphic Design\",\"Graphic Design\",\"Graphic Design\",\"Graphic Design\",\"Graphic Design\",\"Graphic Design\",\"Graphic Design\",\"Graphic Design\",\"Graphic Design\",\"Graphic Design\",\"Graphic Design\",\"Graphic Design\",\"Graphic Design\",\"Graphic Design\",\"Graphic Design\",\"Graphic Design\",\"Graphic Design\",\"Graphic Design\",\"Graphic Design\",\"Graphic Design\",\"Graphic Design\",\"Graphic Design\",\"Graphic Design\",\"Graphic Design\",\"Graphic Design\",\"Graphic Design\",\"Graphic Design\",\"Graphic Design\",\"Graphic Design\",\"Graphic Design\",\"Graphic Design\",\"Graphic Design\",\"Graphic Design\",\"Graphic Design\",\"Graphic Design\",\"Graphic Design\",\"Graphic Design\",\"Graphic Design\",\"Graphic Design\",\"Graphic Design\",\"Graphic Design\",\"Graphic Design\",\"Graphic Design\",\"Graphic Design\",\"Graphic Design\",\"Graphic Design\",\"Graphic Design\",\"Graphic Design\",\"Graphic Design\",\"Graphic Design\",\"Graphic Design\",\"Graphic Design\",\"Graphic Design\",\"Graphic Design\",\"Graphic Design\",\"Graphic Design\",\"Graphic Design\",\"Graphic Design\",\"Graphic Design\",\"Graphic Design\",\"Graphic Design\",\"Graphic Design\",\"Graphic Design\",\"Graphic Design\",\"Graphic Design\",\"Graphic Design\",\"Graphic Design\",\"Graphic Design\",\"Graphic Design\",\"Graphic Design\",\"Graphic Design\",\"Graphic Design\",\"Graphic Design\",\"Graphic Design\",\"Graphic Design\",\"Graphic Design\",\"Graphic Design\",\"Graphic Design\",\"Graphic Design\",\"Graphic Design\",\"Graphic Design\",\"Graphic Design\",\"Graphic Design\",\"Graphic Design\",\"Graphic Design\",\"Graphic Design\",\"Graphic Design\",\"Graphic Design\",\"Graphic Design\",\"Graphic Design\",\"Graphic Design\",\"Graphic Design\",\"Graphic Design\",\"Graphic Design\",\"Graphic Design\",\"Graphic Design\",\"Graphic Design\",\"Graphic Design\",\"Graphic Design\",\"Graphic Design\",\"Graphic Design\",\"Graphic Design\",\"Graphic Design\",\"Graphic Design\",\"Graphic Design\",\"Graphic Design\",\"Graphic Design\",\"Graphic Design\",\"Graphic Design\",\"Graphic Design\",\"Graphic Design\",\"Graphic Design\",\"Graphic Design\",\"Graphic Design\",\"Graphic Design\",\"Graphic Design\",\"Graphic Design\",\"Graphic Design\",\"Graphic Design\",\"Graphic Design\",\"Graphic Design\",\"Graphic Design\",\"Graphic Design\",\"Graphic Design\",\"Graphic Design\",\"Graphic Design\",\"Graphic Design\",\"Graphic Design\",\"Graphic Design\",\"Graphic Design\",\"Graphic Design\",\"Graphic Design\",\"Graphic Design\",\"Graphic Design\",\"Graphic Design\",\"Graphic Design\",\"Graphic Design\",\"Graphic Design\",\"Graphic Design\",\"Graphic Design\",\"Graphic Design\",\"Graphic Design\",\"Graphic Design\",\"Graphic Design\",\"Graphic Design\",\"Graphic Design\",\"Graphic Design\",\"Graphic Design\",\"Graphic Design\",\"Graphic Design\",\"Graphic Design\",\"Graphic Design\",\"Graphic Design\",\"Graphic Design\",\"Graphic Design\",\"Graphic Design\",\"Graphic Design\",\"Graphic Design\",\"Graphic Design\",\"Graphic Design\",\"Graphic Design\",\"Graphic Design\",\"Graphic Design\",\"Graphic Design\",\"Graphic Design\",\"Graphic Design\",\"Graphic Design\",\"Graphic Design\",\"Graphic Design\",\"Graphic Design\",\"Graphic Design\",\"Graphic Design\",\"Graphic Design\",\"Graphic Design\",\"Graphic Design\",\"Graphic Design\",\"Graphic Design\",\"Graphic Design\",\"Graphic Design\",\"Graphic Design\",\"Graphic Design\",\"Graphic Design\",\"Graphic Design\",\"Graphic Design\",\"Graphic Design\",\"Graphic Design\",\"Graphic Design\",\"Graphic Design\",\"Graphic Design\",\"Graphic Design\",\"Graphic Design\",\"Graphic Design\",\"Graphic Design\",\"Graphic Design\",\"Graphic Design\",\"Graphic Design\",\"Graphic Design\",\"Graphic Design\",\"Graphic Design\",\"Graphic Design\",\"Graphic Design\",\"Graphic Design\",\"Graphic Design\",\"Graphic Design\",\"Graphic Design\",\"Graphic Design\",\"Graphic Design\",\"Graphic Design\",\"Graphic Design\",\"Graphic Design\",\"Graphic Design\",\"Graphic Design\",\"Graphic Design\",\"Graphic Design\",\"Graphic Design\",\"Graphic Design\",\"Graphic Design\",\"Graphic Design\",\"Graphic Design\",\"Graphic Design\",\"Graphic Design\",\"Graphic Design\",\"Graphic Design\",\"Graphic Design\",\"Graphic Design\",\"Graphic Design\",\"Graphic Design\",\"Graphic Design\",\"Graphic Design\",\"Graphic Design\",\"Musical Instruments\",\"Musical Instruments\",\"Musical Instruments\",\"Musical Instruments\",\"Musical Instruments\",\"Musical Instruments\",\"Musical Instruments\",\"Musical Instruments\",\"Musical Instruments\",\"Musical Instruments\",\"Musical Instruments\",\"Musical Instruments\",\"Musical Instruments\",\"Musical Instruments\",\"Musical Instruments\",\"Musical Instruments\",\"Musical Instruments\",\"Musical Instruments\",\"Musical Instruments\",\"Musical Instruments\",\"Musical Instruments\",\"Musical Instruments\",\"Musical Instruments\",\"Musical Instruments\",\"Musical Instruments\",\"Musical Instruments\",\"Musical Instruments\",\"Musical Instruments\",\"Musical Instruments\",\"Musical Instruments\",\"Musical Instruments\",\"Musical Instruments\",\"Musical Instruments\",\"Musical Instruments\",\"Musical Instruments\",\"Musical Instruments\",\"Musical Instruments\",\"Musical Instruments\",\"Musical Instruments\",\"Musical Instruments\",\"Musical Instruments\",\"Musical Instruments\",\"Musical Instruments\",\"Musical Instruments\",\"Musical Instruments\",\"Musical Instruments\",\"Musical Instruments\",\"Musical Instruments\",\"Musical Instruments\",\"Musical Instruments\",\"Musical Instruments\",\"Musical Instruments\",\"Musical Instruments\",\"Musical Instruments\",\"Musical Instruments\",\"Musical Instruments\",\"Musical Instruments\",\"Musical Instruments\",\"Musical Instruments\",\"Musical Instruments\",\"Musical Instruments\",\"Musical Instruments\",\"Musical Instruments\",\"Musical Instruments\",\"Musical Instruments\",\"Musical Instruments\",\"Musical Instruments\",\"Musical Instruments\",\"Musical Instruments\",\"Musical Instruments\",\"Musical Instruments\",\"Musical Instruments\",\"Musical Instruments\",\"Musical Instruments\",\"Musical Instruments\",\"Musical Instruments\",\"Musical Instruments\",\"Musical Instruments\",\"Musical Instruments\",\"Musical Instruments\",\"Musical Instruments\",\"Musical Instruments\",\"Musical Instruments\",\"Musical Instruments\",\"Musical Instruments\",\"Musical Instruments\",\"Musical Instruments\",\"Musical Instruments\",\"Musical Instruments\",\"Musical Instruments\",\"Musical Instruments\",\"Musical Instruments\",\"Musical Instruments\",\"Musical Instruments\",\"Musical Instruments\",\"Musical Instruments\",\"Musical Instruments\",\"Musical Instruments\",\"Musical Instruments\",\"Musical Instruments\",\"Musical Instruments\",\"Musical Instruments\",\"Musical Instruments\",\"Musical Instruments\",\"Musical Instruments\",\"Musical Instruments\",\"Musical Instruments\",\"Musical Instruments\",\"Musical Instruments\",\"Musical Instruments\",\"Musical Instruments\",\"Musical Instruments\",\"Musical Instruments\",\"Musical Instruments\",\"Musical Instruments\",\"Musical Instruments\",\"Musical Instruments\",\"Musical Instruments\",\"Musical Instruments\",\"Musical Instruments\",\"Musical Instruments\",\"Musical Instruments\",\"Musical Instruments\",\"Musical Instruments\",\"Musical Instruments\",\"Musical Instruments\",\"Musical Instruments\",\"Musical Instruments\",\"Musical Instruments\",\"Musical Instruments\",\"Musical Instruments\",\"Musical Instruments\",\"Musical Instruments\",\"Musical Instruments\",\"Musical Instruments\",\"Musical Instruments\",\"Musical Instruments\",\"Musical Instruments\",\"Musical Instruments\",\"Musical Instruments\",\"Musical Instruments\",\"Musical Instruments\",\"Musical Instruments\",\"Musical Instruments\",\"Musical Instruments\",\"Musical Instruments\",\"Musical Instruments\",\"Musical Instruments\",\"Musical Instruments\",\"Musical Instruments\",\"Musical Instruments\",\"Musical Instruments\",\"Musical Instruments\",\"Musical Instruments\",\"Musical Instruments\",\"Musical Instruments\",\"Musical Instruments\",\"Musical Instruments\",\"Musical Instruments\",\"Musical Instruments\",\"Musical Instruments\",\"Musical Instruments\",\"Musical Instruments\",\"Musical Instruments\",\"Musical Instruments\",\"Musical Instruments\",\"Musical Instruments\",\"Musical Instruments\",\"Musical Instruments\",\"Musical Instruments\",\"Musical Instruments\",\"Musical Instruments\",\"Musical Instruments\",\"Musical Instruments\",\"Musical Instruments\",\"Musical Instruments\",\"Musical Instruments\",\"Musical Instruments\",\"Musical Instruments\",\"Musical Instruments\",\"Musical Instruments\",\"Musical Instruments\",\"Musical Instruments\",\"Musical Instruments\",\"Musical Instruments\",\"Musical Instruments\",\"Musical Instruments\",\"Musical Instruments\",\"Musical Instruments\",\"Musical Instruments\",\"Musical Instruments\",\"Musical Instruments\",\"Musical Instruments\",\"Musical Instruments\",\"Musical Instruments\",\"Musical Instruments\",\"Musical Instruments\",\"Musical Instruments\",\"Musical Instruments\",\"Musical Instruments\",\"Musical Instruments\",\"Musical Instruments\",\"Musical Instruments\",\"Musical Instruments\",\"Musical Instruments\",\"Musical Instruments\",\"Musical Instruments\",\"Musical Instruments\",\"Musical Instruments\",\"Musical Instruments\",\"Musical Instruments\",\"Musical Instruments\",\"Musical Instruments\",\"Musical Instruments\",\"Musical Instruments\",\"Musical Instruments\",\"Musical Instruments\",\"Musical Instruments\",\"Musical Instruments\",\"Musical Instruments\",\"Musical Instruments\",\"Musical Instruments\",\"Musical Instruments\",\"Musical Instruments\",\"Musical Instruments\",\"Musical Instruments\",\"Musical Instruments\",\"Musical Instruments\",\"Musical Instruments\",\"Musical Instruments\",\"Musical Instruments\",\"Musical Instruments\",\"Musical Instruments\",\"Musical Instruments\",\"Musical Instruments\",\"Musical Instruments\",\"Musical Instruments\",\"Musical Instruments\",\"Musical Instruments\",\"Musical Instruments\",\"Musical Instruments\",\"Musical Instruments\",\"Musical Instruments\",\"Musical Instruments\",\"Musical Instruments\",\"Musical Instruments\",\"Musical Instruments\",\"Musical Instruments\",\"Musical Instruments\",\"Musical Instruments\",\"Musical Instruments\",\"Musical Instruments\",\"Musical Instruments\",\"Musical Instruments\",\"Musical Instruments\",\"Musical Instruments\",\"Musical Instruments\",\"Musical Instruments\",\"Musical Instruments\",\"Musical Instruments\",\"Musical Instruments\",\"Musical Instruments\",\"Musical Instruments\",\"Musical Instruments\",\"Musical Instruments\",\"Musical Instruments\",\"Musical Instruments\",\"Musical Instruments\",\"Musical Instruments\",\"Musical Instruments\",\"Musical Instruments\",\"Musical Instruments\",\"Musical Instruments\",\"Musical Instruments\",\"Musical Instruments\",\"Musical Instruments\",\"Musical Instruments\",\"Musical Instruments\",\"Musical Instruments\",\"Musical Instruments\",\"Musical Instruments\",\"Musical Instruments\",\"Musical Instruments\",\"Musical Instruments\",\"Musical Instruments\",\"Musical Instruments\",\"Musical Instruments\",\"Musical Instruments\",\"Musical Instruments\",\"Musical Instruments\",\"Musical Instruments\",\"Musical Instruments\",\"Musical Instruments\",\"Musical Instruments\",\"Musical Instruments\",\"Musical Instruments\",\"Musical Instruments\",\"Musical Instruments\",\"Musical Instruments\",\"Musical Instruments\",\"Musical Instruments\",\"Musical Instruments\",\"Musical Instruments\",\"Musical Instruments\",\"Musical Instruments\",\"Musical Instruments\",\"Musical Instruments\",\"Musical Instruments\",\"Musical Instruments\",\"Musical Instruments\",\"Musical Instruments\",\"Musical Instruments\",\"Musical Instruments\",\"Musical Instruments\",\"Musical Instruments\",\"Musical Instruments\",\"Musical Instruments\",\"Musical Instruments\",\"Musical Instruments\",\"Musical Instruments\",\"Musical Instruments\",\"Musical Instruments\",\"Musical Instruments\",\"Musical Instruments\",\"Musical Instruments\",\"Musical Instruments\",\"Musical Instruments\",\"Musical Instruments\",\"Musical Instruments\",\"Musical Instruments\",\"Musical Instruments\",\"Musical Instruments\",\"Musical Instruments\",\"Musical Instruments\",\"Musical Instruments\",\"Musical Instruments\",\"Musical Instruments\",\"Musical Instruments\",\"Musical Instruments\",\"Musical Instruments\",\"Musical Instruments\",\"Musical Instruments\",\"Musical Instruments\",\"Musical Instruments\",\"Musical Instruments\",\"Musical Instruments\",\"Musical Instruments\",\"Musical Instruments\",\"Musical Instruments\",\"Musical Instruments\",\"Musical Instruments\",\"Musical Instruments\",\"Musical Instruments\",\"Musical Instruments\",\"Musical Instruments\",\"Musical Instruments\",\"Musical Instruments\",\"Musical Instruments\",\"Musical Instruments\",\"Musical Instruments\",\"Musical Instruments\",\"Musical Instruments\",\"Musical Instruments\",\"Musical Instruments\",\"Musical Instruments\",\"Musical Instruments\",\"Musical Instruments\",\"Musical Instruments\",\"Musical Instruments\",\"Musical Instruments\",\"Musical Instruments\",\"Musical Instruments\",\"Musical Instruments\",\"Musical Instruments\",\"Musical Instruments\",\"Musical Instruments\",\"Musical Instruments\",\"Musical Instruments\",\"Musical Instruments\",\"Musical Instruments\",\"Musical Instruments\",\"Musical Instruments\",\"Musical Instruments\",\"Musical Instruments\",\"Musical Instruments\",\"Musical Instruments\",\"Musical Instruments\",\"Musical Instruments\",\"Musical Instruments\",\"Musical Instruments\",\"Musical Instruments\",\"Musical Instruments\",\"Musical Instruments\",\"Musical Instruments\",\"Musical Instruments\",\"Musical Instruments\",\"Musical Instruments\",\"Musical Instruments\",\"Musical Instruments\",\"Musical Instruments\",\"Musical Instruments\",\"Musical Instruments\",\"Musical Instruments\",\"Musical Instruments\",\"Musical Instruments\",\"Musical Instruments\",\"Musical Instruments\",\"Musical Instruments\",\"Musical Instruments\",\"Musical Instruments\",\"Musical Instruments\",\"Musical Instruments\",\"Musical Instruments\",\"Musical Instruments\",\"Musical Instruments\",\"Musical Instruments\",\"Musical Instruments\",\"Musical Instruments\",\"Musical Instruments\",\"Musical Instruments\",\"Musical Instruments\",\"Musical Instruments\",\"Musical Instruments\",\"Musical Instruments\",\"Musical Instruments\",\"Musical Instruments\",\"Musical Instruments\",\"Musical Instruments\",\"Musical Instruments\",\"Musical Instruments\",\"Musical Instruments\",\"Musical Instruments\",\"Musical Instruments\",\"Musical Instruments\",\"Musical Instruments\",\"Musical Instruments\",\"Musical Instruments\",\"Musical Instruments\",\"Musical Instruments\",\"Musical Instruments\",\"Musical Instruments\",\"Musical Instruments\",\"Musical Instruments\",\"Musical Instruments\",\"Musical Instruments\",\"Musical Instruments\",\"Musical Instruments\",\"Musical Instruments\",\"Musical Instruments\",\"Musical Instruments\",\"Musical Instruments\",\"Musical Instruments\",\"Musical Instruments\",\"Musical Instruments\",\"Musical Instruments\",\"Musical Instruments\",\"Musical Instruments\",\"Musical Instruments\",\"Musical Instruments\",\"Musical Instruments\",\"Musical Instruments\",\"Musical Instruments\",\"Musical Instruments\",\"Musical Instruments\",\"Musical Instruments\",\"Musical Instruments\",\"Musical Instruments\",\"Musical Instruments\",\"Musical Instruments\",\"Musical Instruments\",\"Musical Instruments\",\"Musical Instruments\",\"Musical Instruments\",\"Musical Instruments\",\"Musical Instruments\",\"Musical Instruments\",\"Musical Instruments\",\"Musical Instruments\",\"Musical Instruments\",\"Musical Instruments\",\"Musical Instruments\",\"Musical Instruments\",\"Musical Instruments\",\"Musical Instruments\",\"Musical Instruments\",\"Musical Instruments\",\"Musical Instruments\",\"Musical Instruments\",\"Musical Instruments\",\"Musical Instruments\",\"Musical Instruments\",\"Musical Instruments\",\"Musical Instruments\",\"Musical Instruments\",\"Musical Instruments\",\"Musical Instruments\",\"Musical Instruments\",\"Musical Instruments\",\"Musical Instruments\",\"Musical Instruments\",\"Musical Instruments\",\"Musical Instruments\",\"Musical Instruments\",\"Musical Instruments\",\"Musical Instruments\",\"Musical Instruments\",\"Musical Instruments\",\"Musical Instruments\",\"Musical Instruments\",\"Musical Instruments\",\"Musical Instruments\",\"Musical Instruments\",\"Musical Instruments\",\"Musical Instruments\",\"Musical Instruments\",\"Musical Instruments\",\"Musical Instruments\",\"Musical Instruments\",\"Musical Instruments\",\"Musical Instruments\",\"Musical Instruments\",\"Musical Instruments\",\"Musical Instruments\",\"Musical Instruments\",\"Musical Instruments\",\"Musical Instruments\",\"Musical Instruments\",\"Musical Instruments\",\"Musical Instruments\",\"Musical Instruments\",\"Musical Instruments\",\"Musical Instruments\",\"Musical Instruments\",\"Musical Instruments\",\"Musical Instruments\",\"Musical Instruments\",\"Musical Instruments\",\"Musical Instruments\",\"Musical Instruments\",\"Musical Instruments\",\"Musical Instruments\",\"Musical Instruments\",\"Musical Instruments\",\"Musical Instruments\",\"Musical Instruments\",\"Musical Instruments\",\"Musical Instruments\",\"Musical Instruments\",\"Musical Instruments\",\"Musical Instruments\",\"Musical Instruments\",\"Musical Instruments\",\"Musical Instruments\",\"Musical Instruments\",\"Musical Instruments\",\"Musical Instruments\",\"Musical Instruments\",\"Musical Instruments\",\"Musical Instruments\",\"Musical Instruments\",\"Musical Instruments\",\"Musical Instruments\",\"Musical Instruments\",\"Musical Instruments\",\"Musical Instruments\",\"Musical Instruments\",\"Musical Instruments\",\"Musical Instruments\",\"Musical Instruments\",\"Musical Instruments\",\"Musical Instruments\",\"Musical Instruments\",\"Musical Instruments\",\"Musical Instruments\",\"Musical Instruments\",\"Musical Instruments\",\"Musical Instruments\",\"Musical Instruments\",\"Musical Instruments\",\"Musical Instruments\",\"Musical Instruments\",\"Musical Instruments\",\"Musical Instruments\",\"Musical Instruments\",\"Musical Instruments\",\"Musical Instruments\",\"Musical Instruments\",\"Musical Instruments\",\"Musical Instruments\",\"Musical Instruments\",\"Musical Instruments\",\"Musical Instruments\",\"Musical Instruments\",\"Musical Instruments\",\"Musical Instruments\",\"Musical Instruments\",\"Musical Instruments\",\"Musical Instruments\",\"Musical Instruments\",\"Musical Instruments\",\"Musical Instruments\",\"Musical Instruments\",\"Musical Instruments\",\"Musical Instruments\",\"Musical Instruments\",\"Musical Instruments\",\"Musical Instruments\",\"Musical Instruments\",\"Musical Instruments\",\"Musical Instruments\",\"Musical Instruments\",\"Musical Instruments\",\"Musical Instruments\",\"Musical Instruments\",\"Musical Instruments\",\"Musical Instruments\",\"Musical Instruments\",\"Musical Instruments\",\"Musical Instruments\",\"Musical Instruments\",\"Musical Instruments\",\"Musical Instruments\",\"Musical Instruments\",\"Musical Instruments\",\"Musical Instruments\",\"Musical Instruments\",\"Musical Instruments\",\"Musical Instruments\",\"Musical Instruments\",\"Musical Instruments\",\"Musical Instruments\",\"Musical Instruments\",\"Musical Instruments\",\"Musical Instruments\",\"Musical Instruments\",\"Musical Instruments\",\"Musical Instruments\",\"Musical Instruments\",\"Musical Instruments\",\"Musical Instruments\",\"Musical Instruments\",\"Musical Instruments\",\"Musical Instruments\",\"Musical Instruments\",\"Musical Instruments\",\"Musical Instruments\",\"Musical Instruments\",\"Musical Instruments\",\"Musical Instruments\",\"Musical Instruments\",\"Musical Instruments\",\"Musical Instruments\",\"Musical Instruments\",\"Musical Instruments\",\"Musical Instruments\",\"Musical Instruments\",\"Musical Instruments\",\"Musical Instruments\",\"Musical Instruments\",\"Musical Instruments\",\"Musical Instruments\",\"Musical Instruments\",\"Musical Instruments\",\"Musical Instruments\",\"Musical Instruments\",\"Musical Instruments\",\"Musical Instruments\",\"Musical Instruments\",\"Musical Instruments\",\"Musical Instruments\",\"Musical Instruments\",\"Musical Instruments\",\"Musical Instruments\",\"Musical Instruments\",\"Musical Instruments\",\"Musical Instruments\",\"Musical Instruments\",\"Musical Instruments\",\"Musical Instruments\",\"Musical Instruments\",\"Web Development\",\"Web Development\",\"Web Development\",\"Web Development\",\"Web Development\",\"Web Development\",\"Web Development\",\"Web Development\",\"Web Development\",\"Web Development\",\"Web Development\",\"Web Development\",\"Web Development\",\"Web Development\",\"Web Development\",\"Web Development\",\"Web Development\",\"Web Development\",\"Web Development\",\"Web Development\",\"Web Development\",\"Web Development\",\"Web Development\",\"Web Development\",\"Web Development\",\"Web Development\",\"Web Development\",\"Web Development\",\"Web Development\",\"Web Development\",\"Web Development\",\"Web Development\",\"Web Development\",\"Web Development\",\"Web Development\",\"Web Development\",\"Web Development\",\"Web Development\",\"Web Development\",\"Web Development\",\"Web Development\",\"Web Development\",\"Web Development\",\"Web Development\",\"Web Development\",\"Web Development\",\"Web Development\",\"Web Development\",\"Web Development\",\"Web Development\",\"Web Development\",\"Web Development\",\"Web Development\",\"Web Development\",\"Web Development\",\"Web Development\",\"Web Development\",\"Web Development\",\"Web Development\",\"Web Development\",\"Web Development\",\"Web Development\",\"Web Development\",\"Web Development\",\"Web Development\",\"Web Development\",\"Web Development\",\"Web Development\",\"Web Development\",\"Web Development\",\"Web Development\",\"Web Development\",\"Web Development\",\"Web Development\",\"Web Development\",\"Web Development\",\"Web Development\",\"Web Development\",\"Web Development\",\"Web Development\",\"Web Development\",\"Web Development\",\"Web Development\",\"Web Development\",\"Web Development\",\"Web Development\",\"Web Development\",\"Web Development\",\"Web Development\",\"Web Development\",\"Web Development\",\"Web Development\",\"Web Development\",\"Web Development\",\"Web Development\",\"Web Development\",\"Web Development\",\"Web Development\",\"Web Development\",\"Web Development\",\"Web Development\",\"Web Development\",\"Web Development\",\"Web Development\",\"Web Development\",\"Web Development\",\"Web Development\",\"Web Development\",\"Web Development\",\"Web Development\",\"Web Development\",\"Web Development\",\"Web Development\",\"Web Development\",\"Web Development\",\"Web Development\",\"Web Development\",\"Web Development\",\"Web Development\",\"Web Development\",\"Web Development\",\"Web Development\",\"Web Development\",\"Web Development\",\"Web Development\",\"Web Development\",\"Web Development\",\"Web Development\",\"Web Development\",\"Web Development\",\"Web Development\",\"Web Development\",\"Web Development\",\"Web Development\",\"Web Development\",\"Web Development\",\"Web Development\",\"Web Development\",\"Web Development\",\"Web Development\",\"Web Development\",\"Web Development\",\"Web Development\",\"Web Development\",\"Web Development\",\"Web Development\",\"Web Development\",\"Web Development\",\"Web Development\",\"Web Development\",\"Web Development\",\"Web Development\",\"Web Development\",\"Web Development\",\"Web Development\",\"Web Development\",\"Web Development\",\"Web Development\",\"Web Development\",\"Web Development\",\"Web Development\",\"Web Development\",\"Web Development\",\"Web Development\",\"Web Development\",\"Web Development\",\"Web Development\",\"Web Development\",\"Web Development\",\"Web Development\",\"Web Development\",\"Web Development\",\"Web Development\",\"Web Development\",\"Web Development\",\"Web Development\",\"Web Development\",\"Web Development\",\"Web Development\",\"Web Development\",\"Web Development\",\"Web Development\",\"Web Development\",\"Web Development\",\"Web Development\",\"Web Development\",\"Web Development\",\"Web Development\",\"Web Development\",\"Web Development\",\"Web Development\",\"Web Development\",\"Web Development\",\"Web Development\",\"Web Development\",\"Web Development\",\"Web Development\",\"Web Development\",\"Web Development\",\"Web Development\",\"Web Development\",\"Web Development\",\"Web Development\",\"Web Development\",\"Web Development\",\"Web Development\",\"Web Development\",\"Web Development\",\"Web Development\",\"Web Development\",\"Web Development\",\"Web Development\",\"Web Development\",\"Web Development\",\"Web Development\",\"Web Development\",\"Web Development\",\"Web Development\",\"Web Development\",\"Web Development\",\"Web Development\",\"Web Development\",\"Web Development\",\"Web Development\",\"Web Development\",\"Web Development\",\"Web Development\",\"Web Development\",\"Web Development\",\"Web Development\",\"Web Development\",\"Web Development\",\"Web Development\",\"Web Development\",\"Web Development\",\"Web Development\",\"Web Development\",\"Web Development\",\"Web Development\",\"Web Development\",\"Web Development\",\"Web Development\",\"Web Development\",\"Web Development\",\"Web Development\",\"Web Development\",\"Web Development\",\"Web Development\",\"Web Development\",\"Web Development\",\"Web Development\",\"Web Development\",\"Web Development\",\"Web Development\",\"Web Development\",\"Web Development\",\"Web Development\",\"Web Development\",\"Web Development\",\"Web Development\",\"Web Development\",\"Web Development\",\"Web Development\",\"Web Development\",\"Web Development\",\"Web Development\",\"Web Development\",\"Web Development\",\"Web Development\",\"Web Development\",\"Web Development\",\"Web Development\",\"Web Development\",\"Web Development\",\"Web Development\",\"Web Development\",\"Web Development\",\"Web Development\",\"Web Development\",\"Web Development\",\"Web Development\",\"Web Development\",\"Web Development\",\"Web Development\",\"Web Development\",\"Web Development\",\"Web Development\",\"Web Development\",\"Web Development\",\"Web Development\",\"Web Development\",\"Web Development\",\"Web Development\",\"Web Development\",\"Web Development\",\"Web Development\",\"Web Development\",\"Web Development\",\"Web Development\",\"Web Development\",\"Web Development\",\"Web Development\",\"Web Development\",\"Web Development\",\"Web Development\",\"Web Development\",\"Web Development\",\"Web Development\",\"Web Development\",\"Web Development\",\"Web Development\",\"Web Development\",\"Web Development\",\"Web Development\",\"Web Development\",\"Web Development\",\"Web Development\",\"Web Development\",\"Web Development\",\"Web Development\",\"Web Development\",\"Web Development\",\"Web Development\",\"Web Development\",\"Web Development\",\"Web Development\",\"Web Development\",\"Web Development\",\"Web Development\",\"Web Development\",\"Web Development\",\"Web Development\",\"Web Development\",\"Web Development\",\"Web Development\",\"Web Development\",\"Web Development\",\"Web Development\",\"Web Development\",\"Web Development\",\"Web Development\",\"Web Development\",\"Web Development\",\"Web Development\",\"Web Development\",\"Web Development\",\"Web Development\",\"Web Development\",\"Web Development\",\"Web Development\",\"Web Development\",\"Web Development\",\"Web Development\",\"Web Development\",\"Web Development\",\"Web Development\",\"Web Development\",\"Web Development\",\"Web Development\",\"Web Development\",\"Web Development\",\"Web Development\",\"Web Development\",\"Web Development\",\"Web Development\",\"Web Development\",\"Web Development\",\"Web Development\",\"Web Development\",\"Web Development\",\"Web Development\",\"Web Development\",\"Web Development\",\"Web Development\",\"Web Development\",\"Web Development\",\"Web Development\",\"Web Development\",\"Web Development\",\"Web Development\",\"Web Development\",\"Web Development\",\"Web Development\",\"Web Development\",\"Web Development\",\"Web Development\",\"Web Development\",\"Web Development\",\"Web Development\",\"Web Development\",\"Web Development\",\"Web Development\",\"Web Development\",\"Web Development\",\"Web Development\",\"Web Development\",\"Web Development\",\"Web Development\",\"Web Development\",\"Web Development\",\"Web Development\",\"Web Development\",\"Web Development\",\"Web Development\",\"Web Development\",\"Web Development\",\"Web Development\",\"Web Development\",\"Web Development\",\"Web Development\",\"Web Development\",\"Web Development\",\"Web Development\",\"Web Development\",\"Web Development\",\"Web Development\",\"Web Development\",\"Web Development\",\"Web Development\",\"Web Development\",\"Web Development\",\"Web Development\",\"Web Development\",\"Web Development\",\"Web Development\",\"Web Development\",\"Web Development\",\"Web Development\",\"Web Development\",\"Web Development\",\"Web Development\",\"Web Development\",\"Web Development\",\"Web Development\",\"Web Development\",\"Web Development\",\"Web Development\",\"Web Development\",\"Web Development\",\"Web Development\",\"Web Development\",\"Web Development\",\"Web Development\",\"Web Development\",\"Web Development\",\"Web Development\",\"Web Development\",\"Web Development\",\"Web Development\",\"Web Development\",\"Web Development\",\"Web Development\",\"Web Development\",\"Web Development\",\"Web Development\",\"Web Development\",\"Web Development\",\"Web Development\",\"Web Development\",\"Web Development\",\"Web Development\",\"Web Development\",\"Web Development\",\"Web Development\",\"Web Development\",\"Web Development\",\"Web Development\",\"Web Development\",\"Web Development\",\"Web Development\",\"Web Development\",\"Web Development\",\"Web Development\",\"Web Development\",\"Web Development\",\"Web Development\",\"Web Development\",\"Web Development\",\"Web Development\",\"Web Development\",\"Web Development\",\"Web Development\",\"Web Development\",\"Web Development\",\"Web Development\",\"Web Development\",\"Web Development\",\"Web Development\",\"Web Development\",\"Web Development\",\"Web Development\",\"Web Development\",\"Web Development\",\"Web Development\",\"Web Development\",\"Web Development\",\"Web Development\",\"Web Development\",\"Web Development\",\"Web Development\",\"Web Development\",\"Web Development\",\"Web Development\",\"Web Development\",\"Web Development\",\"Web Development\",\"Web Development\",\"Web Development\",\"Web Development\",\"Web Development\",\"Web Development\",\"Web Development\",\"Web Development\",\"Web Development\",\"Web Development\",\"Web Development\",\"Web Development\",\"Web Development\",\"Web Development\",\"Web Development\",\"Web Development\",\"Web Development\",\"Web Development\",\"Web Development\",\"Web Development\",\"Web Development\",\"Web Development\",\"Web Development\",\"Web Development\",\"Web Development\",\"Web Development\",\"Web Development\",\"Web Development\",\"Web Development\",\"Web Development\",\"Web Development\",\"Web Development\",\"Web Development\",\"Web Development\",\"Web Development\",\"Web Development\",\"Web Development\",\"Web Development\",\"Web Development\",\"Web Development\",\"Web Development\",\"Web Development\",\"Web Development\",\"Web Development\",\"Web Development\",\"Web Development\",\"Web Development\",\"Web Development\",\"Web Development\",\"Web Development\",\"Web Development\",\"Web Development\",\"Web Development\",\"Web Development\",\"Web Development\",\"Web Development\",\"Web Development\",\"Web Development\",\"Web Development\",\"Web Development\",\"Web Development\",\"Web Development\",\"Web Development\",\"Web Development\",\"Web Development\",\"Web Development\",\"Web Development\",\"Web Development\",\"Web Development\",\"Web Development\",\"Web Development\",\"Web Development\",\"Web Development\",\"Web Development\",\"Web Development\",\"Web Development\",\"Web Development\",\"Web Development\",\"Web Development\",\"Web Development\",\"Web Development\",\"Web Development\",\"Web Development\",\"Web Development\",\"Web Development\",\"Web Development\",\"Web Development\",\"Web Development\",\"Web Development\",\"Web Development\",\"Web Development\",\"Web Development\",\"Web Development\",\"Web Development\",\"Web Development\",\"Web Development\",\"Web Development\",\"Web Development\",\"Web Development\",\"Web Development\",\"Web Development\",\"Web Development\",\"Web Development\",\"Web Development\",\"Web Development\",\"Web Development\",\"Web Development\",\"Web Development\",\"Web Development\",\"Web Development\",\"Web Development\",\"Web Development\",\"Web Development\",\"Web Development\",\"Web Development\",\"Web Development\",\"Web Development\",\"Web Development\",\"Web Development\",\"Web Development\",\"Web Development\",\"Web Development\",\"Web Development\",\"Web Development\",\"Web Development\",\"Web Development\",\"Web Development\",\"Web Development\",\"Web Development\",\"Web Development\",\"Web Development\",\"Web Development\",\"Web Development\",\"Web Development\",\"Web Development\",\"Web Development\",\"Web Development\",\"Web Development\",\"Web Development\",\"Web Development\",\"Web Development\",\"Web Development\",\"Web Development\",\"Web Development\",\"Web Development\",\"Web Development\",\"Web Development\",\"Web Development\",\"Web Development\",\"Web Development\",\"Web Development\",\"Web Development\",\"Web Development\",\"Web Development\",\"Web Development\",\"Web Development\",\"Web Development\",\"Web Development\",\"Web Development\",\"Web Development\",\"Web Development\",\"Web Development\",\"Web Development\",\"Web Development\",\"Web Development\",\"Web Development\",\"Web Development\",\"Web Development\",\"Web Development\",\"Web Development\",\"Web Development\",\"Web Development\",\"Web Development\",\"Web Development\",\"Web Development\",\"Web Development\",\"Web Development\",\"Web Development\",\"Web Development\",\"Web Development\",\"Web Development\",\"Web Development\",\"Web Development\",\"Web Development\",\"Web Development\",\"Web Development\",\"Web Development\",\"Web Development\",\"Web Development\",\"Web Development\",\"Web Development\",\"Web Development\",\"Web Development\",\"Web Development\",\"Web Development\",\"Web Development\",\"Web Development\",\"Web Development\",\"Web Development\",\"Web Development\",\"Web Development\",\"Web Development\",\"Web Development\",\"Web Development\",\"Web Development\",\"Web Development\",\"Web Development\",\"Web Development\",\"Web Development\",\"Web Development\",\"Web Development\",\"Web Development\",\"Web Development\",\"Web Development\",\"Web Development\",\"Web Development\",\"Web Development\",\"Web Development\",\"Web Development\",\"Web Development\",\"Web Development\",\"Web Development\",\"Web Development\",\"Web Development\",\"Web Development\",\"Web Development\",\"Web Development\",\"Web Development\",\"Web Development\",\"Web Development\",\"Web Development\",\"Web Development\",\"Web Development\",\"Web Development\",\"Web Development\",\"Web Development\",\"Web Development\",\"Web Development\",\"Web Development\",\"Web Development\",\"Web Development\",\"Web Development\",\"Web Development\",\"Web Development\",\"Web Development\",\"Web Development\",\"Web Development\",\"Web Development\",\"Web Development\",\"Web Development\",\"Web Development\",\"Web Development\",\"Web Development\",\"Web Development\",\"Web Development\",\"Web Development\",\"Web Development\",\"Web Development\",\"Web Development\",\"Web Development\",\"Web Development\",\"Web Development\",\"Web Development\",\"Web Development\",\"Web Development\",\"Web Development\",\"Web Development\",\"Web Development\",\"Web Development\",\"Web Development\",\"Web Development\",\"Web Development\",\"Web Development\",\"Web Development\",\"Web Development\",\"Web Development\",\"Web Development\",\"Web Development\",\"Web Development\",\"Web Development\",\"Web Development\",\"Web Development\",\"Web Development\",\"Web Development\",\"Web Development\",\"Web Development\",\"Web Development\",\"Web Development\",\"Web Development\",\"Web Development\",\"Web Development\",\"Web Development\",\"Web Development\",\"Web Development\",\"Web Development\",\"Web Development\",\"Web Development\",\"Web Development\",\"Web Development\",\"Web Development\",\"Web Development\",\"Web Development\",\"Web Development\",\"Web Development\",\"Web Development\",\"Web Development\",\"Web Development\",\"Web Development\",\"Web Development\",\"Web Development\",\"Web Development\",\"Web Development\",\"Web Development\",\"Web Development\",\"Web Development\",\"Web Development\",\"Web Development\",\"Web Development\",\"Web Development\",\"Web Development\",\"Web Development\",\"Web Development\",\"Web Development\",\"Web Development\",\"Web Development\",\"Web Development\",\"Web Development\",\"Web Development\",\"Web Development\",\"Web Development\",\"Web Development\",\"Web Development\",\"Web Development\",\"Web Development\",\"Web Development\",\"Web Development\",\"Web Development\",\"Web Development\",\"Web Development\",\"Web Development\",\"Web Development\",\"Web Development\",\"Web Development\",\"Web Development\",\"Web Development\",\"Web Development\",\"Web Development\",\"Web Development\",\"Web Development\",\"Web Development\",\"Web Development\",\"Web Development\",\"Web Development\",\"Web Development\",\"Web Development\",\"Web Development\",\"Web Development\",\"Web Development\",\"Web Development\",\"Web Development\",\"Web Development\",\"Web Development\",\"Web Development\",\"Web Development\",\"Web Development\",\"Web Development\",\"Web Development\",\"Web Development\",\"Web Development\",\"Web Development\",\"Web Development\",\"Web Development\",\"Web Development\",\"Web Development\",\"Web Development\",\"Web Development\",\"Web Development\",\"Web Development\",\"Web Development\",\"Web Development\",\"Web Development\",\"Web Development\",\"Web Development\",\"Web Development\",\"Web Development\",\"Web Development\",\"Web Development\",\"Web Development\",\"Web Development\",\"Web Development\",\"Web Development\",\"Web Development\",\"Web Development\",\"Web Development\",\"Web Development\",\"Web Development\",\"Web Development\",\"Web Development\",\"Web Development\",\"Web Development\",\"Web Development\",\"Web Development\",\"Web Development\",\"Web Development\",\"Web Development\",\"Web Development\",\"Web Development\",\"Web Development\",\"Web Development\",\"Web Development\",\"Web Development\",\"Web Development\",\"Web Development\",\"Web Development\",\"Web Development\",\"Web Development\",\"Web Development\",\"Web Development\",\"Web Development\",\"Web Development\",\"Web Development\",\"Web Development\",\"Web Development\",\"Web Development\",\"Web Development\",\"Web Development\",\"Web Development\",\"Web Development\",\"Web Development\",\"Web Development\",\"Web Development\",\"Web Development\",\"Web Development\",\"Web Development\",\"Web Development\",\"Web Development\",\"Web Development\",\"Web Development\",\"Web Development\",\"Web Development\",\"Web Development\",\"Web Development\",\"Web Development\",\"Web Development\",\"Web Development\",\"Web Development\",\"Web Development\",\"Web Development\",\"Web Development\",\"Web Development\",\"Web Development\",\"Web Development\",\"Web Development\",\"Web Development\",\"Web Development\",\"Web Development\",\"Web Development\",\"Web Development\",\"Web Development\",\"Web Development\",\"Web Development\",\"Web Development\",\"Web Development\",\"Web Development\",\"Web Development\",\"Web Development\",\"Web Development\",\"Web Development\",\"Web Development\",\"Web Development\",\"Web Development\",\"Web Development\",\"Web Development\",\"Web Development\",\"Web Development\",\"Web Development\",\"Web Development\",\"Web Development\",\"Web Development\",\"Web Development\",\"Web Development\",\"Web Development\",\"Web Development\",\"Web Development\",\"Web Development\",\"Web Development\",\"Web Development\",\"Web Development\",\"Web Development\",\"Web Development\",\"Web Development\",\"Web Development\",\"Web Development\",\"Web Development\",\"Web Development\",\"Web Development\",\"Web Development\",\"Web Development\",\"Web Development\",\"Web Development\",\"Web Development\",\"Web Development\",\"Web Development\",\"Web Development\",\"Web Development\",\"Web Development\",\"Web Development\",\"Web Development\",\"Web Development\",\"Web Development\",\"Web Development\",\"Web Development\",\"Web Development\",\"Web Development\",\"Web Development\",\"Web Development\",\"Web Development\",\"Web Development\",\"Web Development\",\"Web Development\",\"Web Development\",\"Web Development\",\"Web Development\",\"Web Development\",\"Web Development\",\"Web Development\",\"Web Development\",\"Web Development\",\"Web Development\",\"Web Development\",\"Web Development\",\"Web Development\",\"Web Development\",\"Web Development\",\"Web Development\",\"Web Development\",\"Web Development\",\"Web Development\",\"Web Development\",\"Web Development\",\"Web Development\",\"Web Development\",\"Web Development\",\"Web Development\",\"Web Development\",\"Web Development\",\"Web Development\",\"Web Development\",\"Web Development\",\"Web Development\",\"Web Development\",\"Web Development\",\"Web Development\",\"Web Development\",\"Web Development\",\"Web Development\",\"Web Development\",\"Web Development\",\"Web Development\",\"Web Development\",\"Web Development\",\"Web Development\",\"Web Development\",\"Web Development\",\"Web Development\",\"Web Development\",\"Web Development\",\"Web Development\",\"Web Development\",\"Web Development\",\"Web Development\",\"Web Development\",\"Web Development\",\"Web Development\",\"Web Development\",\"Web Development\",\"Web Development\",\"Web Development\",\"Web Development\",\"Web Development\",\"Web Development\",\"Web Development\",\"Web Development\",\"Web Development\",\"Web Development\",\"Web Development\",\"Web Development\",\"Web Development\",\"Web Development\",\"Web Development\",\"Web Development\",\"Web Development\",\"Web Development\",\"Web Development\",\"Web Development\",\"Web Development\",\"Web Development\",\"Web Development\",\"Web Development\",\"Web Development\",\"Web Development\",\"Web Development\",\"Web Development\",\"Web Development\",\"Web Development\",\"Web Development\",\"Web Development\",\"Web Development\",\"Web Development\",\"Web Development\",\"Web Development\",\"Web Development\",\"Web Development\",\"Web Development\",\"Web Development\",\"Web Development\",\"Web Development\",\"Web Development\",\"Web Development\",\"Web Development\",\"Web Development\",\"Web Development\",\"Web Development\",\"Web Development\",\"Web Development\",\"Web Development\",\"Web Development\",\"Web Development\",\"Web Development\",\"Web Development\",\"Web Development\",\"Web Development\",\"Web Development\",\"Web Development\",\"Web Development\",\"Web Development\",\"Web Development\",\"Web Development\",\"Web Development\",\"Web Development\",\"Web Development\",\"Web Development\",\"Web Development\",\"Web Development\",\"Web Development\",\"Web Development\",\"Web Development\",\"Web Development\",\"Web Development\",\"Web Development\",\"Web Development\",\"Web Development\",\"Web Development\",\"Web Development\",\"Web Development\",\"Web Development\",\"Web Development\",\"Web Development\",\"Web Development\",\"Web Development\",\"Web Development\",\"Web Development\",\"Web Development\",\"Web Development\",\"Web Development\",\"Web Development\",\"Web Development\",\"Web Development\",\"Web Development\",\"Web Development\",\"Web Development\",\"Web Development\",\"Web Development\",\"Web Development\",\"Web Development\",\"Web Development\",\"Web Development\",\"Web Development\",\"Web Development\",\"Web Development\",\"Web Development\",\"Web Development\",\"Web Development\",\"Web Development\",\"Web Development\",\"Web Development\",\"Web Development\",\"Web Development\",\"Web Development\",\"Web Development\",\"Web Development\",\"Web Development\",\"Web Development\",\"Web Development\",\"Web Development\"],\"xaxis\":\"x\",\"y\":[1,1,1,1,1,1,1,1,1,1,1,1,1,1,1,1,1,1,1,1,1,1,1,1,1,1,1,1,1,1,1,1,1,1,1,1,1,1,1,1,1,1,1,1,1,1,1,1,1,1,1,1,1,1,1,1,1,1,1,1,1,1,1,1,1,1,1,1,1,1,1,1,1,1,1,1,1,1,1,1,1,1,1,1,1,1,1,1,1,1,1,1,1,1,1,1,1,1,1,1,1,1,1,1,1,1,1,1,1,1,1,1,1,1,1,1,1,1,1,1,1,1,1,1,1,1,1,1,1,1,1,1,1,1,1,1,1,1,1,1,1,1,1,1,1,1,1,1,1,1,1,1,1,1,1,1,1,1,1,1,1,1,1,1,1,1,1,1,1,1,1,1,1,1,1,1,1,1,1,1,1,1,1,1,1,1,1,1,1,1,1,1,1,1,1,1,1,1,1,1,1,1,1,1,1,1,1,1,1,1,1,1,1,1,1,1,1,1,1,1,1,1,1,1,1,1,1,1,1,1,1,1,1,1,1,1,1,1,1,1,1,1,1,1,1,1,1,1,1,1,1,1,1,1,1,1,1,1,1,1,1,1,1,1,1,1,1,1,1,1,1,1,1,1,1,1,1,1,1,1,1,1,1,1,1,1,1,1,1,1,1,1,1,1,1,1,1,1,1,1,1,1,1,1,1,1,1,1,1,1,1,1,1,1,1,1,1,1,1,1,1,1,1,1,1,1,1,1,1,1,1,1,1,1,1,1,1,1,1,1,1,1,1,1,1,1,1,1,1,1,1,1,1,1,1,1,1,1,1,1,1,1,1,1,1,1,1,1,1,1,1,1,1,1,1,1,1,1,1,1,1,1,1,1,1,1,1,1,1,1,1,1,1,1,1,1,1,1,1,1,1,1,1,1,1,1,1,1,1,1,1,1,1,1,1,1,1,1,1,1,1,1,1,1,1,1,1,1,1,1,1,1,1,1,1,1,1,1,1,1,1,1,1,1,1,1,1,1,1,1,1,1,1,1,1,1,1,1,1,1,1,1,1,1,1,1,1,1,1,1,1,1,1,1,1,1,1,1,1,1,1,1,1,1,1,1,1,1,1,1,1,1,1,1,1,1,1,1,1,1,1,1,1,1,1,1,1,1,1,1,1,1,1,1,1,1,1,1,1,1,1,1,1,1,1,1,1,1,1,1,1,1,1,1,1,1,1,1,1,1,1,1,1,1,1,1,1,1,1,1,1,1,1,1,1,1,1,1,1,1,1,1,1,1,1,1,1,1,1,1,1,1,1,1,1,1,1,1,1,1,1,1,1,1,1,1,1,1,1,1,1,1,1,1,1,1,1,1,1,1,1,1,1,1,1,1,1,1,1,1,1,1,1,1,1,1,1,1,1,1,1,1,1,1,1,1,1,1,1,1,1,1,1,1,1,1,1,1,1,1,1,1,1,1,1,1,1,1,1,1,1,1,1,1,1,1,1,1,1,1,1,1,1,1,1,1,1,1,1,1,1,1,1,1,1,1,1,1,1,1,1,1,1,1,1,1,1,1,1,1,1,1,1,1,1,1,1,1,1,1,1,1,1,1,1,1,1,1,1,1,1,1,1,1,1,1,1,1,1,1,1,1,1,1,1,1,1,1,1,1,1,1,1,1,1,1,1,1,1,1,1,1,1,1,1,1,1,1,1,1,1,1,1,1,1,1,1,1,1,1,1,1,1,1,1,1,1,1,1,1,1,1,1,1,1,1,1,1,1,1,1,1,1,1,1,1,1,1,1,1,1,1,1,1,1,1,1,1,1,1,1,1,1,1,1,1,1,1,1,1,1,1,1,1,1,1,1,1,1,1,1,1,1,1,1,1,1,1,1,1,1,1,1,1,1,1,1,1,1,1,1,1,1,1,1,1,1,1,1,1,1,1,1,1,1,1,1,1,1,1,1,1,1,1,1,1,1,1,1,1,1,1,1,1,1,1,1,1,1,1,1,1,1,1,1,1,1,1,1,1,1,1,1,1,1,1,1,1,1,1,1,1,1,1,1,1,1,1,1,1,1,1,1,1,1,1,1,1,1,1,1,1,1,1,1,1,1,1,1,1,1,1,1,1,1,1,1,1,1,1,1,1,1,1,1,1,1,1,1,1,1,1,1,1,1,1,1,1,1,1,1,1,1,1,1,1,1,1,1,1,1,1,1,1,1,1,1,1,1,1,1,1,1,1,1,1,1,1,1,1,1,1,1,1,1,1,1,1,1,1,1,1,1,1,1,1,1,1,1,1,1,1,1,1,1,1,1,1,1,1,1,1,1,1,1,1,1,1,1,1,1,1,1,1,1,1,1,1,1,1,1,1,1,1,1,1,1,1,1,1,1,1,1,1,1,1,1,1,1,1,1,1,1,1,1,1,1,1,1,1,1,1,1,1,1,1,1,1,1,1,1,1,1,1,1,1,1,1,1,1,1,1,1,1,1,1,1,1,1,1,1,1,1,1,1,1,1,1,1,1,1,1,1,1,1,1,1,1,1,1,1,1,1,1,1,1,1,1,1,1,1,1,1,1,1,1,1,1,1,1,1,1,1,1,1,1,1,1,1,1,1,1,1,1,1,1,1,1,1,1,1,1,1,1,1,1,1,1,1,1,1,1,1,1,1,1,1,1,1,1,1,1,1,1,1,1,1,1,1,1,1,1,1,1,1,1,1,1,1,1,1,1,1,1,1,1,1,1,1,1,1,1,1,1,1,1,1,1,1,1,1,1,1,1,1,1,1,1,1,1,1,1,1,1,1,1,1,1,1,1,1,1,1,1,1,1,1,1,1,1,1,1,1,1,1,1,1,1,1,1,1,1,1,1,1,1,1,1,1,1,1,1,1,1,1,1,1,1,1,1,1,1,1,1,1,1,1,1,1,1,1,1,1,1,1,1,1,1,1,1,1,1,1,1,1,1,1,1,1,1,1,1,1,1,1,1,1,1,1,1,1,1,1,1,1,1,1,1,1,1,1,1,1,1,1,1,1,1,1,1,1,1,1,1,1,1,1,1,1,1,1,1,1,1,1,1,1,1,1,1,1,1,1,1,1,1,1,1,1,1,1,1,1,1,1,1,1,1,1,1,1,1,1,1,1,1,1,1,1,1,1,1,1,1,1,1,1,1,1,1,1,1,1,1,1,1,1,1,1,1,1,1,1,1,1,1,1,1,1,1,1,1,1,1,1,1,1,1,1,1,1,1,1,1,1,1,1,1,1,1,1,1,1,1,1,1,1,1,1,1,1,1,1,1,1,1,1,1,1,1,1,1,1,1,1,1,1,1,1,1,1,1,1,1,1,1,1,1,1,1,1,1,1,1,1,1,1,1,1,1,1,1,1,1,1,1,1,1,1,1,1,1,1,1,1,1,1,1,1,1,1,1,1,1,1,1,1,1,1,1,1,1,1,1,1,1,1,1,1,1,1,1,1,1,1,1,1,1,1,1,1,1,1,1,1,1,1,1,1,1,1,1,1,1,1,1,1,1,1,1,1,1,1,1,1,1,1,1,1,1,1,1,1,1,1,1,1,1,1,1,1,1,1,1,1,1,1,1,1,1,1,1,1,1,1,1,1,1,1,1,1,1,1,1,1,1,1,1,1,1,1,1,1,1,1,1,1,1,1,1,1,1,1,1,1,1,1,1,1,1,1,1,1,1,1,1,1,1,1,1,1,1,1,1,1,1,1,1,1,1,1,1,1,1,1,1,1,1,1,1,1,1,1,1,1,1,1,1,1,1,1,1,1,1,1,1,1,1,1,1,1,1,1,1,1,1,1,1,1,1,1,1,1,1,1,1,1,1,1,1,1,1,1,1,1,1,1,1,1,1,1,1,1,1,1,1,1,1,1,1,1,1,1,1,1,1,1,1,1,1,1,1,1,1,1,1,1,1,1,1,1,1,1,1,1,1,1,1,1,1,1,1,1,1,1,1,1,1,1,1,1,1,1,1,1,1,1,1,1,1,1,1,1,1,1,1,1,1,1,1,1,1,1,1,1,1,1,1,1,1,1,1,1,1,1,1,1,1,1,1,1,1,1,1,1,1,1,1,1,1,1,1,1,1,1,1,1,1,1,1,1,1,1,1,1,1,1,1,1,1,1,1,1,1,1,1,1,1,1,1,1,1,1,1,1,1,1,1,1,1,1,1,1,1,1,1,1,1,1,1,1,1,1,1,1,1,1,1,1,1,1,1,1,1,1,1,1,1,1,1,1,1,1,1,1,1,1,1,1,1,1,1,1,1,1,1,1,1,1,1,1,1,1,1,1,1,1,1,1,1,1,1,1,1,1,1,1,1,1,1,1,1,1,1,1,1,1,1,1,1,1,1,1,1,1,1,1,1,1,1,1,1,1,1,1,1,1,1,1,1,1,1,1,1,1,1,1,1,1,1,1,1,1,1,1,1,1,1,1,1,1,1,1,1,1,1,1,1,1,1,1,1,1,1,1,1,1,1,1,1,1,1,1,1,1,1,1,1,1,1,1,1,1,1,1,1,1,1,1,1,1,1,1,1,1,1,1,1,1,1,1,1,1,1,1,1,1,1,1,1,1,1,1,1,1,1,1,1,1,1,1,1,1,1,1,1,1,1,1,1,1,1,1,1,1,1,1,1,1,1,1,1,1,1,1,1,1,1,1,1,1,1,1,1,1,1,1,1,1,1,1,1,1,1,1,1,1,1,1,1,1,1,1,1,1,1,1,1,1,1,1,1,1,1,1,1,1,1,1,1,1,1,1,1,1,1,1,1,1,1,1,1,1,1,1,1,1,1,1,1,1,1,1,1,1,1,1,1,1,1,1,1,1,1,1,1,1,1,1,1,1,1,1,1,1,1,1,1,1,1,1,1,1,1,1,1,1,1,1,1,1,1,1,1,1,1,1,1,1,1,1,1,1,1,1,1,1,1,1,1,1,1,1,1,1,1,1,1,1,1,1,1,1,1,1,1,1,1,1,1,1,1,1,1,1,1,1,1,1,1,1,1,1,1,1,1,1,1,1,1,1,1,1,1,1,1,1,1,1,1,1,1,1,1,1,1,1,1,1,1,1,1,1,1,1,1,1,1,1,1,1,1,1,1,1,1,1,1,1,1,1,1,1,1,1,1,1,1,1,1,1,1,1,1,1,1,1,1,1,1,1,1,1,1,1,1,1,1,1,1,1,1,1,1,1,1,1,1,1,1,1,1,1,1,1,1,1,1,1,1,1,1,1,1,1,1,1,1,1,1,1,1,1,1,1,1,1,1,1,1,1,1,1,1,1,1,1,1,1,1,1,1,1,1,1,1,1,1,1,1,1,1,1,1,1,1,1,1,1,1,1,1,1,1,1,1,1,1,1,1,1,1,1,1,1,1,1,1,1,1,1,1,1,1,1,1,1,1,1,1,1,1,1,1,1,1,1,1,1,1,1,1,1,1,1,1,1,1,1,1,1,1,1,1,1,1,1,1,1,1,1,1,1,1,1,1,1,1,1,1,1,1,1,1,1,1,1,1,1,1,1,1,1,1,1,1,1,1,1,1,1,1,1,1,1,1,1,1,1,1,1,1,1,1,1,1,1,1,1,1,1,1,1,1,1,1,1,1,1,1,1,1,1,1,1,1,1,1,1,1,1,1,1,1,1,1,1,1,1,1,1,1,1,1,1,1,1,1,1,1,1,1,1,1,1,1,1,1,1,1,1,1,1,1,1,1,1,1,1,1,1,1,1,1,1,1,1,1,1,1,1,1,1,1,1,1,1,1,1,1,1,1,1,1,1,1,1,1,1,1,1,1,1,1,1,1,1,1,1,1,1,1,1,1,1,1,1,1,1,1,1,1,1,1,1,1,1,1,1,1,1,1,1,1,1,1,1,1,1,1,1,1,1,1,1,1,1,1,1,1,1,1,1,1,1,1,1,1,1,1,1,1,1,1,1,1,1,1,1,1,1,1,1,1,1,1,1,1,1,1,1,1,1,1,1,1,1,1,1,1,1,1,1,1,1,1,1,1,1,1,1,1,1,1,1,1,1,1,1,1,1,1,1,1,1,1,1,1,1,1,1,1,1,1,1,1,1,1,1,1,1,1,1,1,1,1,1,1,1,1,1,1,1,1,1,1,1,1,1,1,1,1,1,1,1,1,1,1,1,1,1,1,1,1,1,1,1,1,1,1,1,1,1,1,1,1,1,1,1,1,1,1,1,1,1,1,1,1,1,1,1,1,1,1,1,1,1,1,1,1,1,1,1,1,1,1,1,1,1,1,1,1,1,1,1,1,1,1,1,1,1,1,1,1,1,1,1,1,1,1,1,1,1,1,1,1,1,1,1,1,1,1,1,1,1,1,1,1,1,1,1,1,1,1,1,1,1,1,1,1,1,1,1,1,1,1,1,1,1,1,1,1,1,1,1,1,1,1,1,1,1,1,1,1,1,1,1,1,1,1,1,1,1,1,1,1,1,1,1,1,1,1,1,1,1,1,1,1,1,1,1,1,1,1,1,1,1,1,1,1,1,1,1,1,1,1,1,1,1,1,1,1,1,1,1,1,1,1,1,1,1,1,1,1,1,1,1,1,1,1,1,1,1,1,1,1,1,1,1,1,1,1,1,1,1,1,1,1,1,1,1,1,1,1,1,1,1,1,1,1,1,1,1,1,1,1,1,1,1,1,1,1,1,1,1,1,1,1,1,1,1,1,1,1,1,1,1,1,1,1,1,1,1,1,1,1,1,1,1,1,1,1,1,1,1,1,1,1,1,1,1,1,1,1,1,1,1,1,1,1,1,1,1,1,1,1,1,1,1,1,1,1,1,1,1,1,1,1,1,1,1,1,1,1,1,1,1,1,1,1,1,1,1,1,1,1,1,1,1,1,1,1,1,1,1,1,1,1,1,1,1,1,1,1,1,1,1,1,1,1,1,1,1,1,1,1,1,1,1,1,1,1,1,1,1,1,1,1,1,1,1,1,1,1,1,1,1,1,1,1,1,1,1,1,1,1,1,1,1,1,1,1,1,1,1,1,1,1,1,1,1,1,1,1,1,1,1,1,1,1,1,1,1,1,1,1,1,1,1,1,1,1,1,1,1,1,1,1,1,1,1,1,1,1,1,1,1,1,1,1,1,1,1,1,1,1,1,1,1,1,1,1,1,1,1,1,1,1,1,1,1,1,1,1,1,1,1,1,1,1,1,1,1,1,1,1,1,1,1,1,1,1,1,1,1,1,1,1,1,1,1,1,1,1,1,1,1,1,1,1,1,1,1,1,1,1,1,1,1,1,1,1,1,1,1,1,1,1,1,1,1,1,1,1,1,1,1,1,1,1,1,1,1,1,1,1,1,1,1,1,1,1,1,1,1,1,1,1,1,1,1,1,1,1,1,1,1,1,1,1,1,1,1,1,1,1,1,1,1,1,1,1,1,1,1,1,1,1,1,1,1,1,1,1,1,1,1,1,1,1,1,1,1,1,1,1,1,1,1,1,1,1,1,1,1,1,1,1,1,1,1,1,1,1,1,1,1,1,1,1,1,1,1,1,1,1,1,1,1,1,1,1,1,1,1,1,1,1,1,1,1,1,1,1,1,1,1,1,1,1,1,1,1,1,1,1,1,1,1,1,1,1,1,1,1,1,1,1,1,1,1,1,1,1,1,1,1,1,1,1,1,1,1,1,1,1,1,1,1,1,1,1,1,1,1,1,1,1,1,1,1,1,1,1,1,1,1,1,1,1,1,1,1,1,1,1,1,1,1,1,1,1,1,1,1,1,1,1,1,1,1,1,1,1,1,1,1,1,1,1,1,1,1,1,1,1,1,1,1,1,1,1,1,1,1,1,1,1,1,1,1,1,1,1,1,1,1,1,1,1,1,1,1,1,1,1,1,1,1,1,1,1,1,1,1,1,1,1,1,1,1,1,1,1,1,1,1,1,1,1,1,1,1,1,1,1,1,1,1,1,1,1,1,1,1,1,1,1,1,1,1,1,1,1,1,1,1,1,1,1,1,1,1,1,1,1,1,1,1,1,1,1,1,1,1,1,1,1,1,1,1,1,1,1,1,1,1,1,1,1,1,1,1,1,1,1,1,1,1,1,1,1,1,1,1,1,1,1,1,1,1,1,1,1,1,1,1,1,1,1,1,1,1,1,1,1,1,1,1,1,1,1,1,1,1,1,1,1,1,1,1,1,1,1,1,1,1,1,1,1,1,1,1,1,1,1,1,1,1,1,1,1,1,1,1,1,1,1,1,1,1,1,1,1,1,1,1,1,1,1,1,1,1,1,1,1,1,1],\"yaxis\":\"y\",\"type\":\"bar\"}],                        {\"template\":{\"data\":{\"histogram2dcontour\":[{\"type\":\"histogram2dcontour\",\"colorbar\":{\"outlinewidth\":0,\"ticks\":\"\"},\"colorscale\":[[0.0,\"#0d0887\"],[0.1111111111111111,\"#46039f\"],[0.2222222222222222,\"#7201a8\"],[0.3333333333333333,\"#9c179e\"],[0.4444444444444444,\"#bd3786\"],[0.5555555555555556,\"#d8576b\"],[0.6666666666666666,\"#ed7953\"],[0.7777777777777778,\"#fb9f3a\"],[0.8888888888888888,\"#fdca26\"],[1.0,\"#f0f921\"]]}],\"choropleth\":[{\"type\":\"choropleth\",\"colorbar\":{\"outlinewidth\":0,\"ticks\":\"\"}}],\"histogram2d\":[{\"type\":\"histogram2d\",\"colorbar\":{\"outlinewidth\":0,\"ticks\":\"\"},\"colorscale\":[[0.0,\"#0d0887\"],[0.1111111111111111,\"#46039f\"],[0.2222222222222222,\"#7201a8\"],[0.3333333333333333,\"#9c179e\"],[0.4444444444444444,\"#bd3786\"],[0.5555555555555556,\"#d8576b\"],[0.6666666666666666,\"#ed7953\"],[0.7777777777777778,\"#fb9f3a\"],[0.8888888888888888,\"#fdca26\"],[1.0,\"#f0f921\"]]}],\"heatmap\":[{\"type\":\"heatmap\",\"colorbar\":{\"outlinewidth\":0,\"ticks\":\"\"},\"colorscale\":[[0.0,\"#0d0887\"],[0.1111111111111111,\"#46039f\"],[0.2222222222222222,\"#7201a8\"],[0.3333333333333333,\"#9c179e\"],[0.4444444444444444,\"#bd3786\"],[0.5555555555555556,\"#d8576b\"],[0.6666666666666666,\"#ed7953\"],[0.7777777777777778,\"#fb9f3a\"],[0.8888888888888888,\"#fdca26\"],[1.0,\"#f0f921\"]]}],\"heatmapgl\":[{\"type\":\"heatmapgl\",\"colorbar\":{\"outlinewidth\":0,\"ticks\":\"\"},\"colorscale\":[[0.0,\"#0d0887\"],[0.1111111111111111,\"#46039f\"],[0.2222222222222222,\"#7201a8\"],[0.3333333333333333,\"#9c179e\"],[0.4444444444444444,\"#bd3786\"],[0.5555555555555556,\"#d8576b\"],[0.6666666666666666,\"#ed7953\"],[0.7777777777777778,\"#fb9f3a\"],[0.8888888888888888,\"#fdca26\"],[1.0,\"#f0f921\"]]}],\"contourcarpet\":[{\"type\":\"contourcarpet\",\"colorbar\":{\"outlinewidth\":0,\"ticks\":\"\"}}],\"contour\":[{\"type\":\"contour\",\"colorbar\":{\"outlinewidth\":0,\"ticks\":\"\"},\"colorscale\":[[0.0,\"#0d0887\"],[0.1111111111111111,\"#46039f\"],[0.2222222222222222,\"#7201a8\"],[0.3333333333333333,\"#9c179e\"],[0.4444444444444444,\"#bd3786\"],[0.5555555555555556,\"#d8576b\"],[0.6666666666666666,\"#ed7953\"],[0.7777777777777778,\"#fb9f3a\"],[0.8888888888888888,\"#fdca26\"],[1.0,\"#f0f921\"]]}],\"surface\":[{\"type\":\"surface\",\"colorbar\":{\"outlinewidth\":0,\"ticks\":\"\"},\"colorscale\":[[0.0,\"#0d0887\"],[0.1111111111111111,\"#46039f\"],[0.2222222222222222,\"#7201a8\"],[0.3333333333333333,\"#9c179e\"],[0.4444444444444444,\"#bd3786\"],[0.5555555555555556,\"#d8576b\"],[0.6666666666666666,\"#ed7953\"],[0.7777777777777778,\"#fb9f3a\"],[0.8888888888888888,\"#fdca26\"],[1.0,\"#f0f921\"]]}],\"mesh3d\":[{\"type\":\"mesh3d\",\"colorbar\":{\"outlinewidth\":0,\"ticks\":\"\"}}],\"scatter\":[{\"fillpattern\":{\"fillmode\":\"overlay\",\"size\":10,\"solidity\":0.2},\"type\":\"scatter\"}],\"parcoords\":[{\"type\":\"parcoords\",\"line\":{\"colorbar\":{\"outlinewidth\":0,\"ticks\":\"\"}}}],\"scatterpolargl\":[{\"type\":\"scatterpolargl\",\"marker\":{\"colorbar\":{\"outlinewidth\":0,\"ticks\":\"\"}}}],\"bar\":[{\"error_x\":{\"color\":\"#2a3f5f\"},\"error_y\":{\"color\":\"#2a3f5f\"},\"marker\":{\"line\":{\"color\":\"#E5ECF6\",\"width\":0.5},\"pattern\":{\"fillmode\":\"overlay\",\"size\":10,\"solidity\":0.2}},\"type\":\"bar\"}],\"scattergeo\":[{\"type\":\"scattergeo\",\"marker\":{\"colorbar\":{\"outlinewidth\":0,\"ticks\":\"\"}}}],\"scatterpolar\":[{\"type\":\"scatterpolar\",\"marker\":{\"colorbar\":{\"outlinewidth\":0,\"ticks\":\"\"}}}],\"histogram\":[{\"marker\":{\"pattern\":{\"fillmode\":\"overlay\",\"size\":10,\"solidity\":0.2}},\"type\":\"histogram\"}],\"scattergl\":[{\"type\":\"scattergl\",\"marker\":{\"colorbar\":{\"outlinewidth\":0,\"ticks\":\"\"}}}],\"scatter3d\":[{\"type\":\"scatter3d\",\"line\":{\"colorbar\":{\"outlinewidth\":0,\"ticks\":\"\"}},\"marker\":{\"colorbar\":{\"outlinewidth\":0,\"ticks\":\"\"}}}],\"scattermapbox\":[{\"type\":\"scattermapbox\",\"marker\":{\"colorbar\":{\"outlinewidth\":0,\"ticks\":\"\"}}}],\"scatterternary\":[{\"type\":\"scatterternary\",\"marker\":{\"colorbar\":{\"outlinewidth\":0,\"ticks\":\"\"}}}],\"scattercarpet\":[{\"type\":\"scattercarpet\",\"marker\":{\"colorbar\":{\"outlinewidth\":0,\"ticks\":\"\"}}}],\"carpet\":[{\"aaxis\":{\"endlinecolor\":\"#2a3f5f\",\"gridcolor\":\"white\",\"linecolor\":\"white\",\"minorgridcolor\":\"white\",\"startlinecolor\":\"#2a3f5f\"},\"baxis\":{\"endlinecolor\":\"#2a3f5f\",\"gridcolor\":\"white\",\"linecolor\":\"white\",\"minorgridcolor\":\"white\",\"startlinecolor\":\"#2a3f5f\"},\"type\":\"carpet\"}],\"table\":[{\"cells\":{\"fill\":{\"color\":\"#EBF0F8\"},\"line\":{\"color\":\"white\"}},\"header\":{\"fill\":{\"color\":\"#C8D4E3\"},\"line\":{\"color\":\"white\"}},\"type\":\"table\"}],\"barpolar\":[{\"marker\":{\"line\":{\"color\":\"#E5ECF6\",\"width\":0.5},\"pattern\":{\"fillmode\":\"overlay\",\"size\":10,\"solidity\":0.2}},\"type\":\"barpolar\"}],\"pie\":[{\"automargin\":true,\"type\":\"pie\"}]},\"layout\":{\"autotypenumbers\":\"strict\",\"colorway\":[\"#636efa\",\"#EF553B\",\"#00cc96\",\"#ab63fa\",\"#FFA15A\",\"#19d3f3\",\"#FF6692\",\"#B6E880\",\"#FF97FF\",\"#FECB52\"],\"font\":{\"color\":\"#2a3f5f\"},\"hovermode\":\"closest\",\"hoverlabel\":{\"align\":\"left\"},\"paper_bgcolor\":\"white\",\"plot_bgcolor\":\"#E5ECF6\",\"polar\":{\"bgcolor\":\"#E5ECF6\",\"angularaxis\":{\"gridcolor\":\"white\",\"linecolor\":\"white\",\"ticks\":\"\"},\"radialaxis\":{\"gridcolor\":\"white\",\"linecolor\":\"white\",\"ticks\":\"\"}},\"ternary\":{\"bgcolor\":\"#E5ECF6\",\"aaxis\":{\"gridcolor\":\"white\",\"linecolor\":\"white\",\"ticks\":\"\"},\"baxis\":{\"gridcolor\":\"white\",\"linecolor\":\"white\",\"ticks\":\"\"},\"caxis\":{\"gridcolor\":\"white\",\"linecolor\":\"white\",\"ticks\":\"\"}},\"coloraxis\":{\"colorbar\":{\"outlinewidth\":0,\"ticks\":\"\"}},\"colorscale\":{\"sequential\":[[0.0,\"#0d0887\"],[0.1111111111111111,\"#46039f\"],[0.2222222222222222,\"#7201a8\"],[0.3333333333333333,\"#9c179e\"],[0.4444444444444444,\"#bd3786\"],[0.5555555555555556,\"#d8576b\"],[0.6666666666666666,\"#ed7953\"],[0.7777777777777778,\"#fb9f3a\"],[0.8888888888888888,\"#fdca26\"],[1.0,\"#f0f921\"]],\"sequentialminus\":[[0.0,\"#0d0887\"],[0.1111111111111111,\"#46039f\"],[0.2222222222222222,\"#7201a8\"],[0.3333333333333333,\"#9c179e\"],[0.4444444444444444,\"#bd3786\"],[0.5555555555555556,\"#d8576b\"],[0.6666666666666666,\"#ed7953\"],[0.7777777777777778,\"#fb9f3a\"],[0.8888888888888888,\"#fdca26\"],[1.0,\"#f0f921\"]],\"diverging\":[[0,\"#8e0152\"],[0.1,\"#c51b7d\"],[0.2,\"#de77ae\"],[0.3,\"#f1b6da\"],[0.4,\"#fde0ef\"],[0.5,\"#f7f7f7\"],[0.6,\"#e6f5d0\"],[0.7,\"#b8e186\"],[0.8,\"#7fbc41\"],[0.9,\"#4d9221\"],[1,\"#276419\"]]},\"xaxis\":{\"gridcolor\":\"white\",\"linecolor\":\"white\",\"ticks\":\"\",\"title\":{\"standoff\":15},\"zerolinecolor\":\"white\",\"automargin\":true,\"zerolinewidth\":2},\"yaxis\":{\"gridcolor\":\"white\",\"linecolor\":\"white\",\"ticks\":\"\",\"title\":{\"standoff\":15},\"zerolinecolor\":\"white\",\"automargin\":true,\"zerolinewidth\":2},\"scene\":{\"xaxis\":{\"backgroundcolor\":\"#E5ECF6\",\"gridcolor\":\"white\",\"linecolor\":\"white\",\"showbackground\":true,\"ticks\":\"\",\"zerolinecolor\":\"white\",\"gridwidth\":2},\"yaxis\":{\"backgroundcolor\":\"#E5ECF6\",\"gridcolor\":\"white\",\"linecolor\":\"white\",\"showbackground\":true,\"ticks\":\"\",\"zerolinecolor\":\"white\",\"gridwidth\":2},\"zaxis\":{\"backgroundcolor\":\"#E5ECF6\",\"gridcolor\":\"white\",\"linecolor\":\"white\",\"showbackground\":true,\"ticks\":\"\",\"zerolinecolor\":\"white\",\"gridwidth\":2}},\"shapedefaults\":{\"line\":{\"color\":\"#2a3f5f\"}},\"annotationdefaults\":{\"arrowcolor\":\"#2a3f5f\",\"arrowhead\":0,\"arrowwidth\":1},\"geo\":{\"bgcolor\":\"white\",\"landcolor\":\"#E5ECF6\",\"subunitcolor\":\"white\",\"showland\":true,\"showlakes\":true,\"lakecolor\":\"white\"},\"title\":{\"x\":0.05},\"mapbox\":{\"style\":\"light\"}}},\"xaxis\":{\"anchor\":\"y\",\"domain\":[0.0,1.0],\"title\":{\"text\":\"subject\"}},\"yaxis\":{\"anchor\":\"x\",\"domain\":[0.0,1.0],\"title\":{\"text\":\"count\"}},\"legend\":{\"tracegroupgap\":0},\"margin\":{\"t\":60},\"barmode\":\"relative\"},                        {\"responsive\": true}                    ).then(function(){\n",
              "                            \n",
              "var gd = document.getElementById('3badd54d-e1e4-4a47-b9f5-92f333b2539d');\n",
              "var x = new MutationObserver(function (mutations, observer) {{\n",
              "        var display = window.getComputedStyle(gd).display;\n",
              "        if (!display || display === 'none') {{\n",
              "            console.log([gd, 'removed!']);\n",
              "            Plotly.purge(gd);\n",
              "            observer.disconnect();\n",
              "        }}\n",
              "}});\n",
              "\n",
              "// Listen for the removal of the full notebook cells\n",
              "var notebookContainer = gd.closest('#notebook-container');\n",
              "if (notebookContainer) {{\n",
              "    x.observe(notebookContainer, {childList: true});\n",
              "}}\n",
              "\n",
              "// Listen for the clearing of the current output cell\n",
              "var outputEl = gd.closest('.output');\n",
              "if (outputEl) {{\n",
              "    x.observe(outputEl, {childList: true});\n",
              "}}\n",
              "\n",
              "                        })                };                            </script>        </div>\n",
              "</body>\n",
              "</html>"
            ]
          },
          "metadata": {}
        }
      ]
    },
    {
      "cell_type": "code",
      "source": [
        "#number of subscribers in each subject\n",
        "sub_num_sub=udemy_data.groupby('subject').num_subscribers.sum().to_frame().reset_index()\n",
        "px.bar(data_frame=sub_num_sub,x='subject',y='num_subscribers')"
      ],
      "metadata": {
        "colab": {
          "base_uri": "https://localhost:8080/",
          "height": 542
        },
        "id": "90movFwmlmaH",
        "outputId": "26cfabb9-6e8e-4bb2-c281-1cb341a209eb"
      },
      "execution_count": null,
      "outputs": [
        {
          "output_type": "display_data",
          "data": {
            "text/html": [
              "<html>\n",
              "<head><meta charset=\"utf-8\" /></head>\n",
              "<body>\n",
              "    <div>            <script src=\"https://cdnjs.cloudflare.com/ajax/libs/mathjax/2.7.5/MathJax.js?config=TeX-AMS-MML_SVG\"></script><script type=\"text/javascript\">if (window.MathJax && window.MathJax.Hub && window.MathJax.Hub.Config) {window.MathJax.Hub.Config({SVG: {font: \"STIX-Web\"}});}</script>                <script type=\"text/javascript\">window.PlotlyConfig = {MathJaxConfig: 'local'};</script>\n",
              "        <script src=\"https://cdn.plot.ly/plotly-2.18.2.min.js\"></script>                <div id=\"187894f5-51f4-4a70-963f-59fc2dbb8108\" class=\"plotly-graph-div\" style=\"height:525px; width:100%;\"></div>            <script type=\"text/javascript\">                                    window.PLOTLYENV=window.PLOTLYENV || {};                                    if (document.getElementById(\"187894f5-51f4-4a70-963f-59fc2dbb8108\")) {                    Plotly.newPlot(                        \"187894f5-51f4-4a70-963f-59fc2dbb8108\",                        [{\"alignmentgroup\":\"True\",\"hovertemplate\":\"subject=%{x}<br>num_subscribers=%{y}<extra></extra>\",\"legendgroup\":\"\",\"marker\":{\"color\":\"#636efa\",\"pattern\":{\"shape\":\"\"}},\"name\":\"\",\"offsetgroup\":\"\",\"orientation\":\"v\",\"showlegend\":false,\"textposition\":\"auto\",\"x\":[\"Business Finance\",\"Graphic Design\",\"Musical Instruments\",\"Web Development\"],\"xaxis\":\"x\",\"y\":[1868711,1063148,846689,7980572],\"yaxis\":\"y\",\"type\":\"bar\"}],                        {\"template\":{\"data\":{\"histogram2dcontour\":[{\"type\":\"histogram2dcontour\",\"colorbar\":{\"outlinewidth\":0,\"ticks\":\"\"},\"colorscale\":[[0.0,\"#0d0887\"],[0.1111111111111111,\"#46039f\"],[0.2222222222222222,\"#7201a8\"],[0.3333333333333333,\"#9c179e\"],[0.4444444444444444,\"#bd3786\"],[0.5555555555555556,\"#d8576b\"],[0.6666666666666666,\"#ed7953\"],[0.7777777777777778,\"#fb9f3a\"],[0.8888888888888888,\"#fdca26\"],[1.0,\"#f0f921\"]]}],\"choropleth\":[{\"type\":\"choropleth\",\"colorbar\":{\"outlinewidth\":0,\"ticks\":\"\"}}],\"histogram2d\":[{\"type\":\"histogram2d\",\"colorbar\":{\"outlinewidth\":0,\"ticks\":\"\"},\"colorscale\":[[0.0,\"#0d0887\"],[0.1111111111111111,\"#46039f\"],[0.2222222222222222,\"#7201a8\"],[0.3333333333333333,\"#9c179e\"],[0.4444444444444444,\"#bd3786\"],[0.5555555555555556,\"#d8576b\"],[0.6666666666666666,\"#ed7953\"],[0.7777777777777778,\"#fb9f3a\"],[0.8888888888888888,\"#fdca26\"],[1.0,\"#f0f921\"]]}],\"heatmap\":[{\"type\":\"heatmap\",\"colorbar\":{\"outlinewidth\":0,\"ticks\":\"\"},\"colorscale\":[[0.0,\"#0d0887\"],[0.1111111111111111,\"#46039f\"],[0.2222222222222222,\"#7201a8\"],[0.3333333333333333,\"#9c179e\"],[0.4444444444444444,\"#bd3786\"],[0.5555555555555556,\"#d8576b\"],[0.6666666666666666,\"#ed7953\"],[0.7777777777777778,\"#fb9f3a\"],[0.8888888888888888,\"#fdca26\"],[1.0,\"#f0f921\"]]}],\"heatmapgl\":[{\"type\":\"heatmapgl\",\"colorbar\":{\"outlinewidth\":0,\"ticks\":\"\"},\"colorscale\":[[0.0,\"#0d0887\"],[0.1111111111111111,\"#46039f\"],[0.2222222222222222,\"#7201a8\"],[0.3333333333333333,\"#9c179e\"],[0.4444444444444444,\"#bd3786\"],[0.5555555555555556,\"#d8576b\"],[0.6666666666666666,\"#ed7953\"],[0.7777777777777778,\"#fb9f3a\"],[0.8888888888888888,\"#fdca26\"],[1.0,\"#f0f921\"]]}],\"contourcarpet\":[{\"type\":\"contourcarpet\",\"colorbar\":{\"outlinewidth\":0,\"ticks\":\"\"}}],\"contour\":[{\"type\":\"contour\",\"colorbar\":{\"outlinewidth\":0,\"ticks\":\"\"},\"colorscale\":[[0.0,\"#0d0887\"],[0.1111111111111111,\"#46039f\"],[0.2222222222222222,\"#7201a8\"],[0.3333333333333333,\"#9c179e\"],[0.4444444444444444,\"#bd3786\"],[0.5555555555555556,\"#d8576b\"],[0.6666666666666666,\"#ed7953\"],[0.7777777777777778,\"#fb9f3a\"],[0.8888888888888888,\"#fdca26\"],[1.0,\"#f0f921\"]]}],\"surface\":[{\"type\":\"surface\",\"colorbar\":{\"outlinewidth\":0,\"ticks\":\"\"},\"colorscale\":[[0.0,\"#0d0887\"],[0.1111111111111111,\"#46039f\"],[0.2222222222222222,\"#7201a8\"],[0.3333333333333333,\"#9c179e\"],[0.4444444444444444,\"#bd3786\"],[0.5555555555555556,\"#d8576b\"],[0.6666666666666666,\"#ed7953\"],[0.7777777777777778,\"#fb9f3a\"],[0.8888888888888888,\"#fdca26\"],[1.0,\"#f0f921\"]]}],\"mesh3d\":[{\"type\":\"mesh3d\",\"colorbar\":{\"outlinewidth\":0,\"ticks\":\"\"}}],\"scatter\":[{\"fillpattern\":{\"fillmode\":\"overlay\",\"size\":10,\"solidity\":0.2},\"type\":\"scatter\"}],\"parcoords\":[{\"type\":\"parcoords\",\"line\":{\"colorbar\":{\"outlinewidth\":0,\"ticks\":\"\"}}}],\"scatterpolargl\":[{\"type\":\"scatterpolargl\",\"marker\":{\"colorbar\":{\"outlinewidth\":0,\"ticks\":\"\"}}}],\"bar\":[{\"error_x\":{\"color\":\"#2a3f5f\"},\"error_y\":{\"color\":\"#2a3f5f\"},\"marker\":{\"line\":{\"color\":\"#E5ECF6\",\"width\":0.5},\"pattern\":{\"fillmode\":\"overlay\",\"size\":10,\"solidity\":0.2}},\"type\":\"bar\"}],\"scattergeo\":[{\"type\":\"scattergeo\",\"marker\":{\"colorbar\":{\"outlinewidth\":0,\"ticks\":\"\"}}}],\"scatterpolar\":[{\"type\":\"scatterpolar\",\"marker\":{\"colorbar\":{\"outlinewidth\":0,\"ticks\":\"\"}}}],\"histogram\":[{\"marker\":{\"pattern\":{\"fillmode\":\"overlay\",\"size\":10,\"solidity\":0.2}},\"type\":\"histogram\"}],\"scattergl\":[{\"type\":\"scattergl\",\"marker\":{\"colorbar\":{\"outlinewidth\":0,\"ticks\":\"\"}}}],\"scatter3d\":[{\"type\":\"scatter3d\",\"line\":{\"colorbar\":{\"outlinewidth\":0,\"ticks\":\"\"}},\"marker\":{\"colorbar\":{\"outlinewidth\":0,\"ticks\":\"\"}}}],\"scattermapbox\":[{\"type\":\"scattermapbox\",\"marker\":{\"colorbar\":{\"outlinewidth\":0,\"ticks\":\"\"}}}],\"scatterternary\":[{\"type\":\"scatterternary\",\"marker\":{\"colorbar\":{\"outlinewidth\":0,\"ticks\":\"\"}}}],\"scattercarpet\":[{\"type\":\"scattercarpet\",\"marker\":{\"colorbar\":{\"outlinewidth\":0,\"ticks\":\"\"}}}],\"carpet\":[{\"aaxis\":{\"endlinecolor\":\"#2a3f5f\",\"gridcolor\":\"white\",\"linecolor\":\"white\",\"minorgridcolor\":\"white\",\"startlinecolor\":\"#2a3f5f\"},\"baxis\":{\"endlinecolor\":\"#2a3f5f\",\"gridcolor\":\"white\",\"linecolor\":\"white\",\"minorgridcolor\":\"white\",\"startlinecolor\":\"#2a3f5f\"},\"type\":\"carpet\"}],\"table\":[{\"cells\":{\"fill\":{\"color\":\"#EBF0F8\"},\"line\":{\"color\":\"white\"}},\"header\":{\"fill\":{\"color\":\"#C8D4E3\"},\"line\":{\"color\":\"white\"}},\"type\":\"table\"}],\"barpolar\":[{\"marker\":{\"line\":{\"color\":\"#E5ECF6\",\"width\":0.5},\"pattern\":{\"fillmode\":\"overlay\",\"size\":10,\"solidity\":0.2}},\"type\":\"barpolar\"}],\"pie\":[{\"automargin\":true,\"type\":\"pie\"}]},\"layout\":{\"autotypenumbers\":\"strict\",\"colorway\":[\"#636efa\",\"#EF553B\",\"#00cc96\",\"#ab63fa\",\"#FFA15A\",\"#19d3f3\",\"#FF6692\",\"#B6E880\",\"#FF97FF\",\"#FECB52\"],\"font\":{\"color\":\"#2a3f5f\"},\"hovermode\":\"closest\",\"hoverlabel\":{\"align\":\"left\"},\"paper_bgcolor\":\"white\",\"plot_bgcolor\":\"#E5ECF6\",\"polar\":{\"bgcolor\":\"#E5ECF6\",\"angularaxis\":{\"gridcolor\":\"white\",\"linecolor\":\"white\",\"ticks\":\"\"},\"radialaxis\":{\"gridcolor\":\"white\",\"linecolor\":\"white\",\"ticks\":\"\"}},\"ternary\":{\"bgcolor\":\"#E5ECF6\",\"aaxis\":{\"gridcolor\":\"white\",\"linecolor\":\"white\",\"ticks\":\"\"},\"baxis\":{\"gridcolor\":\"white\",\"linecolor\":\"white\",\"ticks\":\"\"},\"caxis\":{\"gridcolor\":\"white\",\"linecolor\":\"white\",\"ticks\":\"\"}},\"coloraxis\":{\"colorbar\":{\"outlinewidth\":0,\"ticks\":\"\"}},\"colorscale\":{\"sequential\":[[0.0,\"#0d0887\"],[0.1111111111111111,\"#46039f\"],[0.2222222222222222,\"#7201a8\"],[0.3333333333333333,\"#9c179e\"],[0.4444444444444444,\"#bd3786\"],[0.5555555555555556,\"#d8576b\"],[0.6666666666666666,\"#ed7953\"],[0.7777777777777778,\"#fb9f3a\"],[0.8888888888888888,\"#fdca26\"],[1.0,\"#f0f921\"]],\"sequentialminus\":[[0.0,\"#0d0887\"],[0.1111111111111111,\"#46039f\"],[0.2222222222222222,\"#7201a8\"],[0.3333333333333333,\"#9c179e\"],[0.4444444444444444,\"#bd3786\"],[0.5555555555555556,\"#d8576b\"],[0.6666666666666666,\"#ed7953\"],[0.7777777777777778,\"#fb9f3a\"],[0.8888888888888888,\"#fdca26\"],[1.0,\"#f0f921\"]],\"diverging\":[[0,\"#8e0152\"],[0.1,\"#c51b7d\"],[0.2,\"#de77ae\"],[0.3,\"#f1b6da\"],[0.4,\"#fde0ef\"],[0.5,\"#f7f7f7\"],[0.6,\"#e6f5d0\"],[0.7,\"#b8e186\"],[0.8,\"#7fbc41\"],[0.9,\"#4d9221\"],[1,\"#276419\"]]},\"xaxis\":{\"gridcolor\":\"white\",\"linecolor\":\"white\",\"ticks\":\"\",\"title\":{\"standoff\":15},\"zerolinecolor\":\"white\",\"automargin\":true,\"zerolinewidth\":2},\"yaxis\":{\"gridcolor\":\"white\",\"linecolor\":\"white\",\"ticks\":\"\",\"title\":{\"standoff\":15},\"zerolinecolor\":\"white\",\"automargin\":true,\"zerolinewidth\":2},\"scene\":{\"xaxis\":{\"backgroundcolor\":\"#E5ECF6\",\"gridcolor\":\"white\",\"linecolor\":\"white\",\"showbackground\":true,\"ticks\":\"\",\"zerolinecolor\":\"white\",\"gridwidth\":2},\"yaxis\":{\"backgroundcolor\":\"#E5ECF6\",\"gridcolor\":\"white\",\"linecolor\":\"white\",\"showbackground\":true,\"ticks\":\"\",\"zerolinecolor\":\"white\",\"gridwidth\":2},\"zaxis\":{\"backgroundcolor\":\"#E5ECF6\",\"gridcolor\":\"white\",\"linecolor\":\"white\",\"showbackground\":true,\"ticks\":\"\",\"zerolinecolor\":\"white\",\"gridwidth\":2}},\"shapedefaults\":{\"line\":{\"color\":\"#2a3f5f\"}},\"annotationdefaults\":{\"arrowcolor\":\"#2a3f5f\",\"arrowhead\":0,\"arrowwidth\":1},\"geo\":{\"bgcolor\":\"white\",\"landcolor\":\"#E5ECF6\",\"subunitcolor\":\"white\",\"showland\":true,\"showlakes\":true,\"lakecolor\":\"white\"},\"title\":{\"x\":0.05},\"mapbox\":{\"style\":\"light\"}}},\"xaxis\":{\"anchor\":\"y\",\"domain\":[0.0,1.0],\"title\":{\"text\":\"subject\"}},\"yaxis\":{\"anchor\":\"x\",\"domain\":[0.0,1.0],\"title\":{\"text\":\"num_subscribers\"}},\"legend\":{\"tracegroupgap\":0},\"margin\":{\"t\":60},\"barmode\":\"relative\"},                        {\"responsive\": true}                    ).then(function(){\n",
              "                            \n",
              "var gd = document.getElementById('187894f5-51f4-4a70-963f-59fc2dbb8108');\n",
              "var x = new MutationObserver(function (mutations, observer) {{\n",
              "        var display = window.getComputedStyle(gd).display;\n",
              "        if (!display || display === 'none') {{\n",
              "            console.log([gd, 'removed!']);\n",
              "            Plotly.purge(gd);\n",
              "            observer.disconnect();\n",
              "        }}\n",
              "}});\n",
              "\n",
              "// Listen for the removal of the full notebook cells\n",
              "var notebookContainer = gd.closest('#notebook-container');\n",
              "if (notebookContainer) {{\n",
              "    x.observe(notebookContainer, {childList: true});\n",
              "}}\n",
              "\n",
              "// Listen for the clearing of the current output cell\n",
              "var outputEl = gd.closest('.output');\n",
              "if (outputEl) {{\n",
              "    x.observe(outputEl, {childList: true});\n",
              "}}\n",
              "\n",
              "                        })                };                            </script>        </div>\n",
              "</body>\n",
              "</html>"
            ]
          },
          "metadata": {}
        }
      ]
    },
    {
      "cell_type": "code",
      "source": [
        "paid_subject=udemy_data.groupby(['is_paid','subject']).num_subscribers.sum().to_frame().reset_index()\n",
        "paid_subject"
      ],
      "metadata": {
        "colab": {
          "base_uri": "https://localhost:8080/",
          "height": 300
        },
        "id": "vXYObMOMYzIn",
        "outputId": "1730275b-33e5-4170-fd45-dffcc9f2b163"
      },
      "execution_count": null,
      "outputs": [
        {
          "output_type": "execute_result",
          "data": {
            "text/plain": [
              "   is_paid              subject  num_subscribers\n",
              "0    False     Business Finance           603228\n",
              "1    False       Graphic Design           284821\n",
              "2    False  Musical Instruments           304735\n",
              "3    False      Web Development          2382741\n",
              "4     True     Business Finance          1265483\n",
              "5     True       Graphic Design           778327\n",
              "6     True  Musical Instruments           541954\n",
              "7     True      Web Development          5597831"
            ],
            "text/html": [
              "\n",
              "  <div id=\"df-69e8c039-126f-4900-8dac-dc4f12e888ad\">\n",
              "    <div class=\"colab-df-container\">\n",
              "      <div>\n",
              "<style scoped>\n",
              "    .dataframe tbody tr th:only-of-type {\n",
              "        vertical-align: middle;\n",
              "    }\n",
              "\n",
              "    .dataframe tbody tr th {\n",
              "        vertical-align: top;\n",
              "    }\n",
              "\n",
              "    .dataframe thead th {\n",
              "        text-align: right;\n",
              "    }\n",
              "</style>\n",
              "<table border=\"1\" class=\"dataframe\">\n",
              "  <thead>\n",
              "    <tr style=\"text-align: right;\">\n",
              "      <th></th>\n",
              "      <th>is_paid</th>\n",
              "      <th>subject</th>\n",
              "      <th>num_subscribers</th>\n",
              "    </tr>\n",
              "  </thead>\n",
              "  <tbody>\n",
              "    <tr>\n",
              "      <th>0</th>\n",
              "      <td>False</td>\n",
              "      <td>Business Finance</td>\n",
              "      <td>603228</td>\n",
              "    </tr>\n",
              "    <tr>\n",
              "      <th>1</th>\n",
              "      <td>False</td>\n",
              "      <td>Graphic Design</td>\n",
              "      <td>284821</td>\n",
              "    </tr>\n",
              "    <tr>\n",
              "      <th>2</th>\n",
              "      <td>False</td>\n",
              "      <td>Musical Instruments</td>\n",
              "      <td>304735</td>\n",
              "    </tr>\n",
              "    <tr>\n",
              "      <th>3</th>\n",
              "      <td>False</td>\n",
              "      <td>Web Development</td>\n",
              "      <td>2382741</td>\n",
              "    </tr>\n",
              "    <tr>\n",
              "      <th>4</th>\n",
              "      <td>True</td>\n",
              "      <td>Business Finance</td>\n",
              "      <td>1265483</td>\n",
              "    </tr>\n",
              "    <tr>\n",
              "      <th>5</th>\n",
              "      <td>True</td>\n",
              "      <td>Graphic Design</td>\n",
              "      <td>778327</td>\n",
              "    </tr>\n",
              "    <tr>\n",
              "      <th>6</th>\n",
              "      <td>True</td>\n",
              "      <td>Musical Instruments</td>\n",
              "      <td>541954</td>\n",
              "    </tr>\n",
              "    <tr>\n",
              "      <th>7</th>\n",
              "      <td>True</td>\n",
              "      <td>Web Development</td>\n",
              "      <td>5597831</td>\n",
              "    </tr>\n",
              "  </tbody>\n",
              "</table>\n",
              "</div>\n",
              "      <button class=\"colab-df-convert\" onclick=\"convertToInteractive('df-69e8c039-126f-4900-8dac-dc4f12e888ad')\"\n",
              "              title=\"Convert this dataframe to an interactive table.\"\n",
              "              style=\"display:none;\">\n",
              "        \n",
              "  <svg xmlns=\"http://www.w3.org/2000/svg\" height=\"24px\"viewBox=\"0 0 24 24\"\n",
              "       width=\"24px\">\n",
              "    <path d=\"M0 0h24v24H0V0z\" fill=\"none\"/>\n",
              "    <path d=\"M18.56 5.44l.94 2.06.94-2.06 2.06-.94-2.06-.94-.94-2.06-.94 2.06-2.06.94zm-11 1L8.5 8.5l.94-2.06 2.06-.94-2.06-.94L8.5 2.5l-.94 2.06-2.06.94zm10 10l.94 2.06.94-2.06 2.06-.94-2.06-.94-.94-2.06-.94 2.06-2.06.94z\"/><path d=\"M17.41 7.96l-1.37-1.37c-.4-.4-.92-.59-1.43-.59-.52 0-1.04.2-1.43.59L10.3 9.45l-7.72 7.72c-.78.78-.78 2.05 0 2.83L4 21.41c.39.39.9.59 1.41.59.51 0 1.02-.2 1.41-.59l7.78-7.78 2.81-2.81c.8-.78.8-2.07 0-2.86zM5.41 20L4 18.59l7.72-7.72 1.47 1.35L5.41 20z\"/>\n",
              "  </svg>\n",
              "      </button>\n",
              "      \n",
              "  <style>\n",
              "    .colab-df-container {\n",
              "      display:flex;\n",
              "      flex-wrap:wrap;\n",
              "      gap: 12px;\n",
              "    }\n",
              "\n",
              "    .colab-df-convert {\n",
              "      background-color: #E8F0FE;\n",
              "      border: none;\n",
              "      border-radius: 50%;\n",
              "      cursor: pointer;\n",
              "      display: none;\n",
              "      fill: #1967D2;\n",
              "      height: 32px;\n",
              "      padding: 0 0 0 0;\n",
              "      width: 32px;\n",
              "    }\n",
              "\n",
              "    .colab-df-convert:hover {\n",
              "      background-color: #E2EBFA;\n",
              "      box-shadow: 0px 1px 2px rgba(60, 64, 67, 0.3), 0px 1px 3px 1px rgba(60, 64, 67, 0.15);\n",
              "      fill: #174EA6;\n",
              "    }\n",
              "\n",
              "    [theme=dark] .colab-df-convert {\n",
              "      background-color: #3B4455;\n",
              "      fill: #D2E3FC;\n",
              "    }\n",
              "\n",
              "    [theme=dark] .colab-df-convert:hover {\n",
              "      background-color: #434B5C;\n",
              "      box-shadow: 0px 1px 3px 1px rgba(0, 0, 0, 0.15);\n",
              "      filter: drop-shadow(0px 1px 2px rgba(0, 0, 0, 0.3));\n",
              "      fill: #FFFFFF;\n",
              "    }\n",
              "  </style>\n",
              "\n",
              "      <script>\n",
              "        const buttonEl =\n",
              "          document.querySelector('#df-69e8c039-126f-4900-8dac-dc4f12e888ad button.colab-df-convert');\n",
              "        buttonEl.style.display =\n",
              "          google.colab.kernel.accessAllowed ? 'block' : 'none';\n",
              "\n",
              "        async function convertToInteractive(key) {\n",
              "          const element = document.querySelector('#df-69e8c039-126f-4900-8dac-dc4f12e888ad');\n",
              "          const dataTable =\n",
              "            await google.colab.kernel.invokeFunction('convertToInteractive',\n",
              "                                                     [key], {});\n",
              "          if (!dataTable) return;\n",
              "\n",
              "          const docLinkHtml = 'Like what you see? Visit the ' +\n",
              "            '<a target=\"_blank\" href=https://colab.research.google.com/notebooks/data_table.ipynb>data table notebook</a>'\n",
              "            + ' to learn more about interactive tables.';\n",
              "          element.innerHTML = '';\n",
              "          dataTable['output_type'] = 'display_data';\n",
              "          await google.colab.output.renderOutput(dataTable, element);\n",
              "          const docLink = document.createElement('div');\n",
              "          docLink.innerHTML = docLinkHtml;\n",
              "          element.appendChild(docLink);\n",
              "        }\n",
              "      </script>\n",
              "    </div>\n",
              "  </div>\n",
              "  "
            ]
          },
          "metadata": {},
          "execution_count": 22
        }
      ]
    },
    {
      "cell_type": "code",
      "source": [
        "px.bar(data_frame=paid_subject,x='subject',y='num_subscribers',color='is_paid')"
      ],
      "metadata": {
        "colab": {
          "base_uri": "https://localhost:8080/",
          "height": 542
        },
        "id": "7zcstAm8saEe",
        "outputId": "9a7f9956-69ed-4bd3-93ca-54cf8742d1d6"
      },
      "execution_count": null,
      "outputs": [
        {
          "output_type": "display_data",
          "data": {
            "text/html": [
              "<html>\n",
              "<head><meta charset=\"utf-8\" /></head>\n",
              "<body>\n",
              "    <div>            <script src=\"https://cdnjs.cloudflare.com/ajax/libs/mathjax/2.7.5/MathJax.js?config=TeX-AMS-MML_SVG\"></script><script type=\"text/javascript\">if (window.MathJax && window.MathJax.Hub && window.MathJax.Hub.Config) {window.MathJax.Hub.Config({SVG: {font: \"STIX-Web\"}});}</script>                <script type=\"text/javascript\">window.PlotlyConfig = {MathJaxConfig: 'local'};</script>\n",
              "        <script src=\"https://cdn.plot.ly/plotly-2.18.2.min.js\"></script>                <div id=\"1b9908f0-2987-47ee-924f-4cc5dbd7dd7e\" class=\"plotly-graph-div\" style=\"height:525px; width:100%;\"></div>            <script type=\"text/javascript\">                                    window.PLOTLYENV=window.PLOTLYENV || {};                                    if (document.getElementById(\"1b9908f0-2987-47ee-924f-4cc5dbd7dd7e\")) {                    Plotly.newPlot(                        \"1b9908f0-2987-47ee-924f-4cc5dbd7dd7e\",                        [{\"alignmentgroup\":\"True\",\"hovertemplate\":\"is_paid=False<br>subject=%{x}<br>num_subscribers=%{y}<extra></extra>\",\"legendgroup\":\"False\",\"marker\":{\"color\":\"#636efa\",\"pattern\":{\"shape\":\"\"}},\"name\":\"False\",\"offsetgroup\":\"False\",\"orientation\":\"v\",\"showlegend\":true,\"textposition\":\"auto\",\"x\":[\"Business Finance\",\"Graphic Design\",\"Musical Instruments\",\"Web Development\"],\"xaxis\":\"x\",\"y\":[603228,284821,304735,2382741],\"yaxis\":\"y\",\"type\":\"bar\"},{\"alignmentgroup\":\"True\",\"hovertemplate\":\"is_paid=True<br>subject=%{x}<br>num_subscribers=%{y}<extra></extra>\",\"legendgroup\":\"True\",\"marker\":{\"color\":\"#EF553B\",\"pattern\":{\"shape\":\"\"}},\"name\":\"True\",\"offsetgroup\":\"True\",\"orientation\":\"v\",\"showlegend\":true,\"textposition\":\"auto\",\"x\":[\"Business Finance\",\"Graphic Design\",\"Musical Instruments\",\"Web Development\"],\"xaxis\":\"x\",\"y\":[1265483,778327,541954,5597831],\"yaxis\":\"y\",\"type\":\"bar\"}],                        {\"template\":{\"data\":{\"histogram2dcontour\":[{\"type\":\"histogram2dcontour\",\"colorbar\":{\"outlinewidth\":0,\"ticks\":\"\"},\"colorscale\":[[0.0,\"#0d0887\"],[0.1111111111111111,\"#46039f\"],[0.2222222222222222,\"#7201a8\"],[0.3333333333333333,\"#9c179e\"],[0.4444444444444444,\"#bd3786\"],[0.5555555555555556,\"#d8576b\"],[0.6666666666666666,\"#ed7953\"],[0.7777777777777778,\"#fb9f3a\"],[0.8888888888888888,\"#fdca26\"],[1.0,\"#f0f921\"]]}],\"choropleth\":[{\"type\":\"choropleth\",\"colorbar\":{\"outlinewidth\":0,\"ticks\":\"\"}}],\"histogram2d\":[{\"type\":\"histogram2d\",\"colorbar\":{\"outlinewidth\":0,\"ticks\":\"\"},\"colorscale\":[[0.0,\"#0d0887\"],[0.1111111111111111,\"#46039f\"],[0.2222222222222222,\"#7201a8\"],[0.3333333333333333,\"#9c179e\"],[0.4444444444444444,\"#bd3786\"],[0.5555555555555556,\"#d8576b\"],[0.6666666666666666,\"#ed7953\"],[0.7777777777777778,\"#fb9f3a\"],[0.8888888888888888,\"#fdca26\"],[1.0,\"#f0f921\"]]}],\"heatmap\":[{\"type\":\"heatmap\",\"colorbar\":{\"outlinewidth\":0,\"ticks\":\"\"},\"colorscale\":[[0.0,\"#0d0887\"],[0.1111111111111111,\"#46039f\"],[0.2222222222222222,\"#7201a8\"],[0.3333333333333333,\"#9c179e\"],[0.4444444444444444,\"#bd3786\"],[0.5555555555555556,\"#d8576b\"],[0.6666666666666666,\"#ed7953\"],[0.7777777777777778,\"#fb9f3a\"],[0.8888888888888888,\"#fdca26\"],[1.0,\"#f0f921\"]]}],\"heatmapgl\":[{\"type\":\"heatmapgl\",\"colorbar\":{\"outlinewidth\":0,\"ticks\":\"\"},\"colorscale\":[[0.0,\"#0d0887\"],[0.1111111111111111,\"#46039f\"],[0.2222222222222222,\"#7201a8\"],[0.3333333333333333,\"#9c179e\"],[0.4444444444444444,\"#bd3786\"],[0.5555555555555556,\"#d8576b\"],[0.6666666666666666,\"#ed7953\"],[0.7777777777777778,\"#fb9f3a\"],[0.8888888888888888,\"#fdca26\"],[1.0,\"#f0f921\"]]}],\"contourcarpet\":[{\"type\":\"contourcarpet\",\"colorbar\":{\"outlinewidth\":0,\"ticks\":\"\"}}],\"contour\":[{\"type\":\"contour\",\"colorbar\":{\"outlinewidth\":0,\"ticks\":\"\"},\"colorscale\":[[0.0,\"#0d0887\"],[0.1111111111111111,\"#46039f\"],[0.2222222222222222,\"#7201a8\"],[0.3333333333333333,\"#9c179e\"],[0.4444444444444444,\"#bd3786\"],[0.5555555555555556,\"#d8576b\"],[0.6666666666666666,\"#ed7953\"],[0.7777777777777778,\"#fb9f3a\"],[0.8888888888888888,\"#fdca26\"],[1.0,\"#f0f921\"]]}],\"surface\":[{\"type\":\"surface\",\"colorbar\":{\"outlinewidth\":0,\"ticks\":\"\"},\"colorscale\":[[0.0,\"#0d0887\"],[0.1111111111111111,\"#46039f\"],[0.2222222222222222,\"#7201a8\"],[0.3333333333333333,\"#9c179e\"],[0.4444444444444444,\"#bd3786\"],[0.5555555555555556,\"#d8576b\"],[0.6666666666666666,\"#ed7953\"],[0.7777777777777778,\"#fb9f3a\"],[0.8888888888888888,\"#fdca26\"],[1.0,\"#f0f921\"]]}],\"mesh3d\":[{\"type\":\"mesh3d\",\"colorbar\":{\"outlinewidth\":0,\"ticks\":\"\"}}],\"scatter\":[{\"fillpattern\":{\"fillmode\":\"overlay\",\"size\":10,\"solidity\":0.2},\"type\":\"scatter\"}],\"parcoords\":[{\"type\":\"parcoords\",\"line\":{\"colorbar\":{\"outlinewidth\":0,\"ticks\":\"\"}}}],\"scatterpolargl\":[{\"type\":\"scatterpolargl\",\"marker\":{\"colorbar\":{\"outlinewidth\":0,\"ticks\":\"\"}}}],\"bar\":[{\"error_x\":{\"color\":\"#2a3f5f\"},\"error_y\":{\"color\":\"#2a3f5f\"},\"marker\":{\"line\":{\"color\":\"#E5ECF6\",\"width\":0.5},\"pattern\":{\"fillmode\":\"overlay\",\"size\":10,\"solidity\":0.2}},\"type\":\"bar\"}],\"scattergeo\":[{\"type\":\"scattergeo\",\"marker\":{\"colorbar\":{\"outlinewidth\":0,\"ticks\":\"\"}}}],\"scatterpolar\":[{\"type\":\"scatterpolar\",\"marker\":{\"colorbar\":{\"outlinewidth\":0,\"ticks\":\"\"}}}],\"histogram\":[{\"marker\":{\"pattern\":{\"fillmode\":\"overlay\",\"size\":10,\"solidity\":0.2}},\"type\":\"histogram\"}],\"scattergl\":[{\"type\":\"scattergl\",\"marker\":{\"colorbar\":{\"outlinewidth\":0,\"ticks\":\"\"}}}],\"scatter3d\":[{\"type\":\"scatter3d\",\"line\":{\"colorbar\":{\"outlinewidth\":0,\"ticks\":\"\"}},\"marker\":{\"colorbar\":{\"outlinewidth\":0,\"ticks\":\"\"}}}],\"scattermapbox\":[{\"type\":\"scattermapbox\",\"marker\":{\"colorbar\":{\"outlinewidth\":0,\"ticks\":\"\"}}}],\"scatterternary\":[{\"type\":\"scatterternary\",\"marker\":{\"colorbar\":{\"outlinewidth\":0,\"ticks\":\"\"}}}],\"scattercarpet\":[{\"type\":\"scattercarpet\",\"marker\":{\"colorbar\":{\"outlinewidth\":0,\"ticks\":\"\"}}}],\"carpet\":[{\"aaxis\":{\"endlinecolor\":\"#2a3f5f\",\"gridcolor\":\"white\",\"linecolor\":\"white\",\"minorgridcolor\":\"white\",\"startlinecolor\":\"#2a3f5f\"},\"baxis\":{\"endlinecolor\":\"#2a3f5f\",\"gridcolor\":\"white\",\"linecolor\":\"white\",\"minorgridcolor\":\"white\",\"startlinecolor\":\"#2a3f5f\"},\"type\":\"carpet\"}],\"table\":[{\"cells\":{\"fill\":{\"color\":\"#EBF0F8\"},\"line\":{\"color\":\"white\"}},\"header\":{\"fill\":{\"color\":\"#C8D4E3\"},\"line\":{\"color\":\"white\"}},\"type\":\"table\"}],\"barpolar\":[{\"marker\":{\"line\":{\"color\":\"#E5ECF6\",\"width\":0.5},\"pattern\":{\"fillmode\":\"overlay\",\"size\":10,\"solidity\":0.2}},\"type\":\"barpolar\"}],\"pie\":[{\"automargin\":true,\"type\":\"pie\"}]},\"layout\":{\"autotypenumbers\":\"strict\",\"colorway\":[\"#636efa\",\"#EF553B\",\"#00cc96\",\"#ab63fa\",\"#FFA15A\",\"#19d3f3\",\"#FF6692\",\"#B6E880\",\"#FF97FF\",\"#FECB52\"],\"font\":{\"color\":\"#2a3f5f\"},\"hovermode\":\"closest\",\"hoverlabel\":{\"align\":\"left\"},\"paper_bgcolor\":\"white\",\"plot_bgcolor\":\"#E5ECF6\",\"polar\":{\"bgcolor\":\"#E5ECF6\",\"angularaxis\":{\"gridcolor\":\"white\",\"linecolor\":\"white\",\"ticks\":\"\"},\"radialaxis\":{\"gridcolor\":\"white\",\"linecolor\":\"white\",\"ticks\":\"\"}},\"ternary\":{\"bgcolor\":\"#E5ECF6\",\"aaxis\":{\"gridcolor\":\"white\",\"linecolor\":\"white\",\"ticks\":\"\"},\"baxis\":{\"gridcolor\":\"white\",\"linecolor\":\"white\",\"ticks\":\"\"},\"caxis\":{\"gridcolor\":\"white\",\"linecolor\":\"white\",\"ticks\":\"\"}},\"coloraxis\":{\"colorbar\":{\"outlinewidth\":0,\"ticks\":\"\"}},\"colorscale\":{\"sequential\":[[0.0,\"#0d0887\"],[0.1111111111111111,\"#46039f\"],[0.2222222222222222,\"#7201a8\"],[0.3333333333333333,\"#9c179e\"],[0.4444444444444444,\"#bd3786\"],[0.5555555555555556,\"#d8576b\"],[0.6666666666666666,\"#ed7953\"],[0.7777777777777778,\"#fb9f3a\"],[0.8888888888888888,\"#fdca26\"],[1.0,\"#f0f921\"]],\"sequentialminus\":[[0.0,\"#0d0887\"],[0.1111111111111111,\"#46039f\"],[0.2222222222222222,\"#7201a8\"],[0.3333333333333333,\"#9c179e\"],[0.4444444444444444,\"#bd3786\"],[0.5555555555555556,\"#d8576b\"],[0.6666666666666666,\"#ed7953\"],[0.7777777777777778,\"#fb9f3a\"],[0.8888888888888888,\"#fdca26\"],[1.0,\"#f0f921\"]],\"diverging\":[[0,\"#8e0152\"],[0.1,\"#c51b7d\"],[0.2,\"#de77ae\"],[0.3,\"#f1b6da\"],[0.4,\"#fde0ef\"],[0.5,\"#f7f7f7\"],[0.6,\"#e6f5d0\"],[0.7,\"#b8e186\"],[0.8,\"#7fbc41\"],[0.9,\"#4d9221\"],[1,\"#276419\"]]},\"xaxis\":{\"gridcolor\":\"white\",\"linecolor\":\"white\",\"ticks\":\"\",\"title\":{\"standoff\":15},\"zerolinecolor\":\"white\",\"automargin\":true,\"zerolinewidth\":2},\"yaxis\":{\"gridcolor\":\"white\",\"linecolor\":\"white\",\"ticks\":\"\",\"title\":{\"standoff\":15},\"zerolinecolor\":\"white\",\"automargin\":true,\"zerolinewidth\":2},\"scene\":{\"xaxis\":{\"backgroundcolor\":\"#E5ECF6\",\"gridcolor\":\"white\",\"linecolor\":\"white\",\"showbackground\":true,\"ticks\":\"\",\"zerolinecolor\":\"white\",\"gridwidth\":2},\"yaxis\":{\"backgroundcolor\":\"#E5ECF6\",\"gridcolor\":\"white\",\"linecolor\":\"white\",\"showbackground\":true,\"ticks\":\"\",\"zerolinecolor\":\"white\",\"gridwidth\":2},\"zaxis\":{\"backgroundcolor\":\"#E5ECF6\",\"gridcolor\":\"white\",\"linecolor\":\"white\",\"showbackground\":true,\"ticks\":\"\",\"zerolinecolor\":\"white\",\"gridwidth\":2}},\"shapedefaults\":{\"line\":{\"color\":\"#2a3f5f\"}},\"annotationdefaults\":{\"arrowcolor\":\"#2a3f5f\",\"arrowhead\":0,\"arrowwidth\":1},\"geo\":{\"bgcolor\":\"white\",\"landcolor\":\"#E5ECF6\",\"subunitcolor\":\"white\",\"showland\":true,\"showlakes\":true,\"lakecolor\":\"white\"},\"title\":{\"x\":0.05},\"mapbox\":{\"style\":\"light\"}}},\"xaxis\":{\"anchor\":\"y\",\"domain\":[0.0,1.0],\"title\":{\"text\":\"subject\"}},\"yaxis\":{\"anchor\":\"x\",\"domain\":[0.0,1.0],\"title\":{\"text\":\"num_subscribers\"}},\"legend\":{\"title\":{\"text\":\"is_paid\"},\"tracegroupgap\":0},\"margin\":{\"t\":60},\"barmode\":\"relative\"},                        {\"responsive\": true}                    ).then(function(){\n",
              "                            \n",
              "var gd = document.getElementById('1b9908f0-2987-47ee-924f-4cc5dbd7dd7e');\n",
              "var x = new MutationObserver(function (mutations, observer) {{\n",
              "        var display = window.getComputedStyle(gd).display;\n",
              "        if (!display || display === 'none') {{\n",
              "            console.log([gd, 'removed!']);\n",
              "            Plotly.purge(gd);\n",
              "            observer.disconnect();\n",
              "        }}\n",
              "}});\n",
              "\n",
              "// Listen for the removal of the full notebook cells\n",
              "var notebookContainer = gd.closest('#notebook-container');\n",
              "if (notebookContainer) {{\n",
              "    x.observe(notebookContainer, {childList: true});\n",
              "}}\n",
              "\n",
              "// Listen for the clearing of the current output cell\n",
              "var outputEl = gd.closest('.output');\n",
              "if (outputEl) {{\n",
              "    x.observe(outputEl, {childList: true});\n",
              "}}\n",
              "\n",
              "                        })                };                            </script>        </div>\n",
              "</body>\n",
              "</html>"
            ]
          },
          "metadata": {}
        }
      ]
    },
    {
      "cell_type": "code",
      "source": [
        "sub_level=udemy_data.groupby(['subject','level']).sum().reset_index()\n",
        "sub_level\n",
        "px.bar(data_frame=sub_level,x='subject',y='num_subscribers',color='level')"
      ],
      "metadata": {
        "colab": {
          "base_uri": "https://localhost:8080/",
          "height": 631
        },
        "id": "XTHab0KvtgPZ",
        "outputId": "56b0a21b-1831-4fd9-a8e8-762276353f84"
      },
      "execution_count": null,
      "outputs": [
        {
          "output_type": "stream",
          "name": "stderr",
          "text": [
            "<ipython-input-24-69ef472b363f>:1: FutureWarning:\n",
            "\n",
            "The default value of numeric_only in DataFrameGroupBy.sum is deprecated. In a future version, numeric_only will default to False. Either specify numeric_only or select only columns which should be valid for the function.\n",
            "\n"
          ]
        },
        {
          "output_type": "display_data",
          "data": {
            "text/html": [
              "<html>\n",
              "<head><meta charset=\"utf-8\" /></head>\n",
              "<body>\n",
              "    <div>            <script src=\"https://cdnjs.cloudflare.com/ajax/libs/mathjax/2.7.5/MathJax.js?config=TeX-AMS-MML_SVG\"></script><script type=\"text/javascript\">if (window.MathJax && window.MathJax.Hub && window.MathJax.Hub.Config) {window.MathJax.Hub.Config({SVG: {font: \"STIX-Web\"}});}</script>                <script type=\"text/javascript\">window.PlotlyConfig = {MathJaxConfig: 'local'};</script>\n",
              "        <script src=\"https://cdn.plot.ly/plotly-2.18.2.min.js\"></script>                <div id=\"86f6e7be-786d-48b5-ae6e-3b6331589612\" class=\"plotly-graph-div\" style=\"height:525px; width:100%;\"></div>            <script type=\"text/javascript\">                                    window.PLOTLYENV=window.PLOTLYENV || {};                                    if (document.getElementById(\"86f6e7be-786d-48b5-ae6e-3b6331589612\")) {                    Plotly.newPlot(                        \"86f6e7be-786d-48b5-ae6e-3b6331589612\",                        [{\"alignmentgroup\":\"True\",\"hovertemplate\":\"level=All Levels<br>subject=%{x}<br>num_subscribers=%{y}<extra></extra>\",\"legendgroup\":\"All Levels\",\"marker\":{\"color\":\"#636efa\",\"pattern\":{\"shape\":\"\"}},\"name\":\"All Levels\",\"offsetgroup\":\"All Levels\",\"orientation\":\"v\",\"showlegend\":true,\"textposition\":\"auto\",\"x\":[\"Business Finance\",\"Graphic Design\",\"Musical Instruments\",\"Web Development\"],\"xaxis\":\"x\",\"y\":[1047208,688332,328170,4851366],\"yaxis\":\"y\",\"type\":\"bar\"},{\"alignmentgroup\":\"True\",\"hovertemplate\":\"level=Beginner Level<br>subject=%{x}<br>num_subscribers=%{y}<extra></extra>\",\"legendgroup\":\"Beginner Level\",\"marker\":{\"color\":\"#EF553B\",\"pattern\":{\"shape\":\"\"}},\"name\":\"Beginner Level\",\"offsetgroup\":\"Beginner Level\",\"orientation\":\"v\",\"showlegend\":true,\"textposition\":\"auto\",\"x\":[\"Business Finance\",\"Graphic Design\",\"Musical Instruments\",\"Web Development\"],\"xaxis\":\"x\",\"y\":[647007,315757,429030,2660049],\"yaxis\":\"y\",\"type\":\"bar\"},{\"alignmentgroup\":\"True\",\"hovertemplate\":\"level=Expert Level<br>subject=%{x}<br>num_subscribers=%{y}<extra></extra>\",\"legendgroup\":\"Expert Level\",\"marker\":{\"color\":\"#00cc96\",\"pattern\":{\"shape\":\"\"}},\"name\":\"Expert Level\",\"offsetgroup\":\"Expert Level\",\"orientation\":\"v\",\"showlegend\":true,\"textposition\":\"auto\",\"x\":[\"Business Finance\",\"Graphic Design\",\"Musical Instruments\",\"Web Development\"],\"xaxis\":\"x\",\"y\":[30146,1008,5431,13611],\"yaxis\":\"y\",\"type\":\"bar\"},{\"alignmentgroup\":\"True\",\"hovertemplate\":\"level=Intermediate Level<br>subject=%{x}<br>num_subscribers=%{y}<extra></extra>\",\"legendgroup\":\"Intermediate Level\",\"marker\":{\"color\":\"#ab63fa\",\"pattern\":{\"shape\":\"\"}},\"name\":\"Intermediate Level\",\"offsetgroup\":\"Intermediate Level\",\"orientation\":\"v\",\"showlegend\":true,\"textposition\":\"auto\",\"x\":[\"Business Finance\",\"Graphic Design\",\"Musical Instruments\",\"Web Development\"],\"xaxis\":\"x\",\"y\":[144350,58051,84058,455546],\"yaxis\":\"y\",\"type\":\"bar\"}],                        {\"template\":{\"data\":{\"histogram2dcontour\":[{\"type\":\"histogram2dcontour\",\"colorbar\":{\"outlinewidth\":0,\"ticks\":\"\"},\"colorscale\":[[0.0,\"#0d0887\"],[0.1111111111111111,\"#46039f\"],[0.2222222222222222,\"#7201a8\"],[0.3333333333333333,\"#9c179e\"],[0.4444444444444444,\"#bd3786\"],[0.5555555555555556,\"#d8576b\"],[0.6666666666666666,\"#ed7953\"],[0.7777777777777778,\"#fb9f3a\"],[0.8888888888888888,\"#fdca26\"],[1.0,\"#f0f921\"]]}],\"choropleth\":[{\"type\":\"choropleth\",\"colorbar\":{\"outlinewidth\":0,\"ticks\":\"\"}}],\"histogram2d\":[{\"type\":\"histogram2d\",\"colorbar\":{\"outlinewidth\":0,\"ticks\":\"\"},\"colorscale\":[[0.0,\"#0d0887\"],[0.1111111111111111,\"#46039f\"],[0.2222222222222222,\"#7201a8\"],[0.3333333333333333,\"#9c179e\"],[0.4444444444444444,\"#bd3786\"],[0.5555555555555556,\"#d8576b\"],[0.6666666666666666,\"#ed7953\"],[0.7777777777777778,\"#fb9f3a\"],[0.8888888888888888,\"#fdca26\"],[1.0,\"#f0f921\"]]}],\"heatmap\":[{\"type\":\"heatmap\",\"colorbar\":{\"outlinewidth\":0,\"ticks\":\"\"},\"colorscale\":[[0.0,\"#0d0887\"],[0.1111111111111111,\"#46039f\"],[0.2222222222222222,\"#7201a8\"],[0.3333333333333333,\"#9c179e\"],[0.4444444444444444,\"#bd3786\"],[0.5555555555555556,\"#d8576b\"],[0.6666666666666666,\"#ed7953\"],[0.7777777777777778,\"#fb9f3a\"],[0.8888888888888888,\"#fdca26\"],[1.0,\"#f0f921\"]]}],\"heatmapgl\":[{\"type\":\"heatmapgl\",\"colorbar\":{\"outlinewidth\":0,\"ticks\":\"\"},\"colorscale\":[[0.0,\"#0d0887\"],[0.1111111111111111,\"#46039f\"],[0.2222222222222222,\"#7201a8\"],[0.3333333333333333,\"#9c179e\"],[0.4444444444444444,\"#bd3786\"],[0.5555555555555556,\"#d8576b\"],[0.6666666666666666,\"#ed7953\"],[0.7777777777777778,\"#fb9f3a\"],[0.8888888888888888,\"#fdca26\"],[1.0,\"#f0f921\"]]}],\"contourcarpet\":[{\"type\":\"contourcarpet\",\"colorbar\":{\"outlinewidth\":0,\"ticks\":\"\"}}],\"contour\":[{\"type\":\"contour\",\"colorbar\":{\"outlinewidth\":0,\"ticks\":\"\"},\"colorscale\":[[0.0,\"#0d0887\"],[0.1111111111111111,\"#46039f\"],[0.2222222222222222,\"#7201a8\"],[0.3333333333333333,\"#9c179e\"],[0.4444444444444444,\"#bd3786\"],[0.5555555555555556,\"#d8576b\"],[0.6666666666666666,\"#ed7953\"],[0.7777777777777778,\"#fb9f3a\"],[0.8888888888888888,\"#fdca26\"],[1.0,\"#f0f921\"]]}],\"surface\":[{\"type\":\"surface\",\"colorbar\":{\"outlinewidth\":0,\"ticks\":\"\"},\"colorscale\":[[0.0,\"#0d0887\"],[0.1111111111111111,\"#46039f\"],[0.2222222222222222,\"#7201a8\"],[0.3333333333333333,\"#9c179e\"],[0.4444444444444444,\"#bd3786\"],[0.5555555555555556,\"#d8576b\"],[0.6666666666666666,\"#ed7953\"],[0.7777777777777778,\"#fb9f3a\"],[0.8888888888888888,\"#fdca26\"],[1.0,\"#f0f921\"]]}],\"mesh3d\":[{\"type\":\"mesh3d\",\"colorbar\":{\"outlinewidth\":0,\"ticks\":\"\"}}],\"scatter\":[{\"fillpattern\":{\"fillmode\":\"overlay\",\"size\":10,\"solidity\":0.2},\"type\":\"scatter\"}],\"parcoords\":[{\"type\":\"parcoords\",\"line\":{\"colorbar\":{\"outlinewidth\":0,\"ticks\":\"\"}}}],\"scatterpolargl\":[{\"type\":\"scatterpolargl\",\"marker\":{\"colorbar\":{\"outlinewidth\":0,\"ticks\":\"\"}}}],\"bar\":[{\"error_x\":{\"color\":\"#2a3f5f\"},\"error_y\":{\"color\":\"#2a3f5f\"},\"marker\":{\"line\":{\"color\":\"#E5ECF6\",\"width\":0.5},\"pattern\":{\"fillmode\":\"overlay\",\"size\":10,\"solidity\":0.2}},\"type\":\"bar\"}],\"scattergeo\":[{\"type\":\"scattergeo\",\"marker\":{\"colorbar\":{\"outlinewidth\":0,\"ticks\":\"\"}}}],\"scatterpolar\":[{\"type\":\"scatterpolar\",\"marker\":{\"colorbar\":{\"outlinewidth\":0,\"ticks\":\"\"}}}],\"histogram\":[{\"marker\":{\"pattern\":{\"fillmode\":\"overlay\",\"size\":10,\"solidity\":0.2}},\"type\":\"histogram\"}],\"scattergl\":[{\"type\":\"scattergl\",\"marker\":{\"colorbar\":{\"outlinewidth\":0,\"ticks\":\"\"}}}],\"scatter3d\":[{\"type\":\"scatter3d\",\"line\":{\"colorbar\":{\"outlinewidth\":0,\"ticks\":\"\"}},\"marker\":{\"colorbar\":{\"outlinewidth\":0,\"ticks\":\"\"}}}],\"scattermapbox\":[{\"type\":\"scattermapbox\",\"marker\":{\"colorbar\":{\"outlinewidth\":0,\"ticks\":\"\"}}}],\"scatterternary\":[{\"type\":\"scatterternary\",\"marker\":{\"colorbar\":{\"outlinewidth\":0,\"ticks\":\"\"}}}],\"scattercarpet\":[{\"type\":\"scattercarpet\",\"marker\":{\"colorbar\":{\"outlinewidth\":0,\"ticks\":\"\"}}}],\"carpet\":[{\"aaxis\":{\"endlinecolor\":\"#2a3f5f\",\"gridcolor\":\"white\",\"linecolor\":\"white\",\"minorgridcolor\":\"white\",\"startlinecolor\":\"#2a3f5f\"},\"baxis\":{\"endlinecolor\":\"#2a3f5f\",\"gridcolor\":\"white\",\"linecolor\":\"white\",\"minorgridcolor\":\"white\",\"startlinecolor\":\"#2a3f5f\"},\"type\":\"carpet\"}],\"table\":[{\"cells\":{\"fill\":{\"color\":\"#EBF0F8\"},\"line\":{\"color\":\"white\"}},\"header\":{\"fill\":{\"color\":\"#C8D4E3\"},\"line\":{\"color\":\"white\"}},\"type\":\"table\"}],\"barpolar\":[{\"marker\":{\"line\":{\"color\":\"#E5ECF6\",\"width\":0.5},\"pattern\":{\"fillmode\":\"overlay\",\"size\":10,\"solidity\":0.2}},\"type\":\"barpolar\"}],\"pie\":[{\"automargin\":true,\"type\":\"pie\"}]},\"layout\":{\"autotypenumbers\":\"strict\",\"colorway\":[\"#636efa\",\"#EF553B\",\"#00cc96\",\"#ab63fa\",\"#FFA15A\",\"#19d3f3\",\"#FF6692\",\"#B6E880\",\"#FF97FF\",\"#FECB52\"],\"font\":{\"color\":\"#2a3f5f\"},\"hovermode\":\"closest\",\"hoverlabel\":{\"align\":\"left\"},\"paper_bgcolor\":\"white\",\"plot_bgcolor\":\"#E5ECF6\",\"polar\":{\"bgcolor\":\"#E5ECF6\",\"angularaxis\":{\"gridcolor\":\"white\",\"linecolor\":\"white\",\"ticks\":\"\"},\"radialaxis\":{\"gridcolor\":\"white\",\"linecolor\":\"white\",\"ticks\":\"\"}},\"ternary\":{\"bgcolor\":\"#E5ECF6\",\"aaxis\":{\"gridcolor\":\"white\",\"linecolor\":\"white\",\"ticks\":\"\"},\"baxis\":{\"gridcolor\":\"white\",\"linecolor\":\"white\",\"ticks\":\"\"},\"caxis\":{\"gridcolor\":\"white\",\"linecolor\":\"white\",\"ticks\":\"\"}},\"coloraxis\":{\"colorbar\":{\"outlinewidth\":0,\"ticks\":\"\"}},\"colorscale\":{\"sequential\":[[0.0,\"#0d0887\"],[0.1111111111111111,\"#46039f\"],[0.2222222222222222,\"#7201a8\"],[0.3333333333333333,\"#9c179e\"],[0.4444444444444444,\"#bd3786\"],[0.5555555555555556,\"#d8576b\"],[0.6666666666666666,\"#ed7953\"],[0.7777777777777778,\"#fb9f3a\"],[0.8888888888888888,\"#fdca26\"],[1.0,\"#f0f921\"]],\"sequentialminus\":[[0.0,\"#0d0887\"],[0.1111111111111111,\"#46039f\"],[0.2222222222222222,\"#7201a8\"],[0.3333333333333333,\"#9c179e\"],[0.4444444444444444,\"#bd3786\"],[0.5555555555555556,\"#d8576b\"],[0.6666666666666666,\"#ed7953\"],[0.7777777777777778,\"#fb9f3a\"],[0.8888888888888888,\"#fdca26\"],[1.0,\"#f0f921\"]],\"diverging\":[[0,\"#8e0152\"],[0.1,\"#c51b7d\"],[0.2,\"#de77ae\"],[0.3,\"#f1b6da\"],[0.4,\"#fde0ef\"],[0.5,\"#f7f7f7\"],[0.6,\"#e6f5d0\"],[0.7,\"#b8e186\"],[0.8,\"#7fbc41\"],[0.9,\"#4d9221\"],[1,\"#276419\"]]},\"xaxis\":{\"gridcolor\":\"white\",\"linecolor\":\"white\",\"ticks\":\"\",\"title\":{\"standoff\":15},\"zerolinecolor\":\"white\",\"automargin\":true,\"zerolinewidth\":2},\"yaxis\":{\"gridcolor\":\"white\",\"linecolor\":\"white\",\"ticks\":\"\",\"title\":{\"standoff\":15},\"zerolinecolor\":\"white\",\"automargin\":true,\"zerolinewidth\":2},\"scene\":{\"xaxis\":{\"backgroundcolor\":\"#E5ECF6\",\"gridcolor\":\"white\",\"linecolor\":\"white\",\"showbackground\":true,\"ticks\":\"\",\"zerolinecolor\":\"white\",\"gridwidth\":2},\"yaxis\":{\"backgroundcolor\":\"#E5ECF6\",\"gridcolor\":\"white\",\"linecolor\":\"white\",\"showbackground\":true,\"ticks\":\"\",\"zerolinecolor\":\"white\",\"gridwidth\":2},\"zaxis\":{\"backgroundcolor\":\"#E5ECF6\",\"gridcolor\":\"white\",\"linecolor\":\"white\",\"showbackground\":true,\"ticks\":\"\",\"zerolinecolor\":\"white\",\"gridwidth\":2}},\"shapedefaults\":{\"line\":{\"color\":\"#2a3f5f\"}},\"annotationdefaults\":{\"arrowcolor\":\"#2a3f5f\",\"arrowhead\":0,\"arrowwidth\":1},\"geo\":{\"bgcolor\":\"white\",\"landcolor\":\"#E5ECF6\",\"subunitcolor\":\"white\",\"showland\":true,\"showlakes\":true,\"lakecolor\":\"white\"},\"title\":{\"x\":0.05},\"mapbox\":{\"style\":\"light\"}}},\"xaxis\":{\"anchor\":\"y\",\"domain\":[0.0,1.0],\"title\":{\"text\":\"subject\"}},\"yaxis\":{\"anchor\":\"x\",\"domain\":[0.0,1.0],\"title\":{\"text\":\"num_subscribers\"}},\"legend\":{\"title\":{\"text\":\"level\"},\"tracegroupgap\":0},\"margin\":{\"t\":60},\"barmode\":\"relative\"},                        {\"responsive\": true}                    ).then(function(){\n",
              "                            \n",
              "var gd = document.getElementById('86f6e7be-786d-48b5-ae6e-3b6331589612');\n",
              "var x = new MutationObserver(function (mutations, observer) {{\n",
              "        var display = window.getComputedStyle(gd).display;\n",
              "        if (!display || display === 'none') {{\n",
              "            console.log([gd, 'removed!']);\n",
              "            Plotly.purge(gd);\n",
              "            observer.disconnect();\n",
              "        }}\n",
              "}});\n",
              "\n",
              "// Listen for the removal of the full notebook cells\n",
              "var notebookContainer = gd.closest('#notebook-container');\n",
              "if (notebookContainer) {{\n",
              "    x.observe(notebookContainer, {childList: true});\n",
              "}}\n",
              "\n",
              "// Listen for the clearing of the current output cell\n",
              "var outputEl = gd.closest('.output');\n",
              "if (outputEl) {{\n",
              "    x.observe(outputEl, {childList: true});\n",
              "}}\n",
              "\n",
              "                        })                };                            </script>        </div>\n",
              "</body>\n",
              "</html>"
            ]
          },
          "metadata": {}
        }
      ]
    },
    {
      "cell_type": "code",
      "source": [
        "sub_rev=udemy_data.groupby('subject').num_reviews.sum().to_frame().reset_index()\n",
        "px.pie(data_frame=sub_rev,names='subject',values='num_reviews')"
      ],
      "metadata": {
        "colab": {
          "base_uri": "https://localhost:8080/",
          "height": 542
        },
        "id": "ReU0gNWJ2FEK",
        "outputId": "676a4f40-6a85-4082-92a9-b22a48ce1e76"
      },
      "execution_count": null,
      "outputs": [
        {
          "output_type": "display_data",
          "data": {
            "text/html": [
              "<html>\n",
              "<head><meta charset=\"utf-8\" /></head>\n",
              "<body>\n",
              "    <div>            <script src=\"https://cdnjs.cloudflare.com/ajax/libs/mathjax/2.7.5/MathJax.js?config=TeX-AMS-MML_SVG\"></script><script type=\"text/javascript\">if (window.MathJax && window.MathJax.Hub && window.MathJax.Hub.Config) {window.MathJax.Hub.Config({SVG: {font: \"STIX-Web\"}});}</script>                <script type=\"text/javascript\">window.PlotlyConfig = {MathJaxConfig: 'local'};</script>\n",
              "        <script src=\"https://cdn.plot.ly/plotly-2.18.2.min.js\"></script>                <div id=\"c2873d18-9cb7-4a10-838a-92a37b7fe908\" class=\"plotly-graph-div\" style=\"height:525px; width:100%;\"></div>            <script type=\"text/javascript\">                                    window.PLOTLYENV=window.PLOTLYENV || {};                                    if (document.getElementById(\"c2873d18-9cb7-4a10-838a-92a37b7fe908\")) {                    Plotly.newPlot(                        \"c2873d18-9cb7-4a10-838a-92a37b7fe908\",                        [{\"domain\":{\"x\":[0.0,1.0],\"y\":[0.0,1.0]},\"hovertemplate\":\"subject=%{label}<br>num_reviews=%{value}<extra></extra>\",\"labels\":[\"Business Finance\",\"Graphic Design\",\"Musical Instruments\",\"Web Development\"],\"legendgroup\":\"\",\"name\":\"\",\"showlegend\":true,\"values\":[75902,37070,31724,430025],\"type\":\"pie\"}],                        {\"template\":{\"data\":{\"histogram2dcontour\":[{\"type\":\"histogram2dcontour\",\"colorbar\":{\"outlinewidth\":0,\"ticks\":\"\"},\"colorscale\":[[0.0,\"#0d0887\"],[0.1111111111111111,\"#46039f\"],[0.2222222222222222,\"#7201a8\"],[0.3333333333333333,\"#9c179e\"],[0.4444444444444444,\"#bd3786\"],[0.5555555555555556,\"#d8576b\"],[0.6666666666666666,\"#ed7953\"],[0.7777777777777778,\"#fb9f3a\"],[0.8888888888888888,\"#fdca26\"],[1.0,\"#f0f921\"]]}],\"choropleth\":[{\"type\":\"choropleth\",\"colorbar\":{\"outlinewidth\":0,\"ticks\":\"\"}}],\"histogram2d\":[{\"type\":\"histogram2d\",\"colorbar\":{\"outlinewidth\":0,\"ticks\":\"\"},\"colorscale\":[[0.0,\"#0d0887\"],[0.1111111111111111,\"#46039f\"],[0.2222222222222222,\"#7201a8\"],[0.3333333333333333,\"#9c179e\"],[0.4444444444444444,\"#bd3786\"],[0.5555555555555556,\"#d8576b\"],[0.6666666666666666,\"#ed7953\"],[0.7777777777777778,\"#fb9f3a\"],[0.8888888888888888,\"#fdca26\"],[1.0,\"#f0f921\"]]}],\"heatmap\":[{\"type\":\"heatmap\",\"colorbar\":{\"outlinewidth\":0,\"ticks\":\"\"},\"colorscale\":[[0.0,\"#0d0887\"],[0.1111111111111111,\"#46039f\"],[0.2222222222222222,\"#7201a8\"],[0.3333333333333333,\"#9c179e\"],[0.4444444444444444,\"#bd3786\"],[0.5555555555555556,\"#d8576b\"],[0.6666666666666666,\"#ed7953\"],[0.7777777777777778,\"#fb9f3a\"],[0.8888888888888888,\"#fdca26\"],[1.0,\"#f0f921\"]]}],\"heatmapgl\":[{\"type\":\"heatmapgl\",\"colorbar\":{\"outlinewidth\":0,\"ticks\":\"\"},\"colorscale\":[[0.0,\"#0d0887\"],[0.1111111111111111,\"#46039f\"],[0.2222222222222222,\"#7201a8\"],[0.3333333333333333,\"#9c179e\"],[0.4444444444444444,\"#bd3786\"],[0.5555555555555556,\"#d8576b\"],[0.6666666666666666,\"#ed7953\"],[0.7777777777777778,\"#fb9f3a\"],[0.8888888888888888,\"#fdca26\"],[1.0,\"#f0f921\"]]}],\"contourcarpet\":[{\"type\":\"contourcarpet\",\"colorbar\":{\"outlinewidth\":0,\"ticks\":\"\"}}],\"contour\":[{\"type\":\"contour\",\"colorbar\":{\"outlinewidth\":0,\"ticks\":\"\"},\"colorscale\":[[0.0,\"#0d0887\"],[0.1111111111111111,\"#46039f\"],[0.2222222222222222,\"#7201a8\"],[0.3333333333333333,\"#9c179e\"],[0.4444444444444444,\"#bd3786\"],[0.5555555555555556,\"#d8576b\"],[0.6666666666666666,\"#ed7953\"],[0.7777777777777778,\"#fb9f3a\"],[0.8888888888888888,\"#fdca26\"],[1.0,\"#f0f921\"]]}],\"surface\":[{\"type\":\"surface\",\"colorbar\":{\"outlinewidth\":0,\"ticks\":\"\"},\"colorscale\":[[0.0,\"#0d0887\"],[0.1111111111111111,\"#46039f\"],[0.2222222222222222,\"#7201a8\"],[0.3333333333333333,\"#9c179e\"],[0.4444444444444444,\"#bd3786\"],[0.5555555555555556,\"#d8576b\"],[0.6666666666666666,\"#ed7953\"],[0.7777777777777778,\"#fb9f3a\"],[0.8888888888888888,\"#fdca26\"],[1.0,\"#f0f921\"]]}],\"mesh3d\":[{\"type\":\"mesh3d\",\"colorbar\":{\"outlinewidth\":0,\"ticks\":\"\"}}],\"scatter\":[{\"fillpattern\":{\"fillmode\":\"overlay\",\"size\":10,\"solidity\":0.2},\"type\":\"scatter\"}],\"parcoords\":[{\"type\":\"parcoords\",\"line\":{\"colorbar\":{\"outlinewidth\":0,\"ticks\":\"\"}}}],\"scatterpolargl\":[{\"type\":\"scatterpolargl\",\"marker\":{\"colorbar\":{\"outlinewidth\":0,\"ticks\":\"\"}}}],\"bar\":[{\"error_x\":{\"color\":\"#2a3f5f\"},\"error_y\":{\"color\":\"#2a3f5f\"},\"marker\":{\"line\":{\"color\":\"#E5ECF6\",\"width\":0.5},\"pattern\":{\"fillmode\":\"overlay\",\"size\":10,\"solidity\":0.2}},\"type\":\"bar\"}],\"scattergeo\":[{\"type\":\"scattergeo\",\"marker\":{\"colorbar\":{\"outlinewidth\":0,\"ticks\":\"\"}}}],\"scatterpolar\":[{\"type\":\"scatterpolar\",\"marker\":{\"colorbar\":{\"outlinewidth\":0,\"ticks\":\"\"}}}],\"histogram\":[{\"marker\":{\"pattern\":{\"fillmode\":\"overlay\",\"size\":10,\"solidity\":0.2}},\"type\":\"histogram\"}],\"scattergl\":[{\"type\":\"scattergl\",\"marker\":{\"colorbar\":{\"outlinewidth\":0,\"ticks\":\"\"}}}],\"scatter3d\":[{\"type\":\"scatter3d\",\"line\":{\"colorbar\":{\"outlinewidth\":0,\"ticks\":\"\"}},\"marker\":{\"colorbar\":{\"outlinewidth\":0,\"ticks\":\"\"}}}],\"scattermapbox\":[{\"type\":\"scattermapbox\",\"marker\":{\"colorbar\":{\"outlinewidth\":0,\"ticks\":\"\"}}}],\"scatterternary\":[{\"type\":\"scatterternary\",\"marker\":{\"colorbar\":{\"outlinewidth\":0,\"ticks\":\"\"}}}],\"scattercarpet\":[{\"type\":\"scattercarpet\",\"marker\":{\"colorbar\":{\"outlinewidth\":0,\"ticks\":\"\"}}}],\"carpet\":[{\"aaxis\":{\"endlinecolor\":\"#2a3f5f\",\"gridcolor\":\"white\",\"linecolor\":\"white\",\"minorgridcolor\":\"white\",\"startlinecolor\":\"#2a3f5f\"},\"baxis\":{\"endlinecolor\":\"#2a3f5f\",\"gridcolor\":\"white\",\"linecolor\":\"white\",\"minorgridcolor\":\"white\",\"startlinecolor\":\"#2a3f5f\"},\"type\":\"carpet\"}],\"table\":[{\"cells\":{\"fill\":{\"color\":\"#EBF0F8\"},\"line\":{\"color\":\"white\"}},\"header\":{\"fill\":{\"color\":\"#C8D4E3\"},\"line\":{\"color\":\"white\"}},\"type\":\"table\"}],\"barpolar\":[{\"marker\":{\"line\":{\"color\":\"#E5ECF6\",\"width\":0.5},\"pattern\":{\"fillmode\":\"overlay\",\"size\":10,\"solidity\":0.2}},\"type\":\"barpolar\"}],\"pie\":[{\"automargin\":true,\"type\":\"pie\"}]},\"layout\":{\"autotypenumbers\":\"strict\",\"colorway\":[\"#636efa\",\"#EF553B\",\"#00cc96\",\"#ab63fa\",\"#FFA15A\",\"#19d3f3\",\"#FF6692\",\"#B6E880\",\"#FF97FF\",\"#FECB52\"],\"font\":{\"color\":\"#2a3f5f\"},\"hovermode\":\"closest\",\"hoverlabel\":{\"align\":\"left\"},\"paper_bgcolor\":\"white\",\"plot_bgcolor\":\"#E5ECF6\",\"polar\":{\"bgcolor\":\"#E5ECF6\",\"angularaxis\":{\"gridcolor\":\"white\",\"linecolor\":\"white\",\"ticks\":\"\"},\"radialaxis\":{\"gridcolor\":\"white\",\"linecolor\":\"white\",\"ticks\":\"\"}},\"ternary\":{\"bgcolor\":\"#E5ECF6\",\"aaxis\":{\"gridcolor\":\"white\",\"linecolor\":\"white\",\"ticks\":\"\"},\"baxis\":{\"gridcolor\":\"white\",\"linecolor\":\"white\",\"ticks\":\"\"},\"caxis\":{\"gridcolor\":\"white\",\"linecolor\":\"white\",\"ticks\":\"\"}},\"coloraxis\":{\"colorbar\":{\"outlinewidth\":0,\"ticks\":\"\"}},\"colorscale\":{\"sequential\":[[0.0,\"#0d0887\"],[0.1111111111111111,\"#46039f\"],[0.2222222222222222,\"#7201a8\"],[0.3333333333333333,\"#9c179e\"],[0.4444444444444444,\"#bd3786\"],[0.5555555555555556,\"#d8576b\"],[0.6666666666666666,\"#ed7953\"],[0.7777777777777778,\"#fb9f3a\"],[0.8888888888888888,\"#fdca26\"],[1.0,\"#f0f921\"]],\"sequentialminus\":[[0.0,\"#0d0887\"],[0.1111111111111111,\"#46039f\"],[0.2222222222222222,\"#7201a8\"],[0.3333333333333333,\"#9c179e\"],[0.4444444444444444,\"#bd3786\"],[0.5555555555555556,\"#d8576b\"],[0.6666666666666666,\"#ed7953\"],[0.7777777777777778,\"#fb9f3a\"],[0.8888888888888888,\"#fdca26\"],[1.0,\"#f0f921\"]],\"diverging\":[[0,\"#8e0152\"],[0.1,\"#c51b7d\"],[0.2,\"#de77ae\"],[0.3,\"#f1b6da\"],[0.4,\"#fde0ef\"],[0.5,\"#f7f7f7\"],[0.6,\"#e6f5d0\"],[0.7,\"#b8e186\"],[0.8,\"#7fbc41\"],[0.9,\"#4d9221\"],[1,\"#276419\"]]},\"xaxis\":{\"gridcolor\":\"white\",\"linecolor\":\"white\",\"ticks\":\"\",\"title\":{\"standoff\":15},\"zerolinecolor\":\"white\",\"automargin\":true,\"zerolinewidth\":2},\"yaxis\":{\"gridcolor\":\"white\",\"linecolor\":\"white\",\"ticks\":\"\",\"title\":{\"standoff\":15},\"zerolinecolor\":\"white\",\"automargin\":true,\"zerolinewidth\":2},\"scene\":{\"xaxis\":{\"backgroundcolor\":\"#E5ECF6\",\"gridcolor\":\"white\",\"linecolor\":\"white\",\"showbackground\":true,\"ticks\":\"\",\"zerolinecolor\":\"white\",\"gridwidth\":2},\"yaxis\":{\"backgroundcolor\":\"#E5ECF6\",\"gridcolor\":\"white\",\"linecolor\":\"white\",\"showbackground\":true,\"ticks\":\"\",\"zerolinecolor\":\"white\",\"gridwidth\":2},\"zaxis\":{\"backgroundcolor\":\"#E5ECF6\",\"gridcolor\":\"white\",\"linecolor\":\"white\",\"showbackground\":true,\"ticks\":\"\",\"zerolinecolor\":\"white\",\"gridwidth\":2}},\"shapedefaults\":{\"line\":{\"color\":\"#2a3f5f\"}},\"annotationdefaults\":{\"arrowcolor\":\"#2a3f5f\",\"arrowhead\":0,\"arrowwidth\":1},\"geo\":{\"bgcolor\":\"white\",\"landcolor\":\"#E5ECF6\",\"subunitcolor\":\"white\",\"showland\":true,\"showlakes\":true,\"lakecolor\":\"white\"},\"title\":{\"x\":0.05},\"mapbox\":{\"style\":\"light\"}}},\"legend\":{\"tracegroupgap\":0},\"margin\":{\"t\":60}},                        {\"responsive\": true}                    ).then(function(){\n",
              "                            \n",
              "var gd = document.getElementById('c2873d18-9cb7-4a10-838a-92a37b7fe908');\n",
              "var x = new MutationObserver(function (mutations, observer) {{\n",
              "        var display = window.getComputedStyle(gd).display;\n",
              "        if (!display || display === 'none') {{\n",
              "            console.log([gd, 'removed!']);\n",
              "            Plotly.purge(gd);\n",
              "            observer.disconnect();\n",
              "        }}\n",
              "}});\n",
              "\n",
              "// Listen for the removal of the full notebook cells\n",
              "var notebookContainer = gd.closest('#notebook-container');\n",
              "if (notebookContainer) {{\n",
              "    x.observe(notebookContainer, {childList: true});\n",
              "}}\n",
              "\n",
              "// Listen for the clearing of the current output cell\n",
              "var outputEl = gd.closest('.output');\n",
              "if (outputEl) {{\n",
              "    x.observe(outputEl, {childList: true});\n",
              "}}\n",
              "\n",
              "                        })                };                            </script>        </div>\n",
              "</body>\n",
              "</html>"
            ]
          },
          "metadata": {}
        }
      ]
    },
    {
      "cell_type": "code",
      "source": [
        "#number of reviews in each subject ???\n",
        "plt.figure(figsize=(12,5))\n",
        "sub_numR=udemy_data.groupby('subject').num_reviews.sum().to_frame().reset_index()\n",
        "sns.barplot(data=sub_numR,x='subject',y='num_reviews')\n",
        "plt.show()"
      ],
      "metadata": {
        "colab": {
          "base_uri": "https://localhost:8080/",
          "height": 465
        },
        "id": "-vEXTjpM5xIc",
        "outputId": "ece219d7-a54e-46c6-92c4-7fc492696c7d"
      },
      "execution_count": null,
      "outputs": [
        {
          "output_type": "display_data",
          "data": {
            "text/plain": [
              "<Figure size 1200x500 with 1 Axes>"
            ],
            "image/png": "[encoded data removed]"
          },
          "metadata": {}
        }
      ]
    },
    {
      "cell_type": "code",
      "source": [
        "date_subject=udemy_data[['subject','published_timestamp','price']]\n",
        "date_subject.loc[:,'year']=date_subject.published_timestamp.dt.year"
      ],
      "metadata": {
        "colab": {
          "base_uri": "https://localhost:8080/"
        },
        "id": "uJSZNRI3PY4m",
        "outputId": "ae2c43c1-d72c-4a69-ad9e-a7d039e5c340"
      },
      "execution_count": null,
      "outputs": [
        {
          "output_type": "stream",
          "name": "stderr",
          "text": [
            "<ipython-input-76-54f5e36e4990>:2: SettingWithCopyWarning:\n",
            "\n",
            "\n",
            "A value is trying to be set on a copy of a slice from a DataFrame.\n",
            "Try using .loc[row_indexer,col_indexer] = value instead\n",
            "\n",
            "See the caveats in the documentation: https://pandas.pydata.org/pandas-docs/stable/user_guide/indexing.html#returning-a-view-versus-a-copy\n",
            "\n"
          ]
        }
      ]
    },
    {
      "cell_type": "code",
      "source": [
        "px.area(data_frame=dateVsSubject,x='year',y='price',color='subject',\n",
        "        labels={\n",
        "          'price':'count'\n",
        "        }\n",
        ")"
      ],
      "metadata": {
        "colab": {
          "base_uri": "https://localhost:8080/",
          "height": 542
        },
        "id": "hWeHzAwhUsmC",
        "outputId": "8b5a6c0f-e98c-44ce-9390-56a9c0d22c9f"
      },
      "execution_count": null,
      "outputs": [
        {
          "output_type": "display_data",
          "data": {
            "text/html": [
              "<html>\n",
              "<head><meta charset=\"utf-8\" /></head>\n",
              "<body>\n",
              "    <div>            <script src=\"https://cdnjs.cloudflare.com/ajax/libs/mathjax/2.7.5/MathJax.js?config=TeX-AMS-MML_SVG\"></script><script type=\"text/javascript\">if (window.MathJax && window.MathJax.Hub && window.MathJax.Hub.Config) {window.MathJax.Hub.Config({SVG: {font: \"STIX-Web\"}});}</script>                <script type=\"text/javascript\">window.PlotlyConfig = {MathJaxConfig: 'local'};</script>\n",
              "        <script src=\"https://cdn.plot.ly/plotly-2.18.2.min.js\"></script>                <div id=\"6fd9fb15-c65c-46e3-a954-afa5153d0951\" class=\"plotly-graph-div\" style=\"height:525px; width:100%;\"></div>            <script type=\"text/javascript\">                                    window.PLOTLYENV=window.PLOTLYENV || {};                                    if (document.getElementById(\"6fd9fb15-c65c-46e3-a954-afa5153d0951\")) {                    Plotly.newPlot(                        \"6fd9fb15-c65c-46e3-a954-afa5153d0951\",                        [{\"fillpattern\":{\"shape\":\"\"},\"hovertemplate\":\"subject=Business Finance<br>year=%{x}<br>count=%{y}<extra></extra>\",\"legendgroup\":\"Business Finance\",\"line\":{\"color\":\"#636efa\"},\"marker\":{\"symbol\":\"circle\"},\"mode\":\"lines\",\"name\":\"Business Finance\",\"orientation\":\"v\",\"showlegend\":true,\"stackgroup\":\"1\",\"x\":[2012,2013,2014,2015,2016,2017],\"xaxis\":\"x\",\"y\":[6,84,192,339,349,225],\"yaxis\":\"y\",\"type\":\"scatter\"},{\"fillpattern\":{\"shape\":\"\"},\"hovertemplate\":\"subject=Graphic Design<br>year=%{x}<br>count=%{y}<extra></extra>\",\"legendgroup\":\"Graphic Design\",\"line\":{\"color\":\"#EF553B\"},\"marker\":{\"symbol\":\"circle\"},\"mode\":\"lines\",\"name\":\"Graphic Design\",\"orientation\":\"v\",\"showlegend\":true,\"stackgroup\":\"1\",\"x\":[2012,2013,2014,2015,2016,2017],\"xaxis\":\"x\",\"y\":[10,23,66,168,181,155],\"yaxis\":\"y\",\"type\":\"scatter\"},{\"fillpattern\":{\"shape\":\"\"},\"hovertemplate\":\"subject=Musical Instruments<br>year=%{x}<br>count=%{y}<extra></extra>\",\"legendgroup\":\"Musical Instruments\",\"line\":{\"color\":\"#00cc96\"},\"marker\":{\"symbol\":\"circle\"},\"mode\":\"lines\",\"name\":\"Musical Instruments\",\"orientation\":\"v\",\"showlegend\":true,\"stackgroup\":\"1\",\"x\":[2012,2013,2014,2015,2016,2017],\"xaxis\":\"x\",\"y\":[10,39,120,171,228,112],\"yaxis\":\"y\",\"type\":\"scatter\"},{\"fillpattern\":{\"shape\":\"\"},\"hovertemplate\":\"subject=Web Development<br>year=%{x}<br>count=%{y}<extra></extra>\",\"legendgroup\":\"Web Development\",\"line\":{\"color\":\"#ab63fa\"},\"marker\":{\"symbol\":\"circle\"},\"mode\":\"lines\",\"name\":\"Web Development\",\"orientation\":\"v\",\"showlegend\":true,\"stackgroup\":\"1\",\"x\":[2011,2012,2013,2014,2015,2016,2017],\"xaxis\":\"x\",\"y\":[5,19,56,113,336,448,223],\"yaxis\":\"y\",\"type\":\"scatter\"}],                        {\"template\":{\"data\":{\"histogram2dcontour\":[{\"type\":\"histogram2dcontour\",\"colorbar\":{\"outlinewidth\":0,\"ticks\":\"\"},\"colorscale\":[[0.0,\"#0d0887\"],[0.1111111111111111,\"#46039f\"],[0.2222222222222222,\"#7201a8\"],[0.3333333333333333,\"#9c179e\"],[0.4444444444444444,\"#bd3786\"],[0.5555555555555556,\"#d8576b\"],[0.6666666666666666,\"#ed7953\"],[0.7777777777777778,\"#fb9f3a\"],[0.8888888888888888,\"#fdca26\"],[1.0,\"#f0f921\"]]}],\"choropleth\":[{\"type\":\"choropleth\",\"colorbar\":{\"outlinewidth\":0,\"ticks\":\"\"}}],\"histogram2d\":[{\"type\":\"histogram2d\",\"colorbar\":{\"outlinewidth\":0,\"ticks\":\"\"},\"colorscale\":[[0.0,\"#0d0887\"],[0.1111111111111111,\"#46039f\"],[0.2222222222222222,\"#7201a8\"],[0.3333333333333333,\"#9c179e\"],[0.4444444444444444,\"#bd3786\"],[0.5555555555555556,\"#d8576b\"],[0.6666666666666666,\"#ed7953\"],[0.7777777777777778,\"#fb9f3a\"],[0.8888888888888888,\"#fdca26\"],[1.0,\"#f0f921\"]]}],\"heatmap\":[{\"type\":\"heatmap\",\"colorbar\":{\"outlinewidth\":0,\"ticks\":\"\"},\"colorscale\":[[0.0,\"#0d0887\"],[0.1111111111111111,\"#46039f\"],[0.2222222222222222,\"#7201a8\"],[0.3333333333333333,\"#9c179e\"],[0.4444444444444444,\"#bd3786\"],[0.5555555555555556,\"#d8576b\"],[0.6666666666666666,\"#ed7953\"],[0.7777777777777778,\"#fb9f3a\"],[0.8888888888888888,\"#fdca26\"],[1.0,\"#f0f921\"]]}],\"heatmapgl\":[{\"type\":\"heatmapgl\",\"colorbar\":{\"outlinewidth\":0,\"ticks\":\"\"},\"colorscale\":[[0.0,\"#0d0887\"],[0.1111111111111111,\"#46039f\"],[0.2222222222222222,\"#7201a8\"],[0.3333333333333333,\"#9c179e\"],[0.4444444444444444,\"#bd3786\"],[0.5555555555555556,\"#d8576b\"],[0.6666666666666666,\"#ed7953\"],[0.7777777777777778,\"#fb9f3a\"],[0.8888888888888888,\"#fdca26\"],[1.0,\"#f0f921\"]]}],\"contourcarpet\":[{\"type\":\"contourcarpet\",\"colorbar\":{\"outlinewidth\":0,\"ticks\":\"\"}}],\"contour\":[{\"type\":\"contour\",\"colorbar\":{\"outlinewidth\":0,\"ticks\":\"\"},\"colorscale\":[[0.0,\"#0d0887\"],[0.1111111111111111,\"#46039f\"],[0.2222222222222222,\"#7201a8\"],[0.3333333333333333,\"#9c179e\"],[0.4444444444444444,\"#bd3786\"],[0.5555555555555556,\"#d8576b\"],[0.6666666666666666,\"#ed7953\"],[0.7777777777777778,\"#fb9f3a\"],[0.8888888888888888,\"#fdca26\"],[1.0,\"#f0f921\"]]}],\"surface\":[{\"type\":\"surface\",\"colorbar\":{\"outlinewidth\":0,\"ticks\":\"\"},\"colorscale\":[[0.0,\"#0d0887\"],[0.1111111111111111,\"#46039f\"],[0.2222222222222222,\"#7201a8\"],[0.3333333333333333,\"#9c179e\"],[0.4444444444444444,\"#bd3786\"],[0.5555555555555556,\"#d8576b\"],[0.6666666666666666,\"#ed7953\"],[0.7777777777777778,\"#fb9f3a\"],[0.8888888888888888,\"#fdca26\"],[1.0,\"#f0f921\"]]}],\"mesh3d\":[{\"type\":\"mesh3d\",\"colorbar\":{\"outlinewidth\":0,\"ticks\":\"\"}}],\"scatter\":[{\"fillpattern\":{\"fillmode\":\"overlay\",\"size\":10,\"solidity\":0.2},\"type\":\"scatter\"}],\"parcoords\":[{\"type\":\"parcoords\",\"line\":{\"colorbar\":{\"outlinewidth\":0,\"ticks\":\"\"}}}],\"scatterpolargl\":[{\"type\":\"scatterpolargl\",\"marker\":{\"colorbar\":{\"outlinewidth\":0,\"ticks\":\"\"}}}],\"bar\":[{\"error_x\":{\"color\":\"#2a3f5f\"},\"error_y\":{\"color\":\"#2a3f5f\"},\"marker\":{\"line\":{\"color\":\"#E5ECF6\",\"width\":0.5},\"pattern\":{\"fillmode\":\"overlay\",\"size\":10,\"solidity\":0.2}},\"type\":\"bar\"}],\"scattergeo\":[{\"type\":\"scattergeo\",\"marker\":{\"colorbar\":{\"outlinewidth\":0,\"ticks\":\"\"}}}],\"scatterpolar\":[{\"type\":\"scatterpolar\",\"marker\":{\"colorbar\":{\"outlinewidth\":0,\"ticks\":\"\"}}}],\"histogram\":[{\"marker\":{\"pattern\":{\"fillmode\":\"overlay\",\"size\":10,\"solidity\":0.2}},\"type\":\"histogram\"}],\"scattergl\":[{\"type\":\"scattergl\",\"marker\":{\"colorbar\":{\"outlinewidth\":0,\"ticks\":\"\"}}}],\"scatter3d\":[{\"type\":\"scatter3d\",\"line\":{\"colorbar\":{\"outlinewidth\":0,\"ticks\":\"\"}},\"marker\":{\"colorbar\":{\"outlinewidth\":0,\"ticks\":\"\"}}}],\"scattermapbox\":[{\"type\":\"scattermapbox\",\"marker\":{\"colorbar\":{\"outlinewidth\":0,\"ticks\":\"\"}}}],\"scatterternary\":[{\"type\":\"scatterternary\",\"marker\":{\"colorbar\":{\"outlinewidth\":0,\"ticks\":\"\"}}}],\"scattercarpet\":[{\"type\":\"scattercarpet\",\"marker\":{\"colorbar\":{\"outlinewidth\":0,\"ticks\":\"\"}}}],\"carpet\":[{\"aaxis\":{\"endlinecolor\":\"#2a3f5f\",\"gridcolor\":\"white\",\"linecolor\":\"white\",\"minorgridcolor\":\"white\",\"startlinecolor\":\"#2a3f5f\"},\"baxis\":{\"endlinecolor\":\"#2a3f5f\",\"gridcolor\":\"white\",\"linecolor\":\"white\",\"minorgridcolor\":\"white\",\"startlinecolor\":\"#2a3f5f\"},\"type\":\"carpet\"}],\"table\":[{\"cells\":{\"fill\":{\"color\":\"#EBF0F8\"},\"line\":{\"color\":\"white\"}},\"header\":{\"fill\":{\"color\":\"#C8D4E3\"},\"line\":{\"color\":\"white\"}},\"type\":\"table\"}],\"barpolar\":[{\"marker\":{\"line\":{\"color\":\"#E5ECF6\",\"width\":0.5},\"pattern\":{\"fillmode\":\"overlay\",\"size\":10,\"solidity\":0.2}},\"type\":\"barpolar\"}],\"pie\":[{\"automargin\":true,\"type\":\"pie\"}]},\"layout\":{\"autotypenumbers\":\"strict\",\"colorway\":[\"#636efa\",\"#EF553B\",\"#00cc96\",\"#ab63fa\",\"#FFA15A\",\"#19d3f3\",\"#FF6692\",\"#B6E880\",\"#FF97FF\",\"#FECB52\"],\"font\":{\"color\":\"#2a3f5f\"},\"hovermode\":\"closest\",\"hoverlabel\":{\"align\":\"left\"},\"paper_bgcolor\":\"white\",\"plot_bgcolor\":\"#E5ECF6\",\"polar\":{\"bgcolor\":\"#E5ECF6\",\"angularaxis\":{\"gridcolor\":\"white\",\"linecolor\":\"white\",\"ticks\":\"\"},\"radialaxis\":{\"gridcolor\":\"white\",\"linecolor\":\"white\",\"ticks\":\"\"}},\"ternary\":{\"bgcolor\":\"#E5ECF6\",\"aaxis\":{\"gridcolor\":\"white\",\"linecolor\":\"white\",\"ticks\":\"\"},\"baxis\":{\"gridcolor\":\"white\",\"linecolor\":\"white\",\"ticks\":\"\"},\"caxis\":{\"gridcolor\":\"white\",\"linecolor\":\"white\",\"ticks\":\"\"}},\"coloraxis\":{\"colorbar\":{\"outlinewidth\":0,\"ticks\":\"\"}},\"colorscale\":{\"sequential\":[[0.0,\"#0d0887\"],[0.1111111111111111,\"#46039f\"],[0.2222222222222222,\"#7201a8\"],[0.3333333333333333,\"#9c179e\"],[0.4444444444444444,\"#bd3786\"],[0.5555555555555556,\"#d8576b\"],[0.6666666666666666,\"#ed7953\"],[0.7777777777777778,\"#fb9f3a\"],[0.8888888888888888,\"#fdca26\"],[1.0,\"#f0f921\"]],\"sequentialminus\":[[0.0,\"#0d0887\"],[0.1111111111111111,\"#46039f\"],[0.2222222222222222,\"#7201a8\"],[0.3333333333333333,\"#9c179e\"],[0.4444444444444444,\"#bd3786\"],[0.5555555555555556,\"#d8576b\"],[0.6666666666666666,\"#ed7953\"],[0.7777777777777778,\"#fb9f3a\"],[0.8888888888888888,\"#fdca26\"],[1.0,\"#f0f921\"]],\"diverging\":[[0,\"#8e0152\"],[0.1,\"#c51b7d\"],[0.2,\"#de77ae\"],[0.3,\"#f1b6da\"],[0.4,\"#fde0ef\"],[0.5,\"#f7f7f7\"],[0.6,\"#e6f5d0\"],[0.7,\"#b8e186\"],[0.8,\"#7fbc41\"],[0.9,\"#4d9221\"],[1,\"#276419\"]]},\"xaxis\":{\"gridcolor\":\"white\",\"linecolor\":\"white\",\"ticks\":\"\",\"title\":{\"standoff\":15},\"zerolinecolor\":\"white\",\"automargin\":true,\"zerolinewidth\":2},\"yaxis\":{\"gridcolor\":\"white\",\"linecolor\":\"white\",\"ticks\":\"\",\"title\":{\"standoff\":15},\"zerolinecolor\":\"white\",\"automargin\":true,\"zerolinewidth\":2},\"scene\":{\"xaxis\":{\"backgroundcolor\":\"#E5ECF6\",\"gridcolor\":\"white\",\"linecolor\":\"white\",\"showbackground\":true,\"ticks\":\"\",\"zerolinecolor\":\"white\",\"gridwidth\":2},\"yaxis\":{\"backgroundcolor\":\"#E5ECF6\",\"gridcolor\":\"white\",\"linecolor\":\"white\",\"showbackground\":true,\"ticks\":\"\",\"zerolinecolor\":\"white\",\"gridwidth\":2},\"zaxis\":{\"backgroundcolor\":\"#E5ECF6\",\"gridcolor\":\"white\",\"linecolor\":\"white\",\"showbackground\":true,\"ticks\":\"\",\"zerolinecolor\":\"white\",\"gridwidth\":2}},\"shapedefaults\":{\"line\":{\"color\":\"#2a3f5f\"}},\"annotationdefaults\":{\"arrowcolor\":\"#2a3f5f\",\"arrowhead\":0,\"arrowwidth\":1},\"geo\":{\"bgcolor\":\"white\",\"landcolor\":\"#E5ECF6\",\"subunitcolor\":\"white\",\"showland\":true,\"showlakes\":true,\"lakecolor\":\"white\"},\"title\":{\"x\":0.05},\"mapbox\":{\"style\":\"light\"}}},\"xaxis\":{\"anchor\":\"y\",\"domain\":[0.0,1.0],\"title\":{\"text\":\"year\"}},\"yaxis\":{\"anchor\":\"x\",\"domain\":[0.0,1.0],\"title\":{\"text\":\"count\"}},\"legend\":{\"title\":{\"text\":\"subject\"},\"tracegroupgap\":0},\"margin\":{\"t\":60}},                        {\"responsive\": true}                    ).then(function(){\n",
              "                            \n",
              "var gd = document.getElementById('6fd9fb15-c65c-46e3-a954-afa5153d0951');\n",
              "var x = new MutationObserver(function (mutations, observer) {{\n",
              "        var display = window.getComputedStyle(gd).display;\n",
              "        if (!display || display === 'none') {{\n",
              "            console.log([gd, 'removed!']);\n",
              "            Plotly.purge(gd);\n",
              "            observer.disconnect();\n",
              "        }}\n",
              "}});\n",
              "\n",
              "// Listen for the removal of the full notebook cells\n",
              "var notebookContainer = gd.closest('#notebook-container');\n",
              "if (notebookContainer) {{\n",
              "    x.observe(notebookContainer, {childList: true});\n",
              "}}\n",
              "\n",
              "// Listen for the clearing of the current output cell\n",
              "var outputEl = gd.closest('.output');\n",
              "if (outputEl) {{\n",
              "    x.observe(outputEl, {childList: true});\n",
              "}}\n",
              "\n",
              "                        })                };                            </script>        </div>\n",
              "</body>\n",
              "</html>"
            ]
          },
          "metadata": {}
        }
      ]
    },
    {
      "cell_type": "code",
      "source": [
        "subject_reward=udemy_data[udemy_data.is_paid==True].groupby('subject').price.sum().to_frame().reset_index()\n",
        "px.bar(data_frame=subject_reward,x='subject',y='price',text_auto='.2s',\n",
        "       labels={\n",
        "           'price':'reward'\n",
        "       }\n",
        ")"
      ],
      "metadata": {
        "colab": {
          "base_uri": "https://localhost:8080/",
          "height": 542
        },
        "id": "2C59kuYnYeoj",
        "outputId": "1a2c1c3b-02fd-4d1e-fbed-9d4e4c308646"
      },
      "execution_count": null,
      "outputs": [
        {
          "output_type": "display_data",
          "data": {
            "text/html": [
              "<html>\n",
              "<head><meta charset=\"utf-8\" /></head>\n",
              "<body>\n",
              "    <div>            <script src=\"https://cdnjs.cloudflare.com/ajax/libs/mathjax/2.7.5/MathJax.js?config=TeX-AMS-MML_SVG\"></script><script type=\"text/javascript\">if (window.MathJax && window.MathJax.Hub && window.MathJax.Hub.Config) {window.MathJax.Hub.Config({SVG: {font: \"STIX-Web\"}});}</script>                <script type=\"text/javascript\">window.PlotlyConfig = {MathJaxConfig: 'local'};</script>\n",
              "        <script src=\"https://cdn.plot.ly/plotly-2.18.2.min.js\"></script>                <div id=\"870c32e1-07fe-4334-b444-b0758d338be9\" class=\"plotly-graph-div\" style=\"height:525px; width:100%;\"></div>            <script type=\"text/javascript\">                                    window.PLOTLYENV=window.PLOTLYENV || {};                                    if (document.getElementById(\"870c32e1-07fe-4334-b444-b0758d338be9\")) {                    Plotly.newPlot(                        \"870c32e1-07fe-4334-b444-b0758d338be9\",                        [{\"alignmentgroup\":\"True\",\"hovertemplate\":\"subject=%{x}<br>reward=%{y}<extra></extra>\",\"legendgroup\":\"\",\"marker\":{\"color\":\"#636efa\",\"pattern\":{\"shape\":\"\"}},\"name\":\"\",\"offsetgroup\":\"\",\"orientation\":\"v\",\"showlegend\":false,\"textposition\":\"auto\",\"texttemplate\":\"%{y:.2s}\",\"x\":[\"Business Finance\",\"Graphic Design\",\"Musical Instruments\",\"Web Development\"],\"xaxis\":\"x\",\"y\":[81920,34870,33700,92440],\"yaxis\":\"y\",\"type\":\"bar\"}],                        {\"template\":{\"data\":{\"histogram2dcontour\":[{\"type\":\"histogram2dcontour\",\"colorbar\":{\"outlinewidth\":0,\"ticks\":\"\"},\"colorscale\":[[0.0,\"#0d0887\"],[0.1111111111111111,\"#46039f\"],[0.2222222222222222,\"#7201a8\"],[0.3333333333333333,\"#9c179e\"],[0.4444444444444444,\"#bd3786\"],[0.5555555555555556,\"#d8576b\"],[0.6666666666666666,\"#ed7953\"],[0.7777777777777778,\"#fb9f3a\"],[0.8888888888888888,\"#fdca26\"],[1.0,\"#f0f921\"]]}],\"choropleth\":[{\"type\":\"choropleth\",\"colorbar\":{\"outlinewidth\":0,\"ticks\":\"\"}}],\"histogram2d\":[{\"type\":\"histogram2d\",\"colorbar\":{\"outlinewidth\":0,\"ticks\":\"\"},\"colorscale\":[[0.0,\"#0d0887\"],[0.1111111111111111,\"#46039f\"],[0.2222222222222222,\"#7201a8\"],[0.3333333333333333,\"#9c179e\"],[0.4444444444444444,\"#bd3786\"],[0.5555555555555556,\"#d8576b\"],[0.6666666666666666,\"#ed7953\"],[0.7777777777777778,\"#fb9f3a\"],[0.8888888888888888,\"#fdca26\"],[1.0,\"#f0f921\"]]}],\"heatmap\":[{\"type\":\"heatmap\",\"colorbar\":{\"outlinewidth\":0,\"ticks\":\"\"},\"colorscale\":[[0.0,\"#0d0887\"],[0.1111111111111111,\"#46039f\"],[0.2222222222222222,\"#7201a8\"],[0.3333333333333333,\"#9c179e\"],[0.4444444444444444,\"#bd3786\"],[0.5555555555555556,\"#d8576b\"],[0.6666666666666666,\"#ed7953\"],[0.7777777777777778,\"#fb9f3a\"],[0.8888888888888888,\"#fdca26\"],[1.0,\"#f0f921\"]]}],\"heatmapgl\":[{\"type\":\"heatmapgl\",\"colorbar\":{\"outlinewidth\":0,\"ticks\":\"\"},\"colorscale\":[[0.0,\"#0d0887\"],[0.1111111111111111,\"#46039f\"],[0.2222222222222222,\"#7201a8\"],[0.3333333333333333,\"#9c179e\"],[0.4444444444444444,\"#bd3786\"],[0.5555555555555556,\"#d8576b\"],[0.6666666666666666,\"#ed7953\"],[0.7777777777777778,\"#fb9f3a\"],[0.8888888888888888,\"#fdca26\"],[1.0,\"#f0f921\"]]}],\"contourcarpet\":[{\"type\":\"contourcarpet\",\"colorbar\":{\"outlinewidth\":0,\"ticks\":\"\"}}],\"contour\":[{\"type\":\"contour\",\"colorbar\":{\"outlinewidth\":0,\"ticks\":\"\"},\"colorscale\":[[0.0,\"#0d0887\"],[0.1111111111111111,\"#46039f\"],[0.2222222222222222,\"#7201a8\"],[0.3333333333333333,\"#9c179e\"],[0.4444444444444444,\"#bd3786\"],[0.5555555555555556,\"#d8576b\"],[0.6666666666666666,\"#ed7953\"],[0.7777777777777778,\"#fb9f3a\"],[0.8888888888888888,\"#fdca26\"],[1.0,\"#f0f921\"]]}],\"surface\":[{\"type\":\"surface\",\"colorbar\":{\"outlinewidth\":0,\"ticks\":\"\"},\"colorscale\":[[0.0,\"#0d0887\"],[0.1111111111111111,\"#46039f\"],[0.2222222222222222,\"#7201a8\"],[0.3333333333333333,\"#9c179e\"],[0.4444444444444444,\"#bd3786\"],[0.5555555555555556,\"#d8576b\"],[0.6666666666666666,\"#ed7953\"],[0.7777777777777778,\"#fb9f3a\"],[0.8888888888888888,\"#fdca26\"],[1.0,\"#f0f921\"]]}],\"mesh3d\":[{\"type\":\"mesh3d\",\"colorbar\":{\"outlinewidth\":0,\"ticks\":\"\"}}],\"scatter\":[{\"fillpattern\":{\"fillmode\":\"overlay\",\"size\":10,\"solidity\":0.2},\"type\":\"scatter\"}],\"parcoords\":[{\"type\":\"parcoords\",\"line\":{\"colorbar\":{\"outlinewidth\":0,\"ticks\":\"\"}}}],\"scatterpolargl\":[{\"type\":\"scatterpolargl\",\"marker\":{\"colorbar\":{\"outlinewidth\":0,\"ticks\":\"\"}}}],\"bar\":[{\"error_x\":{\"color\":\"#2a3f5f\"},\"error_y\":{\"color\":\"#2a3f5f\"},\"marker\":{\"line\":{\"color\":\"#E5ECF6\",\"width\":0.5},\"pattern\":{\"fillmode\":\"overlay\",\"size\":10,\"solidity\":0.2}},\"type\":\"bar\"}],\"scattergeo\":[{\"type\":\"scattergeo\",\"marker\":{\"colorbar\":{\"outlinewidth\":0,\"ticks\":\"\"}}}],\"scatterpolar\":[{\"type\":\"scatterpolar\",\"marker\":{\"colorbar\":{\"outlinewidth\":0,\"ticks\":\"\"}}}],\"histogram\":[{\"marker\":{\"pattern\":{\"fillmode\":\"overlay\",\"size\":10,\"solidity\":0.2}},\"type\":\"histogram\"}],\"scattergl\":[{\"type\":\"scattergl\",\"marker\":{\"colorbar\":{\"outlinewidth\":0,\"ticks\":\"\"}}}],\"scatter3d\":[{\"type\":\"scatter3d\",\"line\":{\"colorbar\":{\"outlinewidth\":0,\"ticks\":\"\"}},\"marker\":{\"colorbar\":{\"outlinewidth\":0,\"ticks\":\"\"}}}],\"scattermapbox\":[{\"type\":\"scattermapbox\",\"marker\":{\"colorbar\":{\"outlinewidth\":0,\"ticks\":\"\"}}}],\"scatterternary\":[{\"type\":\"scatterternary\",\"marker\":{\"colorbar\":{\"outlinewidth\":0,\"ticks\":\"\"}}}],\"scattercarpet\":[{\"type\":\"scattercarpet\",\"marker\":{\"colorbar\":{\"outlinewidth\":0,\"ticks\":\"\"}}}],\"carpet\":[{\"aaxis\":{\"endlinecolor\":\"#2a3f5f\",\"gridcolor\":\"white\",\"linecolor\":\"white\",\"minorgridcolor\":\"white\",\"startlinecolor\":\"#2a3f5f\"},\"baxis\":{\"endlinecolor\":\"#2a3f5f\",\"gridcolor\":\"white\",\"linecolor\":\"white\",\"minorgridcolor\":\"white\",\"startlinecolor\":\"#2a3f5f\"},\"type\":\"carpet\"}],\"table\":[{\"cells\":{\"fill\":{\"color\":\"#EBF0F8\"},\"line\":{\"color\":\"white\"}},\"header\":{\"fill\":{\"color\":\"#C8D4E3\"},\"line\":{\"color\":\"white\"}},\"type\":\"table\"}],\"barpolar\":[{\"marker\":{\"line\":{\"color\":\"#E5ECF6\",\"width\":0.5},\"pattern\":{\"fillmode\":\"overlay\",\"size\":10,\"solidity\":0.2}},\"type\":\"barpolar\"}],\"pie\":[{\"automargin\":true,\"type\":\"pie\"}]},\"layout\":{\"autotypenumbers\":\"strict\",\"colorway\":[\"#636efa\",\"#EF553B\",\"#00cc96\",\"#ab63fa\",\"#FFA15A\",\"#19d3f3\",\"#FF6692\",\"#B6E880\",\"#FF97FF\",\"#FECB52\"],\"font\":{\"color\":\"#2a3f5f\"},\"hovermode\":\"closest\",\"hoverlabel\":{\"align\":\"left\"},\"paper_bgcolor\":\"white\",\"plot_bgcolor\":\"#E5ECF6\",\"polar\":{\"bgcolor\":\"#E5ECF6\",\"angularaxis\":{\"gridcolor\":\"white\",\"linecolor\":\"white\",\"ticks\":\"\"},\"radialaxis\":{\"gridcolor\":\"white\",\"linecolor\":\"white\",\"ticks\":\"\"}},\"ternary\":{\"bgcolor\":\"#E5ECF6\",\"aaxis\":{\"gridcolor\":\"white\",\"linecolor\":\"white\",\"ticks\":\"\"},\"baxis\":{\"gridcolor\":\"white\",\"linecolor\":\"white\",\"ticks\":\"\"},\"caxis\":{\"gridcolor\":\"white\",\"linecolor\":\"white\",\"ticks\":\"\"}},\"coloraxis\":{\"colorbar\":{\"outlinewidth\":0,\"ticks\":\"\"}},\"colorscale\":{\"sequential\":[[0.0,\"#0d0887\"],[0.1111111111111111,\"#46039f\"],[0.2222222222222222,\"#7201a8\"],[0.3333333333333333,\"#9c179e\"],[0.4444444444444444,\"#bd3786\"],[0.5555555555555556,\"#d8576b\"],[0.6666666666666666,\"#ed7953\"],[0.7777777777777778,\"#fb9f3a\"],[0.8888888888888888,\"#fdca26\"],[1.0,\"#f0f921\"]],\"sequentialminus\":[[0.0,\"#0d0887\"],[0.1111111111111111,\"#46039f\"],[0.2222222222222222,\"#7201a8\"],[0.3333333333333333,\"#9c179e\"],[0.4444444444444444,\"#bd3786\"],[0.5555555555555556,\"#d8576b\"],[0.6666666666666666,\"#ed7953\"],[0.7777777777777778,\"#fb9f3a\"],[0.8888888888888888,\"#fdca26\"],[1.0,\"#f0f921\"]],\"diverging\":[[0,\"#8e0152\"],[0.1,\"#c51b7d\"],[0.2,\"#de77ae\"],[0.3,\"#f1b6da\"],[0.4,\"#fde0ef\"],[0.5,\"#f7f7f7\"],[0.6,\"#e6f5d0\"],[0.7,\"#b8e186\"],[0.8,\"#7fbc41\"],[0.9,\"#4d9221\"],[1,\"#276419\"]]},\"xaxis\":{\"gridcolor\":\"white\",\"linecolor\":\"white\",\"ticks\":\"\",\"title\":{\"standoff\":15},\"zerolinecolor\":\"white\",\"automargin\":true,\"zerolinewidth\":2},\"yaxis\":{\"gridcolor\":\"white\",\"linecolor\":\"white\",\"ticks\":\"\",\"title\":{\"standoff\":15},\"zerolinecolor\":\"white\",\"automargin\":true,\"zerolinewidth\":2},\"scene\":{\"xaxis\":{\"backgroundcolor\":\"#E5ECF6\",\"gridcolor\":\"white\",\"linecolor\":\"white\",\"showbackground\":true,\"ticks\":\"\",\"zerolinecolor\":\"white\",\"gridwidth\":2},\"yaxis\":{\"backgroundcolor\":\"#E5ECF6\",\"gridcolor\":\"white\",\"linecolor\":\"white\",\"showbackground\":true,\"ticks\":\"\",\"zerolinecolor\":\"white\",\"gridwidth\":2},\"zaxis\":{\"backgroundcolor\":\"#E5ECF6\",\"gridcolor\":\"white\",\"linecolor\":\"white\",\"showbackground\":true,\"ticks\":\"\",\"zerolinecolor\":\"white\",\"gridwidth\":2}},\"shapedefaults\":{\"line\":{\"color\":\"#2a3f5f\"}},\"annotationdefaults\":{\"arrowcolor\":\"#2a3f5f\",\"arrowhead\":0,\"arrowwidth\":1},\"geo\":{\"bgcolor\":\"white\",\"landcolor\":\"#E5ECF6\",\"subunitcolor\":\"white\",\"showland\":true,\"showlakes\":true,\"lakecolor\":\"white\"},\"title\":{\"x\":0.05},\"mapbox\":{\"style\":\"light\"}}},\"xaxis\":{\"anchor\":\"y\",\"domain\":[0.0,1.0],\"title\":{\"text\":\"subject\"}},\"yaxis\":{\"anchor\":\"x\",\"domain\":[0.0,1.0],\"title\":{\"text\":\"reward\"}},\"legend\":{\"tracegroupgap\":0},\"margin\":{\"t\":60},\"barmode\":\"relative\"},                        {\"responsive\": true}                    ).then(function(){\n",
              "                            \n",
              "var gd = document.getElementById('870c32e1-07fe-4334-b444-b0758d338be9');\n",
              "var x = new MutationObserver(function (mutations, observer) {{\n",
              "        var display = window.getComputedStyle(gd).display;\n",
              "        if (!display || display === 'none') {{\n",
              "            console.log([gd, 'removed!']);\n",
              "            Plotly.purge(gd);\n",
              "            observer.disconnect();\n",
              "        }}\n",
              "}});\n",
              "\n",
              "// Listen for the removal of the full notebook cells\n",
              "var notebookContainer = gd.closest('#notebook-container');\n",
              "if (notebookContainer) {{\n",
              "    x.observe(notebookContainer, {childList: true});\n",
              "}}\n",
              "\n",
              "// Listen for the clearing of the current output cell\n",
              "var outputEl = gd.closest('.output');\n",
              "if (outputEl) {{\n",
              "    x.observe(outputEl, {childList: true});\n",
              "}}\n",
              "\n",
              "                        })                };                            </script>        </div>\n",
              "</body>\n",
              "</html>"
            ]
          },
          "metadata": {}
        }
      ]
    },
    {
      "cell_type": "markdown",
      "source": [
        "##<center>**Years**</center>"
      ],
      "metadata": {
        "id": "3-EKHx5EeWhW"
      }
    },
    {
      "cell_type": "code",
      "source": [
        "#price_years\n",
        "price_years=udemy_data[['price','published_timestamp','subject']]\n",
        "price_years['year']=udemy_data['published_timestamp'].dt.year\n",
        "priceVsYear=price_years.groupby('year').agg('sum').reset_index()\n",
        "px.line(data_frame=priceVsYear,x='year',y='price',text='price',\n",
        "        labels={\n",
        "            'price':'reward'\n",
        "            }\n",
        "        )"
      ],
      "metadata": {
        "colab": {
          "base_uri": "https://localhost:8080/",
          "height": 770
        },
        "id": "1bpy9SRXe4kl",
        "outputId": "a9d2d4c1-caad-4de5-c0e1-1b10b36a5a72"
      },
      "execution_count": null,
      "outputs": [
        {
          "output_type": "stream",
          "name": "stderr",
          "text": [
            "<ipython-input-137-07410302f0e1>:3: SettingWithCopyWarning:\n",
            "\n",
            "\n",
            "A value is trying to be set on a copy of a slice from a DataFrame.\n",
            "Try using .loc[row_indexer,col_indexer] = value instead\n",
            "\n",
            "See the caveats in the documentation: https://pandas.pydata.org/pandas-docs/stable/user_guide/indexing.html#returning-a-view-versus-a-copy\n",
            "\n",
            "<ipython-input-137-07410302f0e1>:4: FutureWarning:\n",
            "\n",
            "The default value of numeric_only in DataFrameGroupBy.sum is deprecated. In a future version, numeric_only will default to False. Either specify numeric_only or select only columns which should be valid for the function.\n",
            "\n"
          ]
        },
        {
          "output_type": "display_data",
          "data": {
            "text/html": [
              "<html>\n",
              "<head><meta charset=\"utf-8\" /></head>\n",
              "<body>\n",
              "    <div>            <script src=\"https://cdnjs.cloudflare.com/ajax/libs/mathjax/2.7.5/MathJax.js?config=TeX-AMS-MML_SVG\"></script><script type=\"text/javascript\">if (window.MathJax && window.MathJax.Hub && window.MathJax.Hub.Config) {window.MathJax.Hub.Config({SVG: {font: \"STIX-Web\"}});}</script>                <script type=\"text/javascript\">window.PlotlyConfig = {MathJaxConfig: 'local'};</script>\n",
              "        <script src=\"https://cdn.plot.ly/plotly-2.18.2.min.js\"></script>                <div id=\"66da64ab-7968-4908-82eb-530cfb17bc84\" class=\"plotly-graph-div\" style=\"height:525px; width:100%;\"></div>            <script type=\"text/javascript\">                                    window.PLOTLYENV=window.PLOTLYENV || {};                                    if (document.getElementById(\"66da64ab-7968-4908-82eb-530cfb17bc84\")) {                    Plotly.newPlot(                        \"66da64ab-7968-4908-82eb-530cfb17bc84\",                        [{\"hovertemplate\":\"year=%{x}<br>reward=%{text}<extra></extra>\",\"legendgroup\":\"\",\"line\":{\"color\":\"#636efa\",\"dash\":\"solid\"},\"marker\":{\"symbol\":\"circle\"},\"mode\":\"markers+lines+text\",\"name\":\"\",\"orientation\":\"v\",\"showlegend\":false,\"text\":[310.0,1835.0,10860.0,23800.0,67830.0,84210.0,54085.0],\"x\":[2011,2012,2013,2014,2015,2016,2017],\"xaxis\":\"x\",\"y\":[310,1835,10860,23800,67830,84210,54085],\"yaxis\":\"y\",\"type\":\"scatter\"}],                        {\"template\":{\"data\":{\"histogram2dcontour\":[{\"type\":\"histogram2dcontour\",\"colorbar\":{\"outlinewidth\":0,\"ticks\":\"\"},\"colorscale\":[[0.0,\"#0d0887\"],[0.1111111111111111,\"#46039f\"],[0.2222222222222222,\"#7201a8\"],[0.3333333333333333,\"#9c179e\"],[0.4444444444444444,\"#bd3786\"],[0.5555555555555556,\"#d8576b\"],[0.6666666666666666,\"#ed7953\"],[0.7777777777777778,\"#fb9f3a\"],[0.8888888888888888,\"#fdca26\"],[1.0,\"#f0f921\"]]}],\"choropleth\":[{\"type\":\"choropleth\",\"colorbar\":{\"outlinewidth\":0,\"ticks\":\"\"}}],\"histogram2d\":[{\"type\":\"histogram2d\",\"colorbar\":{\"outlinewidth\":0,\"ticks\":\"\"},\"colorscale\":[[0.0,\"#0d0887\"],[0.1111111111111111,\"#46039f\"],[0.2222222222222222,\"#7201a8\"],[0.3333333333333333,\"#9c179e\"],[0.4444444444444444,\"#bd3786\"],[0.5555555555555556,\"#d8576b\"],[0.6666666666666666,\"#ed7953\"],[0.7777777777777778,\"#fb9f3a\"],[0.8888888888888888,\"#fdca26\"],[1.0,\"#f0f921\"]]}],\"heatmap\":[{\"type\":\"heatmap\",\"colorbar\":{\"outlinewidth\":0,\"ticks\":\"\"},\"colorscale\":[[0.0,\"#0d0887\"],[0.1111111111111111,\"#46039f\"],[0.2222222222222222,\"#7201a8\"],[0.3333333333333333,\"#9c179e\"],[0.4444444444444444,\"#bd3786\"],[0.5555555555555556,\"#d8576b\"],[0.6666666666666666,\"#ed7953\"],[0.7777777777777778,\"#fb9f3a\"],[0.8888888888888888,\"#fdca26\"],[1.0,\"#f0f921\"]]}],\"heatmapgl\":[{\"type\":\"heatmapgl\",\"colorbar\":{\"outlinewidth\":0,\"ticks\":\"\"},\"colorscale\":[[0.0,\"#0d0887\"],[0.1111111111111111,\"#46039f\"],[0.2222222222222222,\"#7201a8\"],[0.3333333333333333,\"#9c179e\"],[0.4444444444444444,\"#bd3786\"],[0.5555555555555556,\"#d8576b\"],[0.6666666666666666,\"#ed7953\"],[0.7777777777777778,\"#fb9f3a\"],[0.8888888888888888,\"#fdca26\"],[1.0,\"#f0f921\"]]}],\"contourcarpet\":[{\"type\":\"contourcarpet\",\"colorbar\":{\"outlinewidth\":0,\"ticks\":\"\"}}],\"contour\":[{\"type\":\"contour\",\"colorbar\":{\"outlinewidth\":0,\"ticks\":\"\"},\"colorscale\":[[0.0,\"#0d0887\"],[0.1111111111111111,\"#46039f\"],[0.2222222222222222,\"#7201a8\"],[0.3333333333333333,\"#9c179e\"],[0.4444444444444444,\"#bd3786\"],[0.5555555555555556,\"#d8576b\"],[0.6666666666666666,\"#ed7953\"],[0.7777777777777778,\"#fb9f3a\"],[0.8888888888888888,\"#fdca26\"],[1.0,\"#f0f921\"]]}],\"surface\":[{\"type\":\"surface\",\"colorbar\":{\"outlinewidth\":0,\"ticks\":\"\"},\"colorscale\":[[0.0,\"#0d0887\"],[0.1111111111111111,\"#46039f\"],[0.2222222222222222,\"#7201a8\"],[0.3333333333333333,\"#9c179e\"],[0.4444444444444444,\"#bd3786\"],[0.5555555555555556,\"#d8576b\"],[0.6666666666666666,\"#ed7953\"],[0.7777777777777778,\"#fb9f3a\"],[0.8888888888888888,\"#fdca26\"],[1.0,\"#f0f921\"]]}],\"mesh3d\":[{\"type\":\"mesh3d\",\"colorbar\":{\"outlinewidth\":0,\"ticks\":\"\"}}],\"scatter\":[{\"fillpattern\":{\"fillmode\":\"overlay\",\"size\":10,\"solidity\":0.2},\"type\":\"scatter\"}],\"parcoords\":[{\"type\":\"parcoords\",\"line\":{\"colorbar\":{\"outlinewidth\":0,\"ticks\":\"\"}}}],\"scatterpolargl\":[{\"type\":\"scatterpolargl\",\"marker\":{\"colorbar\":{\"outlinewidth\":0,\"ticks\":\"\"}}}],\"bar\":[{\"error_x\":{\"color\":\"#2a3f5f\"},\"error_y\":{\"color\":\"#2a3f5f\"},\"marker\":{\"line\":{\"color\":\"#E5ECF6\",\"width\":0.5},\"pattern\":{\"fillmode\":\"overlay\",\"size\":10,\"solidity\":0.2}},\"type\":\"bar\"}],\"scattergeo\":[{\"type\":\"scattergeo\",\"marker\":{\"colorbar\":{\"outlinewidth\":0,\"ticks\":\"\"}}}],\"scatterpolar\":[{\"type\":\"scatterpolar\",\"marker\":{\"colorbar\":{\"outlinewidth\":0,\"ticks\":\"\"}}}],\"histogram\":[{\"marker\":{\"pattern\":{\"fillmode\":\"overlay\",\"size\":10,\"solidity\":0.2}},\"type\":\"histogram\"}],\"scattergl\":[{\"type\":\"scattergl\",\"marker\":{\"colorbar\":{\"outlinewidth\":0,\"ticks\":\"\"}}}],\"scatter3d\":[{\"type\":\"scatter3d\",\"line\":{\"colorbar\":{\"outlinewidth\":0,\"ticks\":\"\"}},\"marker\":{\"colorbar\":{\"outlinewidth\":0,\"ticks\":\"\"}}}],\"scattermapbox\":[{\"type\":\"scattermapbox\",\"marker\":{\"colorbar\":{\"outlinewidth\":0,\"ticks\":\"\"}}}],\"scatterternary\":[{\"type\":\"scatterternary\",\"marker\":{\"colorbar\":{\"outlinewidth\":0,\"ticks\":\"\"}}}],\"scattercarpet\":[{\"type\":\"scattercarpet\",\"marker\":{\"colorbar\":{\"outlinewidth\":0,\"ticks\":\"\"}}}],\"carpet\":[{\"aaxis\":{\"endlinecolor\":\"#2a3f5f\",\"gridcolor\":\"white\",\"linecolor\":\"white\",\"minorgridcolor\":\"white\",\"startlinecolor\":\"#2a3f5f\"},\"baxis\":{\"endlinecolor\":\"#2a3f5f\",\"gridcolor\":\"white\",\"linecolor\":\"white\",\"minorgridcolor\":\"white\",\"startlinecolor\":\"#2a3f5f\"},\"type\":\"carpet\"}],\"table\":[{\"cells\":{\"fill\":{\"color\":\"#EBF0F8\"},\"line\":{\"color\":\"white\"}},\"header\":{\"fill\":{\"color\":\"#C8D4E3\"},\"line\":{\"color\":\"white\"}},\"type\":\"table\"}],\"barpolar\":[{\"marker\":{\"line\":{\"color\":\"#E5ECF6\",\"width\":0.5},\"pattern\":{\"fillmode\":\"overlay\",\"size\":10,\"solidity\":0.2}},\"type\":\"barpolar\"}],\"pie\":[{\"automargin\":true,\"type\":\"pie\"}]},\"layout\":{\"autotypenumbers\":\"strict\",\"colorway\":[\"#636efa\",\"#EF553B\",\"#00cc96\",\"#ab63fa\",\"#FFA15A\",\"#19d3f3\",\"#FF6692\",\"#B6E880\",\"#FF97FF\",\"#FECB52\"],\"font\":{\"color\":\"#2a3f5f\"},\"hovermode\":\"closest\",\"hoverlabel\":{\"align\":\"left\"},\"paper_bgcolor\":\"white\",\"plot_bgcolor\":\"#E5ECF6\",\"polar\":{\"bgcolor\":\"#E5ECF6\",\"angularaxis\":{\"gridcolor\":\"white\",\"linecolor\":\"white\",\"ticks\":\"\"},\"radialaxis\":{\"gridcolor\":\"white\",\"linecolor\":\"white\",\"ticks\":\"\"}},\"ternary\":{\"bgcolor\":\"#E5ECF6\",\"aaxis\":{\"gridcolor\":\"white\",\"linecolor\":\"white\",\"ticks\":\"\"},\"baxis\":{\"gridcolor\":\"white\",\"linecolor\":\"white\",\"ticks\":\"\"},\"caxis\":{\"gridcolor\":\"white\",\"linecolor\":\"white\",\"ticks\":\"\"}},\"coloraxis\":{\"colorbar\":{\"outlinewidth\":0,\"ticks\":\"\"}},\"colorscale\":{\"sequential\":[[0.0,\"#0d0887\"],[0.1111111111111111,\"#46039f\"],[0.2222222222222222,\"#7201a8\"],[0.3333333333333333,\"#9c179e\"],[0.4444444444444444,\"#bd3786\"],[0.5555555555555556,\"#d8576b\"],[0.6666666666666666,\"#ed7953\"],[0.7777777777777778,\"#fb9f3a\"],[0.8888888888888888,\"#fdca26\"],[1.0,\"#f0f921\"]],\"sequentialminus\":[[0.0,\"#0d0887\"],[0.1111111111111111,\"#46039f\"],[0.2222222222222222,\"#7201a8\"],[0.3333333333333333,\"#9c179e\"],[0.4444444444444444,\"#bd3786\"],[0.5555555555555556,\"#d8576b\"],[0.6666666666666666,\"#ed7953\"],[0.7777777777777778,\"#fb9f3a\"],[0.8888888888888888,\"#fdca26\"],[1.0,\"#f0f921\"]],\"diverging\":[[0,\"#8e0152\"],[0.1,\"#c51b7d\"],[0.2,\"#de77ae\"],[0.3,\"#f1b6da\"],[0.4,\"#fde0ef\"],[0.5,\"#f7f7f7\"],[0.6,\"#e6f5d0\"],[0.7,\"#b8e186\"],[0.8,\"#7fbc41\"],[0.9,\"#4d9221\"],[1,\"#276419\"]]},\"xaxis\":{\"gridcolor\":\"white\",\"linecolor\":\"white\",\"ticks\":\"\",\"title\":{\"standoff\":15},\"zerolinecolor\":\"white\",\"automargin\":true,\"zerolinewidth\":2},\"yaxis\":{\"gridcolor\":\"white\",\"linecolor\":\"white\",\"ticks\":\"\",\"title\":{\"standoff\":15},\"zerolinecolor\":\"white\",\"automargin\":true,\"zerolinewidth\":2},\"scene\":{\"xaxis\":{\"backgroundcolor\":\"#E5ECF6\",\"gridcolor\":\"white\",\"linecolor\":\"white\",\"showbackground\":true,\"ticks\":\"\",\"zerolinecolor\":\"white\",\"gridwidth\":2},\"yaxis\":{\"backgroundcolor\":\"#E5ECF6\",\"gridcolor\":\"white\",\"linecolor\":\"white\",\"showbackground\":true,\"ticks\":\"\",\"zerolinecolor\":\"white\",\"gridwidth\":2},\"zaxis\":{\"backgroundcolor\":\"#E5ECF6\",\"gridcolor\":\"white\",\"linecolor\":\"white\",\"showbackground\":true,\"ticks\":\"\",\"zerolinecolor\":\"white\",\"gridwidth\":2}},\"shapedefaults\":{\"line\":{\"color\":\"#2a3f5f\"}},\"annotationdefaults\":{\"arrowcolor\":\"#2a3f5f\",\"arrowhead\":0,\"arrowwidth\":1},\"geo\":{\"bgcolor\":\"white\",\"landcolor\":\"#E5ECF6\",\"subunitcolor\":\"white\",\"showland\":true,\"showlakes\":true,\"lakecolor\":\"white\"},\"title\":{\"x\":0.05},\"mapbox\":{\"style\":\"light\"}}},\"xaxis\":{\"anchor\":\"y\",\"domain\":[0.0,1.0],\"title\":{\"text\":\"year\"}},\"yaxis\":{\"anchor\":\"x\",\"domain\":[0.0,1.0],\"title\":{\"text\":\"reward\"}},\"legend\":{\"tracegroupgap\":0},\"margin\":{\"t\":60}},                        {\"responsive\": true}                    ).then(function(){\n",
              "                            \n",
              "var gd = document.getElementById('66da64ab-7968-4908-82eb-530cfb17bc84');\n",
              "var x = new MutationObserver(function (mutations, observer) {{\n",
              "        var display = window.getComputedStyle(gd).display;\n",
              "        if (!display || display === 'none') {{\n",
              "            console.log([gd, 'removed!']);\n",
              "            Plotly.purge(gd);\n",
              "            observer.disconnect();\n",
              "        }}\n",
              "}});\n",
              "\n",
              "// Listen for the removal of the full notebook cells\n",
              "var notebookContainer = gd.closest('#notebook-container');\n",
              "if (notebookContainer) {{\n",
              "    x.observe(notebookContainer, {childList: true});\n",
              "}}\n",
              "\n",
              "// Listen for the clearing of the current output cell\n",
              "var outputEl = gd.closest('.output');\n",
              "if (outputEl) {{\n",
              "    x.observe(outputEl, {childList: true});\n",
              "}}\n",
              "\n",
              "                        })                };                            </script>        </div>\n",
              "</body>\n",
              "</html>"
            ]
          },
          "metadata": {}
        }
      ]
    },
    {
      "cell_type": "code",
      "source": [
        "sub_year_price=price_years.groupby(['subject','year']).agg('sum').reset_index()\n",
        "px.line(data_frame=sub_year_price,color='subject',y='price',text='year')"
      ],
      "metadata": {
        "colab": {
          "base_uri": "https://localhost:8080/",
          "height": 631
        },
        "id": "JawPzidmoxXk",
        "outputId": "0b99fc96-e4b7-48ff-f7d6-ce36574da1f5"
      },
      "execution_count": null,
      "outputs": [
        {
          "output_type": "stream",
          "name": "stderr",
          "text": [
            "<ipython-input-149-edeb88f1bfca>:1: FutureWarning:\n",
            "\n",
            "The default value of numeric_only in DataFrameGroupBy.sum is deprecated. In a future version, numeric_only will default to False. Either specify numeric_only or select only columns which should be valid for the function.\n",
            "\n"
          ]
        },
        {
          "output_type": "display_data",
          "data": {
            "text/html": [
              "<html>\n",
              "<head><meta charset=\"utf-8\" /></head>\n",
              "<body>\n",
              "    <div>            <script src=\"https://cdnjs.cloudflare.com/ajax/libs/mathjax/2.7.5/MathJax.js?config=TeX-AMS-MML_SVG\"></script><script type=\"text/javascript\">if (window.MathJax && window.MathJax.Hub && window.MathJax.Hub.Config) {window.MathJax.Hub.Config({SVG: {font: \"STIX-Web\"}});}</script>                <script type=\"text/javascript\">window.PlotlyConfig = {MathJaxConfig: 'local'};</script>\n",
              "        <script src=\"https://cdn.plot.ly/plotly-2.18.2.min.js\"></script>                <div id=\"73a7d1ae-1bf7-403a-8b03-81f328046746\" class=\"plotly-graph-div\" style=\"height:525px; width:100%;\"></div>            <script type=\"text/javascript\">                                    window.PLOTLYENV=window.PLOTLYENV || {};                                    if (document.getElementById(\"73a7d1ae-1bf7-403a-8b03-81f328046746\")) {                    Plotly.newPlot(                        \"73a7d1ae-1bf7-403a-8b03-81f328046746\",                        [{\"hovertemplate\":\"subject=Business Finance<br>index=%{x}<br>price=%{y}<br>year=%{text}<extra></extra>\",\"legendgroup\":\"Business Finance\",\"line\":{\"color\":\"#636efa\",\"dash\":\"solid\"},\"marker\":{\"symbol\":\"circle\"},\"mode\":\"markers+lines+text\",\"name\":\"Business Finance\",\"orientation\":\"v\",\"showlegend\":true,\"text\":[2012.0,2013.0,2014.0,2015.0,2016.0,2017.0],\"x\":[0,1,2,3,4,5],\"xaxis\":\"x\",\"y\":[255,3825,10205,23100,25450,19085],\"yaxis\":\"y\",\"type\":\"scatter\"},{\"hovertemplate\":\"subject=Graphic Design<br>index=%{x}<br>price=%{y}<br>year=%{text}<extra></extra>\",\"legendgroup\":\"Graphic Design\",\"line\":{\"color\":\"#EF553B\",\"dash\":\"solid\"},\"marker\":{\"symbol\":\"circle\"},\"mode\":\"markers+lines+text\",\"name\":\"Graphic Design\",\"orientation\":\"v\",\"showlegend\":true,\"text\":[2012.0,2013.0,2014.0,2015.0,2016.0,2017.0],\"x\":[6,7,8,9,10,11],\"xaxis\":\"x\",\"y\":[350,875,2345,10505,10675,10120],\"yaxis\":\"y\",\"type\":\"scatter\"},{\"hovertemplate\":\"subject=Musical Instruments<br>index=%{x}<br>price=%{y}<br>year=%{text}<extra></extra>\",\"legendgroup\":\"Musical Instruments\",\"line\":{\"color\":\"#00cc96\",\"dash\":\"solid\"},\"marker\":{\"symbol\":\"circle\"},\"mode\":\"markers+lines+text\",\"name\":\"Musical Instruments\",\"orientation\":\"v\",\"showlegend\":true,\"text\":[2012.0,2013.0,2014.0,2015.0,2016.0,2017.0],\"x\":[12,13,14,15,16,17],\"xaxis\":\"x\",\"y\":[415,1625,5545,8630,11735,5750],\"yaxis\":\"y\",\"type\":\"scatter\"},{\"hovertemplate\":\"subject=Web Development<br>index=%{x}<br>price=%{y}<br>year=%{text}<extra></extra>\",\"legendgroup\":\"Web Development\",\"line\":{\"color\":\"#ab63fa\",\"dash\":\"solid\"},\"marker\":{\"symbol\":\"circle\"},\"mode\":\"markers+lines+text\",\"name\":\"Web Development\",\"orientation\":\"v\",\"showlegend\":true,\"text\":[2011.0,2012.0,2013.0,2014.0,2015.0,2016.0,2017.0],\"x\":[18,19,20,21,22,23,24],\"xaxis\":\"x\",\"y\":[310,815,4535,5705,25595,36350,19130],\"yaxis\":\"y\",\"type\":\"scatter\"}],                        {\"template\":{\"data\":{\"histogram2dcontour\":[{\"type\":\"histogram2dcontour\",\"colorbar\":{\"outlinewidth\":0,\"ticks\":\"\"},\"colorscale\":[[0.0,\"#0d0887\"],[0.1111111111111111,\"#46039f\"],[0.2222222222222222,\"#7201a8\"],[0.3333333333333333,\"#9c179e\"],[0.4444444444444444,\"#bd3786\"],[0.5555555555555556,\"#d8576b\"],[0.6666666666666666,\"#ed7953\"],[0.7777777777777778,\"#fb9f3a\"],[0.8888888888888888,\"#fdca26\"],[1.0,\"#f0f921\"]]}],\"choropleth\":[{\"type\":\"choropleth\",\"colorbar\":{\"outlinewidth\":0,\"ticks\":\"\"}}],\"histogram2d\":[{\"type\":\"histogram2d\",\"colorbar\":{\"outlinewidth\":0,\"ticks\":\"\"},\"colorscale\":[[0.0,\"#0d0887\"],[0.1111111111111111,\"#46039f\"],[0.2222222222222222,\"#7201a8\"],[0.3333333333333333,\"#9c179e\"],[0.4444444444444444,\"#bd3786\"],[0.5555555555555556,\"#d8576b\"],[0.6666666666666666,\"#ed7953\"],[0.7777777777777778,\"#fb9f3a\"],[0.8888888888888888,\"#fdca26\"],[1.0,\"#f0f921\"]]}],\"heatmap\":[{\"type\":\"heatmap\",\"colorbar\":{\"outlinewidth\":0,\"ticks\":\"\"},\"colorscale\":[[0.0,\"#0d0887\"],[0.1111111111111111,\"#46039f\"],[0.2222222222222222,\"#7201a8\"],[0.3333333333333333,\"#9c179e\"],[0.4444444444444444,\"#bd3786\"],[0.5555555555555556,\"#d8576b\"],[0.6666666666666666,\"#ed7953\"],[0.7777777777777778,\"#fb9f3a\"],[0.8888888888888888,\"#fdca26\"],[1.0,\"#f0f921\"]]}],\"heatmapgl\":[{\"type\":\"heatmapgl\",\"colorbar\":{\"outlinewidth\":0,\"ticks\":\"\"},\"colorscale\":[[0.0,\"#0d0887\"],[0.1111111111111111,\"#46039f\"],[0.2222222222222222,\"#7201a8\"],[0.3333333333333333,\"#9c179e\"],[0.4444444444444444,\"#bd3786\"],[0.5555555555555556,\"#d8576b\"],[0.6666666666666666,\"#ed7953\"],[0.7777777777777778,\"#fb9f3a\"],[0.8888888888888888,\"#fdca26\"],[1.0,\"#f0f921\"]]}],\"contourcarpet\":[{\"type\":\"contourcarpet\",\"colorbar\":{\"outlinewidth\":0,\"ticks\":\"\"}}],\"contour\":[{\"type\":\"contour\",\"colorbar\":{\"outlinewidth\":0,\"ticks\":\"\"},\"colorscale\":[[0.0,\"#0d0887\"],[0.1111111111111111,\"#46039f\"],[0.2222222222222222,\"#7201a8\"],[0.3333333333333333,\"#9c179e\"],[0.4444444444444444,\"#bd3786\"],[0.5555555555555556,\"#d8576b\"],[0.6666666666666666,\"#ed7953\"],[0.7777777777777778,\"#fb9f3a\"],[0.8888888888888888,\"#fdca26\"],[1.0,\"#f0f921\"]]}],\"surface\":[{\"type\":\"surface\",\"colorbar\":{\"outlinewidth\":0,\"ticks\":\"\"},\"colorscale\":[[0.0,\"#0d0887\"],[0.1111111111111111,\"#46039f\"],[0.2222222222222222,\"#7201a8\"],[0.3333333333333333,\"#9c179e\"],[0.4444444444444444,\"#bd3786\"],[0.5555555555555556,\"#d8576b\"],[0.6666666666666666,\"#ed7953\"],[0.7777777777777778,\"#fb9f3a\"],[0.8888888888888888,\"#fdca26\"],[1.0,\"#f0f921\"]]}],\"mesh3d\":[{\"type\":\"mesh3d\",\"colorbar\":{\"outlinewidth\":0,\"ticks\":\"\"}}],\"scatter\":[{\"fillpattern\":{\"fillmode\":\"overlay\",\"size\":10,\"solidity\":0.2},\"type\":\"scatter\"}],\"parcoords\":[{\"type\":\"parcoords\",\"line\":{\"colorbar\":{\"outlinewidth\":0,\"ticks\":\"\"}}}],\"scatterpolargl\":[{\"type\":\"scatterpolargl\",\"marker\":{\"colorbar\":{\"outlinewidth\":0,\"ticks\":\"\"}}}],\"bar\":[{\"error_x\":{\"color\":\"#2a3f5f\"},\"error_y\":{\"color\":\"#2a3f5f\"},\"marker\":{\"line\":{\"color\":\"#E5ECF6\",\"width\":0.5},\"pattern\":{\"fillmode\":\"overlay\",\"size\":10,\"solidity\":0.2}},\"type\":\"bar\"}],\"scattergeo\":[{\"type\":\"scattergeo\",\"marker\":{\"colorbar\":{\"outlinewidth\":0,\"ticks\":\"\"}}}],\"scatterpolar\":[{\"type\":\"scatterpolar\",\"marker\":{\"colorbar\":{\"outlinewidth\":0,\"ticks\":\"\"}}}],\"histogram\":[{\"marker\":{\"pattern\":{\"fillmode\":\"overlay\",\"size\":10,\"solidity\":0.2}},\"type\":\"histogram\"}],\"scattergl\":[{\"type\":\"scattergl\",\"marker\":{\"colorbar\":{\"outlinewidth\":0,\"ticks\":\"\"}}}],\"scatter3d\":[{\"type\":\"scatter3d\",\"line\":{\"colorbar\":{\"outlinewidth\":0,\"ticks\":\"\"}},\"marker\":{\"colorbar\":{\"outlinewidth\":0,\"ticks\":\"\"}}}],\"scattermapbox\":[{\"type\":\"scattermapbox\",\"marker\":{\"colorbar\":{\"outlinewidth\":0,\"ticks\":\"\"}}}],\"scatterternary\":[{\"type\":\"scatterternary\",\"marker\":{\"colorbar\":{\"outlinewidth\":0,\"ticks\":\"\"}}}],\"scattercarpet\":[{\"type\":\"scattercarpet\",\"marker\":{\"colorbar\":{\"outlinewidth\":0,\"ticks\":\"\"}}}],\"carpet\":[{\"aaxis\":{\"endlinecolor\":\"#2a3f5f\",\"gridcolor\":\"white\",\"linecolor\":\"white\",\"minorgridcolor\":\"white\",\"startlinecolor\":\"#2a3f5f\"},\"baxis\":{\"endlinecolor\":\"#2a3f5f\",\"gridcolor\":\"white\",\"linecolor\":\"white\",\"minorgridcolor\":\"white\",\"startlinecolor\":\"#2a3f5f\"},\"type\":\"carpet\"}],\"table\":[{\"cells\":{\"fill\":{\"color\":\"#EBF0F8\"},\"line\":{\"color\":\"white\"}},\"header\":{\"fill\":{\"color\":\"#C8D4E3\"},\"line\":{\"color\":\"white\"}},\"type\":\"table\"}],\"barpolar\":[{\"marker\":{\"line\":{\"color\":\"#E5ECF6\",\"width\":0.5},\"pattern\":{\"fillmode\":\"overlay\",\"size\":10,\"solidity\":0.2}},\"type\":\"barpolar\"}],\"pie\":[{\"automargin\":true,\"type\":\"pie\"}]},\"layout\":{\"autotypenumbers\":\"strict\",\"colorway\":[\"#636efa\",\"#EF553B\",\"#00cc96\",\"#ab63fa\",\"#FFA15A\",\"#19d3f3\",\"#FF6692\",\"#B6E880\",\"#FF97FF\",\"#FECB52\"],\"font\":{\"color\":\"#2a3f5f\"},\"hovermode\":\"closest\",\"hoverlabel\":{\"align\":\"left\"},\"paper_bgcolor\":\"white\",\"plot_bgcolor\":\"#E5ECF6\",\"polar\":{\"bgcolor\":\"#E5ECF6\",\"angularaxis\":{\"gridcolor\":\"white\",\"linecolor\":\"white\",\"ticks\":\"\"},\"radialaxis\":{\"gridcolor\":\"white\",\"linecolor\":\"white\",\"ticks\":\"\"}},\"ternary\":{\"bgcolor\":\"#E5ECF6\",\"aaxis\":{\"gridcolor\":\"white\",\"linecolor\":\"white\",\"ticks\":\"\"},\"baxis\":{\"gridcolor\":\"white\",\"linecolor\":\"white\",\"ticks\":\"\"},\"caxis\":{\"gridcolor\":\"white\",\"linecolor\":\"white\",\"ticks\":\"\"}},\"coloraxis\":{\"colorbar\":{\"outlinewidth\":0,\"ticks\":\"\"}},\"colorscale\":{\"sequential\":[[0.0,\"#0d0887\"],[0.1111111111111111,\"#46039f\"],[0.2222222222222222,\"#7201a8\"],[0.3333333333333333,\"#9c179e\"],[0.4444444444444444,\"#bd3786\"],[0.5555555555555556,\"#d8576b\"],[0.6666666666666666,\"#ed7953\"],[0.7777777777777778,\"#fb9f3a\"],[0.8888888888888888,\"#fdca26\"],[1.0,\"#f0f921\"]],\"sequentialminus\":[[0.0,\"#0d0887\"],[0.1111111111111111,\"#46039f\"],[0.2222222222222222,\"#7201a8\"],[0.3333333333333333,\"#9c179e\"],[0.4444444444444444,\"#bd3786\"],[0.5555555555555556,\"#d8576b\"],[0.6666666666666666,\"#ed7953\"],[0.7777777777777778,\"#fb9f3a\"],[0.8888888888888888,\"#fdca26\"],[1.0,\"#f0f921\"]],\"diverging\":[[0,\"#8e0152\"],[0.1,\"#c51b7d\"],[0.2,\"#de77ae\"],[0.3,\"#f1b6da\"],[0.4,\"#fde0ef\"],[0.5,\"#f7f7f7\"],[0.6,\"#e6f5d0\"],[0.7,\"#b8e186\"],[0.8,\"#7fbc41\"],[0.9,\"#4d9221\"],[1,\"#276419\"]]},\"xaxis\":{\"gridcolor\":\"white\",\"linecolor\":\"white\",\"ticks\":\"\",\"title\":{\"standoff\":15},\"zerolinecolor\":\"white\",\"automargin\":true,\"zerolinewidth\":2},\"yaxis\":{\"gridcolor\":\"white\",\"linecolor\":\"white\",\"ticks\":\"\",\"title\":{\"standoff\":15},\"zerolinecolor\":\"white\",\"automargin\":true,\"zerolinewidth\":2},\"scene\":{\"xaxis\":{\"backgroundcolor\":\"#E5ECF6\",\"gridcolor\":\"white\",\"linecolor\":\"white\",\"showbackground\":true,\"ticks\":\"\",\"zerolinecolor\":\"white\",\"gridwidth\":2},\"yaxis\":{\"backgroundcolor\":\"#E5ECF6\",\"gridcolor\":\"white\",\"linecolor\":\"white\",\"showbackground\":true,\"ticks\":\"\",\"zerolinecolor\":\"white\",\"gridwidth\":2},\"zaxis\":{\"backgroundcolor\":\"#E5ECF6\",\"gridcolor\":\"white\",\"linecolor\":\"white\",\"showbackground\":true,\"ticks\":\"\",\"zerolinecolor\":\"white\",\"gridwidth\":2}},\"shapedefaults\":{\"line\":{\"color\":\"#2a3f5f\"}},\"annotationdefaults\":{\"arrowcolor\":\"#2a3f5f\",\"arrowhead\":0,\"arrowwidth\":1},\"geo\":{\"bgcolor\":\"white\",\"landcolor\":\"#E5ECF6\",\"subunitcolor\":\"white\",\"showland\":true,\"showlakes\":true,\"lakecolor\":\"white\"},\"title\":{\"x\":0.05},\"mapbox\":{\"style\":\"light\"}}},\"xaxis\":{\"anchor\":\"y\",\"domain\":[0.0,1.0],\"title\":{\"text\":\"index\"}},\"yaxis\":{\"anchor\":\"x\",\"domain\":[0.0,1.0],\"title\":{\"text\":\"price\"}},\"legend\":{\"title\":{\"text\":\"subject\"},\"tracegroupgap\":0},\"margin\":{\"t\":60}},                        {\"responsive\": true}                    ).then(function(){\n",
              "                            \n",
              "var gd = document.getElementById('73a7d1ae-1bf7-403a-8b03-81f328046746');\n",
              "var x = new MutationObserver(function (mutations, observer) {{\n",
              "        var display = window.getComputedStyle(gd).display;\n",
              "        if (!display || display === 'none') {{\n",
              "            console.log([gd, 'removed!']);\n",
              "            Plotly.purge(gd);\n",
              "            observer.disconnect();\n",
              "        }}\n",
              "}});\n",
              "\n",
              "// Listen for the removal of the full notebook cells\n",
              "var notebookContainer = gd.closest('#notebook-container');\n",
              "if (notebookContainer) {{\n",
              "    x.observe(notebookContainer, {childList: true});\n",
              "}}\n",
              "\n",
              "// Listen for the clearing of the current output cell\n",
              "var outputEl = gd.closest('.output');\n",
              "if (outputEl) {{\n",
              "    x.observe(outputEl, {childList: true});\n",
              "}}\n",
              "\n",
              "                        })                };                            </script>        </div>\n",
              "</body>\n",
              "</html>"
            ]
          },
          "metadata": {}
        }
      ]
    },
    {
      "cell_type": "code",
      "source": [],
      "metadata": {
        "id": "t1AX052Os5UR"
      },
      "execution_count": null,
      "outputs": []
    }
  ]
}